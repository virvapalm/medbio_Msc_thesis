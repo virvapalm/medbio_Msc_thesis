{
 "cells": [
  {
   "cell_type": "markdown",
   "id": "79ef7c52-3b5a-409f-8824-1e1b4f4d6ad9",
   "metadata": {},
   "source": [
    "# File for Severe vs Non Severe PNC"
   ]
  },
  {
   "cell_type": "code",
   "execution_count": 1,
   "id": "555872a0-36f5-42c7-8d18-8be5d404991e",
   "metadata": {},
   "outputs": [],
   "source": [
    "import pandas as pd\n",
    "\n",
    "pnc_data = pd.read_csv(\"../BINN_elin/data/pnc_data.csv\", sep=\",\")\n",
    "translation = pd.read_csv(\"../BINN_elin/data/translation.csv\", sep=\",\")\n",
    "pathways = pd.read_csv(\"../BINN_elin/data/pathway.csv\", sep=\",\")\n",
    "\n"
   ]
  },
  {
   "cell_type": "code",
   "execution_count": 2,
   "id": "8cd9d760-4ed2-4640-b4d1-8aa810deeab5",
   "metadata": {},
   "outputs": [
    {
     "data": {
      "text/html": [
       "<div>\n",
       "<style scoped>\n",
       "    .dataframe tbody tr th:only-of-type {\n",
       "        vertical-align: middle;\n",
       "    }\n",
       "\n",
       "    .dataframe tbody tr th {\n",
       "        vertical-align: top;\n",
       "    }\n",
       "\n",
       "    .dataframe thead th {\n",
       "        text-align: right;\n",
       "    }\n",
       "</style>\n",
       "<table border=\"1\" class=\"dataframe\">\n",
       "  <thead>\n",
       "    <tr style=\"text-align: right;\">\n",
       "      <th></th>\n",
       "      <th>UniProt</th>\n",
       "      <th>DA07428</th>\n",
       "      <th>DA08797</th>\n",
       "      <th>DA08787</th>\n",
       "      <th>DA07439</th>\n",
       "      <th>DA07464</th>\n",
       "      <th>DA07415</th>\n",
       "      <th>DA09159</th>\n",
       "      <th>DA07469</th>\n",
       "      <th>DA07451</th>\n",
       "      <th>...</th>\n",
       "      <th>DA09160</th>\n",
       "      <th>DA09212</th>\n",
       "      <th>DA09218</th>\n",
       "      <th>DA09205</th>\n",
       "      <th>DA09197</th>\n",
       "      <th>DA07422</th>\n",
       "      <th>DA09178</th>\n",
       "      <th>DA09193</th>\n",
       "      <th>DA09181</th>\n",
       "      <th>DA09158</th>\n",
       "    </tr>\n",
       "  </thead>\n",
       "  <tbody>\n",
       "    <tr>\n",
       "      <th>0</th>\n",
       "      <td>A1E959</td>\n",
       "      <td>0.79845</td>\n",
       "      <td>0.08115</td>\n",
       "      <td>0.58825</td>\n",
       "      <td>1.34445</td>\n",
       "      <td>-0.87885</td>\n",
       "      <td>-0.25615</td>\n",
       "      <td>0.05475</td>\n",
       "      <td>0.82135</td>\n",
       "      <td>0.64405</td>\n",
       "      <td>...</td>\n",
       "      <td>0.58615</td>\n",
       "      <td>1.66735</td>\n",
       "      <td>0.90695</td>\n",
       "      <td>3.28665</td>\n",
       "      <td>2.93295</td>\n",
       "      <td>0.03585</td>\n",
       "      <td>-0.44425</td>\n",
       "      <td>1.18185</td>\n",
       "      <td>0.12285</td>\n",
       "      <td>0.22045</td>\n",
       "    </tr>\n",
       "    <tr>\n",
       "      <th>1</th>\n",
       "      <td>O00548</td>\n",
       "      <td>2.02945</td>\n",
       "      <td>0.90425</td>\n",
       "      <td>0.59295</td>\n",
       "      <td>1.59835</td>\n",
       "      <td>0.36645</td>\n",
       "      <td>1.13885</td>\n",
       "      <td>-0.15775</td>\n",
       "      <td>0.09555</td>\n",
       "      <td>0.75185</td>\n",
       "      <td>...</td>\n",
       "      <td>1.43495</td>\n",
       "      <td>1.77255</td>\n",
       "      <td>2.76175</td>\n",
       "      <td>0.48155</td>\n",
       "      <td>1.90005</td>\n",
       "      <td>1.59035</td>\n",
       "      <td>0.49575</td>\n",
       "      <td>1.18025</td>\n",
       "      <td>1.21535</td>\n",
       "      <td>0.82645</td>\n",
       "    </tr>\n",
       "    <tr>\n",
       "      <th>2</th>\n",
       "      <td>O00622</td>\n",
       "      <td>2.65145</td>\n",
       "      <td>4.05815</td>\n",
       "      <td>2.13995</td>\n",
       "      <td>3.52915</td>\n",
       "      <td>4.75345</td>\n",
       "      <td>2.19695</td>\n",
       "      <td>0.74515</td>\n",
       "      <td>4.48955</td>\n",
       "      <td>2.22265</td>\n",
       "      <td>...</td>\n",
       "      <td>2.44325</td>\n",
       "      <td>0.34665</td>\n",
       "      <td>0.96365</td>\n",
       "      <td>1.88455</td>\n",
       "      <td>-0.13875</td>\n",
       "      <td>0.42615</td>\n",
       "      <td>0.68325</td>\n",
       "      <td>0.58635</td>\n",
       "      <td>0.95875</td>\n",
       "      <td>0.05665</td>\n",
       "    </tr>\n",
       "    <tr>\n",
       "      <th>3</th>\n",
       "      <td>O14793</td>\n",
       "      <td>-1.60670</td>\n",
       "      <td>-1.72950</td>\n",
       "      <td>-2.03200</td>\n",
       "      <td>-2.63390</td>\n",
       "      <td>0.26740</td>\n",
       "      <td>0.79990</td>\n",
       "      <td>-0.31150</td>\n",
       "      <td>0.61690</td>\n",
       "      <td>-2.83250</td>\n",
       "      <td>...</td>\n",
       "      <td>-0.54275</td>\n",
       "      <td>-0.31545</td>\n",
       "      <td>-3.12745</td>\n",
       "      <td>0.18375</td>\n",
       "      <td>-1.17305</td>\n",
       "      <td>-1.76655</td>\n",
       "      <td>-1.37945</td>\n",
       "      <td>0.30935</td>\n",
       "      <td>-1.07895</td>\n",
       "      <td>0.16275</td>\n",
       "    </tr>\n",
       "    <tr>\n",
       "      <th>4</th>\n",
       "      <td>O14836</td>\n",
       "      <td>1.49850</td>\n",
       "      <td>0.30470</td>\n",
       "      <td>0.05890</td>\n",
       "      <td>1.58290</td>\n",
       "      <td>0.79550</td>\n",
       "      <td>0.83940</td>\n",
       "      <td>0.52970</td>\n",
       "      <td>0.50080</td>\n",
       "      <td>-0.04680</td>\n",
       "      <td>...</td>\n",
       "      <td>0.83860</td>\n",
       "      <td>1.13640</td>\n",
       "      <td>2.29180</td>\n",
       "      <td>-1.34140</td>\n",
       "      <td>1.05220</td>\n",
       "      <td>1.33980</td>\n",
       "      <td>0.62680</td>\n",
       "      <td>5.12380</td>\n",
       "      <td>-0.06780</td>\n",
       "      <td>-0.14720</td>\n",
       "    </tr>\n",
       "  </tbody>\n",
       "</table>\n",
       "<p>5 rows × 53 columns</p>\n",
       "</div>"
      ],
      "text/plain": [
       "  UniProt  DA07428  DA08797  DA08787  DA07439  DA07464  DA07415  DA09159  \\\n",
       "0  A1E959  0.79845  0.08115  0.58825  1.34445 -0.87885 -0.25615  0.05475   \n",
       "1  O00548  2.02945  0.90425  0.59295  1.59835  0.36645  1.13885 -0.15775   \n",
       "2  O00622  2.65145  4.05815  2.13995  3.52915  4.75345  2.19695  0.74515   \n",
       "3  O14793 -1.60670 -1.72950 -2.03200 -2.63390  0.26740  0.79990 -0.31150   \n",
       "4  O14836  1.49850  0.30470  0.05890  1.58290  0.79550  0.83940  0.52970   \n",
       "\n",
       "   DA07469  DA07451  ...  DA09160  DA09212  DA09218  DA09205  DA09197  \\\n",
       "0  0.82135  0.64405  ...  0.58615  1.66735  0.90695  3.28665  2.93295   \n",
       "1  0.09555  0.75185  ...  1.43495  1.77255  2.76175  0.48155  1.90005   \n",
       "2  4.48955  2.22265  ...  2.44325  0.34665  0.96365  1.88455 -0.13875   \n",
       "3  0.61690 -2.83250  ... -0.54275 -0.31545 -3.12745  0.18375 -1.17305   \n",
       "4  0.50080 -0.04680  ...  0.83860  1.13640  2.29180 -1.34140  1.05220   \n",
       "\n",
       "   DA07422  DA09178  DA09193  DA09181  DA09158  \n",
       "0  0.03585 -0.44425  1.18185  0.12285  0.22045  \n",
       "1  1.59035  0.49575  1.18025  1.21535  0.82645  \n",
       "2  0.42615  0.68325  0.58635  0.95875  0.05665  \n",
       "3 -1.76655 -1.37945  0.30935 -1.07895  0.16275  \n",
       "4  1.33980  0.62680  5.12380 -0.06780 -0.14720  \n",
       "\n",
       "[5 rows x 53 columns]"
      ]
     },
     "execution_count": 2,
     "metadata": {},
     "output_type": "execute_result"
    }
   ],
   "source": [
    "#sps_data.head()\n",
    "pnc_data.head()"
   ]
  },
  {
   "cell_type": "code",
   "execution_count": 3,
   "id": "f2f1ff2f-9c5a-461e-88cb-86af627c514b",
   "metadata": {},
   "outputs": [
    {
     "data": {
      "text/html": [
       "<div>\n",
       "<style scoped>\n",
       "    .dataframe tbody tr th:only-of-type {\n",
       "        vertical-align: middle;\n",
       "    }\n",
       "\n",
       "    .dataframe tbody tr th {\n",
       "        vertical-align: top;\n",
       "    }\n",
       "\n",
       "    .dataframe thead th {\n",
       "        text-align: right;\n",
       "    }\n",
       "</style>\n",
       "<table border=\"1\" class=\"dataframe\">\n",
       "  <thead>\n",
       "    <tr style=\"text-align: right;\">\n",
       "      <th></th>\n",
       "      <th>target</th>\n",
       "      <th>source</th>\n",
       "    </tr>\n",
       "  </thead>\n",
       "  <tbody>\n",
       "    <tr>\n",
       "      <th>0</th>\n",
       "      <td>R-HSA-109704</td>\n",
       "      <td>R-HSA-109703</td>\n",
       "    </tr>\n",
       "    <tr>\n",
       "      <th>1</th>\n",
       "      <td>R-HSA-109704</td>\n",
       "      <td>R-HSA-165158</td>\n",
       "    </tr>\n",
       "    <tr>\n",
       "      <th>2</th>\n",
       "      <td>R-HSA-1181150</td>\n",
       "      <td>R-HSA-1433617</td>\n",
       "    </tr>\n",
       "    <tr>\n",
       "      <th>3</th>\n",
       "      <td>R-HSA-1227986</td>\n",
       "      <td>R-HSA-1250196</td>\n",
       "    </tr>\n",
       "    <tr>\n",
       "      <th>4</th>\n",
       "      <td>R-HSA-1227986</td>\n",
       "      <td>R-HSA-1251932</td>\n",
       "    </tr>\n",
       "  </tbody>\n",
       "</table>\n",
       "</div>"
      ],
      "text/plain": [
       "          target         source\n",
       "0   R-HSA-109704   R-HSA-109703\n",
       "1   R-HSA-109704   R-HSA-165158\n",
       "2  R-HSA-1181150  R-HSA-1433617\n",
       "3  R-HSA-1227986  R-HSA-1250196\n",
       "4  R-HSA-1227986  R-HSA-1251932"
      ]
     },
     "execution_count": 3,
     "metadata": {},
     "output_type": "execute_result"
    }
   ],
   "source": [
    "pathways.head()\n",
    "#sps_pathways.shape"
   ]
  },
  {
   "cell_type": "code",
   "execution_count": 4,
   "id": "59f9ec44-cb6f-4298-b4f5-1f62c435b417",
   "metadata": {},
   "outputs": [
    {
     "data": {
      "text/html": [
       "<div>\n",
       "<style scoped>\n",
       "    .dataframe tbody tr th:only-of-type {\n",
       "        vertical-align: middle;\n",
       "    }\n",
       "\n",
       "    .dataframe tbody tr th {\n",
       "        vertical-align: top;\n",
       "    }\n",
       "\n",
       "    .dataframe thead th {\n",
       "        text-align: right;\n",
       "    }\n",
       "</style>\n",
       "<table border=\"1\" class=\"dataframe\">\n",
       "  <thead>\n",
       "    <tr style=\"text-align: right;\">\n",
       "      <th></th>\n",
       "      <th>input</th>\n",
       "      <th>translation</th>\n",
       "    </tr>\n",
       "  </thead>\n",
       "  <tbody>\n",
       "    <tr>\n",
       "      <th>0</th>\n",
       "      <td>A1E959</td>\n",
       "      <td>R-HSA-977225</td>\n",
       "    </tr>\n",
       "    <tr>\n",
       "      <th>1</th>\n",
       "      <td>O00548</td>\n",
       "      <td>R-HSA-2122948</td>\n",
       "    </tr>\n",
       "    <tr>\n",
       "      <th>2</th>\n",
       "      <td>O00548</td>\n",
       "      <td>R-HSA-2644606</td>\n",
       "    </tr>\n",
       "    <tr>\n",
       "      <th>3</th>\n",
       "      <td>O00548</td>\n",
       "      <td>R-HSA-2660826</td>\n",
       "    </tr>\n",
       "    <tr>\n",
       "      <th>4</th>\n",
       "      <td>O00548</td>\n",
       "      <td>R-HSA-2691232</td>\n",
       "    </tr>\n",
       "  </tbody>\n",
       "</table>\n",
       "</div>"
      ],
      "text/plain": [
       "    input    translation\n",
       "0  A1E959   R-HSA-977225\n",
       "1  O00548  R-HSA-2122948\n",
       "2  O00548  R-HSA-2644606\n",
       "3  O00548  R-HSA-2660826\n",
       "4  O00548  R-HSA-2691232"
      ]
     },
     "execution_count": 4,
     "metadata": {},
     "output_type": "execute_result"
    }
   ],
   "source": [
    "translation.head()\n",
    "#sps_pathways.shape"
   ]
  },
  {
   "cell_type": "code",
   "execution_count": 5,
   "id": "1b57c2fb-d130-4535-a872-865b0e7c43fa",
   "metadata": {},
   "outputs": [
    {
     "name": "stderr",
     "output_type": "stream",
     "text": [
      "IProgress not found. Please update jupyter and ipywidgets. See https://ipywidgets.readthedocs.io/en/stable/user_install.html\n"
     ]
    }
   ],
   "source": [
    "from  binn import Network\n",
    "network_pnc = Network( \n",
    "    input_data=pnc_data,\n",
    "    pathways=pathways,\n",
    "    mapping=translation,\n",
    "    input_data_column = \"UniProt\", # specify the column for entities in input data\n",
    "    source_column = \"source\", # defined by our pathways-file\n",
    "    target_column = \"target\"\n",
    ")"
   ]
  },
  {
   "cell_type": "code",
   "execution_count": 6,
   "id": "526169a4-aa6e-4abf-a6f9-6a982d27f56b",
   "metadata": {},
   "outputs": [
    {
     "name": "stdout",
     "output_type": "stream",
     "text": [
      "\n",
      "BINN is on the device: cpu\n"
     ]
    },
    {
     "data": {
      "text/plain": [
       "Sequential(\n",
       "  (Layer_0): Linear(in_features=36, out_features=52, bias=True)\n",
       "  (BatchNorm_0): BatchNorm1d(52, eps=1e-05, momentum=0.1, affine=True, track_running_stats=True)\n",
       "  (Dropout_0): Dropout(p=0.2, inplace=False)\n",
       "  (Tanh 0): Tanh()\n",
       "  (Layer_1): Linear(in_features=52, out_features=29, bias=True)\n",
       "  (BatchNorm_1): BatchNorm1d(29, eps=1e-05, momentum=0.1, affine=True, track_running_stats=True)\n",
       "  (Dropout_1): Dropout(p=0.2, inplace=False)\n",
       "  (Tanh 1): Tanh()\n",
       "  (Output layer): Linear(in_features=29, out_features=2, bias=True)\n",
       ")"
      ]
     },
     "execution_count": 6,
     "metadata": {},
     "output_type": "execute_result"
    }
   ],
   "source": [
    "from binn import BINN\n",
    "\n",
    "binn_pnc = BINN(\n",
    "    network=network_pnc,\n",
    "    n_layers=2,\n",
    "    dropout=0.2,\n",
    "    validate=False,\n",
    "    device=\"cpu\",\n",
    "    learning_rate=0.001,\n",
    "    )\n",
    "binn_pnc.layers"
   ]
  },
  {
   "cell_type": "code",
   "execution_count": null,
   "id": "ce6866db-9fcf-4691-b5e5-c4c936202891",
   "metadata": {},
   "outputs": [],
   "source": [
    "binn_pnc.trainable_params"
   ]
  },
  {
   "cell_type": "code",
   "execution_count": null,
   "id": "ba27e279-b630-4fb9-9861-bb639aebb41b",
   "metadata": {},
   "outputs": [],
   "source": [
    "layers = binn_pnc.layer_names\n",
    "layers[0][0]"
   ]
  },
  {
   "cell_type": "code",
   "execution_count": 4,
   "id": "5f2136b4-52a1-4c03-8e12-84de9e4dacb4",
   "metadata": {},
   "outputs": [],
   "source": [
    "design_matrix_pnc = pd.read_csv(\"data/pnc_design_matrix.csv\", sep=',')\n",
    "#design_matrix_pnc"
   ]
  },
  {
   "cell_type": "code",
   "execution_count": 6,
   "id": "8cbfcfb9-6a0f-4ae1-90da-00dffec6d8ba",
   "metadata": {},
   "outputs": [],
   "source": [
    "from docs.util_for_examples import fit_data_matrix_to_network_input, generate_data\n",
    "import torch\n",
    "from lightning.pytorch import Trainer\n",
    "\n"
   ]
  },
  {
   "cell_type": "code",
   "execution_count": null,
   "id": "bebd5362-d2f1-44c9-a126-057445115bbc",
   "metadata": {},
   "outputs": [],
   "source": [
    "print(network_pnc.inputs[:10])\n",
    "print(pnc_data.head())\n"
   ]
  },
  {
   "cell_type": "code",
   "execution_count": 15,
   "id": "aca2c5fd-af18-46fe-bbf1-323210e1d483",
   "metadata": {},
   "outputs": [
    {
     "data": {
      "text/html": [
       "<div>\n",
       "<style scoped>\n",
       "    .dataframe tbody tr th:only-of-type {\n",
       "        vertical-align: middle;\n",
       "    }\n",
       "\n",
       "    .dataframe tbody tr th {\n",
       "        vertical-align: top;\n",
       "    }\n",
       "\n",
       "    .dataframe thead th {\n",
       "        text-align: right;\n",
       "    }\n",
       "</style>\n",
       "<table border=\"1\" class=\"dataframe\">\n",
       "  <thead>\n",
       "    <tr style=\"text-align: right;\">\n",
       "      <th></th>\n",
       "      <th>DA07428</th>\n",
       "      <th>DA08797</th>\n",
       "      <th>DA08787</th>\n",
       "      <th>DA07439</th>\n",
       "      <th>DA07464</th>\n",
       "      <th>DA07415</th>\n",
       "      <th>DA09159</th>\n",
       "      <th>DA07469</th>\n",
       "      <th>DA07451</th>\n",
       "      <th>DA08785</th>\n",
       "      <th>...</th>\n",
       "      <th>DA09160</th>\n",
       "      <th>DA09212</th>\n",
       "      <th>DA09218</th>\n",
       "      <th>DA09205</th>\n",
       "      <th>DA09197</th>\n",
       "      <th>DA07422</th>\n",
       "      <th>DA09178</th>\n",
       "      <th>DA09193</th>\n",
       "      <th>DA09181</th>\n",
       "      <th>DA09158</th>\n",
       "    </tr>\n",
       "    <tr>\n",
       "      <th>UniProt</th>\n",
       "      <th></th>\n",
       "      <th></th>\n",
       "      <th></th>\n",
       "      <th></th>\n",
       "      <th></th>\n",
       "      <th></th>\n",
       "      <th></th>\n",
       "      <th></th>\n",
       "      <th></th>\n",
       "      <th></th>\n",
       "      <th></th>\n",
       "      <th></th>\n",
       "      <th></th>\n",
       "      <th></th>\n",
       "      <th></th>\n",
       "      <th></th>\n",
       "      <th></th>\n",
       "      <th></th>\n",
       "      <th></th>\n",
       "      <th></th>\n",
       "      <th></th>\n",
       "    </tr>\n",
       "  </thead>\n",
       "  <tbody>\n",
       "    <tr>\n",
       "      <th>O00548</th>\n",
       "      <td>2.02945</td>\n",
       "      <td>0.90425</td>\n",
       "      <td>0.59295</td>\n",
       "      <td>1.59835</td>\n",
       "      <td>0.36645</td>\n",
       "      <td>1.13885</td>\n",
       "      <td>-0.15775</td>\n",
       "      <td>0.09555</td>\n",
       "      <td>0.75185</td>\n",
       "      <td>0.85435</td>\n",
       "      <td>...</td>\n",
       "      <td>1.43495</td>\n",
       "      <td>1.77255</td>\n",
       "      <td>2.76175</td>\n",
       "      <td>0.48155</td>\n",
       "      <td>1.90005</td>\n",
       "      <td>1.59035</td>\n",
       "      <td>0.49575</td>\n",
       "      <td>1.18025</td>\n",
       "      <td>1.21535</td>\n",
       "      <td>0.82645</td>\n",
       "    </tr>\n",
       "    <tr>\n",
       "      <th>O14836</th>\n",
       "      <td>1.49850</td>\n",
       "      <td>0.30470</td>\n",
       "      <td>0.05890</td>\n",
       "      <td>1.58290</td>\n",
       "      <td>0.79550</td>\n",
       "      <td>0.83940</td>\n",
       "      <td>0.52970</td>\n",
       "      <td>0.50080</td>\n",
       "      <td>-0.04680</td>\n",
       "      <td>0.57370</td>\n",
       "      <td>...</td>\n",
       "      <td>0.83860</td>\n",
       "      <td>1.13640</td>\n",
       "      <td>2.29180</td>\n",
       "      <td>-1.34140</td>\n",
       "      <td>1.05220</td>\n",
       "      <td>1.33980</td>\n",
       "      <td>0.62680</td>\n",
       "      <td>5.12380</td>\n",
       "      <td>-0.06780</td>\n",
       "      <td>-0.14720</td>\n",
       "    </tr>\n",
       "    <tr>\n",
       "      <th>O43557</th>\n",
       "      <td>1.64590</td>\n",
       "      <td>1.90780</td>\n",
       "      <td>2.55540</td>\n",
       "      <td>2.70160</td>\n",
       "      <td>0.48820</td>\n",
       "      <td>2.53680</td>\n",
       "      <td>1.88320</td>\n",
       "      <td>-0.70820</td>\n",
       "      <td>1.44260</td>\n",
       "      <td>2.07580</td>\n",
       "      <td>...</td>\n",
       "      <td>3.68570</td>\n",
       "      <td>2.43940</td>\n",
       "      <td>2.92680</td>\n",
       "      <td>1.10200</td>\n",
       "      <td>3.28630</td>\n",
       "      <td>2.38740</td>\n",
       "      <td>1.94950</td>\n",
       "      <td>0.75530</td>\n",
       "      <td>6.50900</td>\n",
       "      <td>1.59740</td>\n",
       "    </tr>\n",
       "    <tr>\n",
       "      <th>O60907</th>\n",
       "      <td>2.09945</td>\n",
       "      <td>2.13915</td>\n",
       "      <td>1.93185</td>\n",
       "      <td>0.45095</td>\n",
       "      <td>-0.81845</td>\n",
       "      <td>2.81905</td>\n",
       "      <td>-1.29525</td>\n",
       "      <td>-0.53395</td>\n",
       "      <td>0.52415</td>\n",
       "      <td>-0.44265</td>\n",
       "      <td>...</td>\n",
       "      <td>2.54770</td>\n",
       "      <td>0.17560</td>\n",
       "      <td>-0.13430</td>\n",
       "      <td>-0.45950</td>\n",
       "      <td>-1.46070</td>\n",
       "      <td>1.47930</td>\n",
       "      <td>0.34770</td>\n",
       "      <td>1.52010</td>\n",
       "      <td>4.62960</td>\n",
       "      <td>-0.14710</td>\n",
       "    </tr>\n",
       "    <tr>\n",
       "      <th>O75475</th>\n",
       "      <td>4.63890</td>\n",
       "      <td>1.46100</td>\n",
       "      <td>1.55190</td>\n",
       "      <td>3.54560</td>\n",
       "      <td>0.41140</td>\n",
       "      <td>5.66690</td>\n",
       "      <td>0.72440</td>\n",
       "      <td>-1.33400</td>\n",
       "      <td>0.78710</td>\n",
       "      <td>1.35650</td>\n",
       "      <td>...</td>\n",
       "      <td>3.09355</td>\n",
       "      <td>0.98845</td>\n",
       "      <td>3.04725</td>\n",
       "      <td>1.01885</td>\n",
       "      <td>2.03165</td>\n",
       "      <td>3.49525</td>\n",
       "      <td>0.84625</td>\n",
       "      <td>2.70515</td>\n",
       "      <td>4.84115</td>\n",
       "      <td>3.60495</td>\n",
       "    </tr>\n",
       "  </tbody>\n",
       "</table>\n",
       "<p>5 rows × 52 columns</p>\n",
       "</div>"
      ],
      "text/plain": [
       "         DA07428  DA08797  DA08787  DA07439  DA07464  DA07415  DA09159  \\\n",
       "UniProt                                                                  \n",
       "O00548   2.02945  0.90425  0.59295  1.59835  0.36645  1.13885 -0.15775   \n",
       "O14836   1.49850  0.30470  0.05890  1.58290  0.79550  0.83940  0.52970   \n",
       "O43557   1.64590  1.90780  2.55540  2.70160  0.48820  2.53680  1.88320   \n",
       "O60907   2.09945  2.13915  1.93185  0.45095 -0.81845  2.81905 -1.29525   \n",
       "O75475   4.63890  1.46100  1.55190  3.54560  0.41140  5.66690  0.72440   \n",
       "\n",
       "         DA07469  DA07451  DA08785  ...  DA09160  DA09212  DA09218  DA09205  \\\n",
       "UniProt                             ...                                       \n",
       "O00548   0.09555  0.75185  0.85435  ...  1.43495  1.77255  2.76175  0.48155   \n",
       "O14836   0.50080 -0.04680  0.57370  ...  0.83860  1.13640  2.29180 -1.34140   \n",
       "O43557  -0.70820  1.44260  2.07580  ...  3.68570  2.43940  2.92680  1.10200   \n",
       "O60907  -0.53395  0.52415 -0.44265  ...  2.54770  0.17560 -0.13430 -0.45950   \n",
       "O75475  -1.33400  0.78710  1.35650  ...  3.09355  0.98845  3.04725  1.01885   \n",
       "\n",
       "         DA09197  DA07422  DA09178  DA09193  DA09181  DA09158  \n",
       "UniProt                                                        \n",
       "O00548   1.90005  1.59035  0.49575  1.18025  1.21535  0.82645  \n",
       "O14836   1.05220  1.33980  0.62680  5.12380 -0.06780 -0.14720  \n",
       "O43557   3.28630  2.38740  1.94950  0.75530  6.50900  1.59740  \n",
       "O60907  -1.46070  1.47930  0.34770  1.52010  4.62960 -0.14710  \n",
       "O75475   2.03165  3.49525  0.84625  2.70515  4.84115  3.60495  \n",
       "\n",
       "[5 rows x 52 columns]"
      ]
     },
     "execution_count": 15,
     "metadata": {},
     "output_type": "execute_result"
    }
   ],
   "source": [
    "protein_matrix_pnc = fit_data_matrix_to_network_input(pnc_data, features=network_pnc.inputs, feature_column=\"UniProt\")\n",
    "\n",
    "protein_matrix_pnc.head()"
   ]
  },
  {
   "cell_type": "code",
   "execution_count": 16,
   "id": "53a2a868-70e6-4cfc-a584-51ee58cfd6e6",
   "metadata": {},
   "outputs": [
    {
     "name": "stderr",
     "output_type": "stream",
     "text": [
      "GPU available: False, used: False\n",
      "TPU available: False, using: 0 TPU cores\n",
      "IPU available: False, using: 0 IPUs\n",
      "HPU available: False, using: 0 HPUs\n"
     ]
    }
   ],
   "source": [
    "\n",
    "\n",
    "X, y = generate_data(protein_matrix_pnc, design_matrix=design_matrix_pnc)\n",
    "dataset = torch.utils.data.TensorDataset(\n",
    "    torch.tensor(X, dtype=torch.float32, device=binn_pnc.device),\n",
    "    torch.tensor(y, dtype=torch.int16, device=binn_pnc.device),\n",
    ")\n",
    "dataloader = torch.utils.data.DataLoader(dataset, batch_size=8, shuffle=True)\n",
    "\n",
    "# You can train using the Lightning Trainer\n",
    "trainer = Trainer(max_epochs=10, log_every_n_steps=10)\n",
    "#trainer.fit(binn_sps, dataloader)"
   ]
  },
  {
   "cell_type": "code",
   "execution_count": null,
   "id": "b009f615-df0c-49f9-8451-d8f4813630dc",
   "metadata": {},
   "outputs": [],
   "source": [
    "y"
   ]
  },
  {
   "cell_type": "code",
   "execution_count": 17,
   "id": "fcb9df72-86db-425f-afb7-120c9d040077",
   "metadata": {},
   "outputs": [],
   "source": [
    "from binn import BINNExplainer\n",
    "\n",
    "explainer_pnc = BINNExplainer(binn_pnc)"
   ]
  },
  {
   "cell_type": "code",
   "execution_count": 18,
   "id": "9978a7fd-021e-4612-8d1d-7da6268d37d7",
   "metadata": {},
   "outputs": [
    {
     "name": "stdout",
     "output_type": "stream",
     "text": [
      "Iteration 0\n",
      "Final epoch: Average Accuracy 0.84, Average Loss: 0.45\n",
      "Iteration 1\n",
      "Final epoch: Average Accuracy 0.66, Average Loss: 0.60\n",
      "Iteration 2\n",
      "Final epoch: Average Accuracy 0.70, Average Loss: 0.57\n",
      "Iteration 3\n",
      "Final epoch: Average Accuracy 0.70, Average Loss: 0.57\n",
      "Iteration 4\n",
      "Final epoch: Average Accuracy 0.73, Average Loss: 0.59\n",
      "Iteration 5\n",
      "Final epoch: Average Accuracy 0.79, Average Loss: 0.44\n",
      "Iteration 6\n",
      "Final epoch: Average Accuracy 0.82, Average Loss: 0.40\n",
      "Iteration 7\n",
      "Final epoch: Average Accuracy 0.71, Average Loss: 0.51\n",
      "Iteration 8\n",
      "Final epoch: Average Accuracy 0.75, Average Loss: 0.51\n",
      "Iteration 9\n",
      "Final epoch: Average Accuracy 0.70, Average Loss: 0.55\n",
      "Iteration 10\n",
      "Final epoch: Average Accuracy 0.77, Average Loss: 0.44\n",
      "Iteration 11\n",
      "Final epoch: Average Accuracy 0.77, Average Loss: 0.50\n",
      "Iteration 12\n",
      "Final epoch: Average Accuracy 0.88, Average Loss: 0.41\n",
      "Iteration 13\n",
      "Final epoch: Average Accuracy 0.70, Average Loss: 0.60\n",
      "Iteration 14\n",
      "Final epoch: Average Accuracy 0.75, Average Loss: 0.54\n",
      "Iteration 15\n",
      "Final epoch: Average Accuracy 0.73, Average Loss: 0.57\n",
      "Iteration 16\n",
      "Final epoch: Average Accuracy 0.70, Average Loss: 0.56\n",
      "Iteration 17\n",
      "Final epoch: Average Accuracy 0.70, Average Loss: 0.60\n",
      "Iteration 18\n",
      "Final epoch: Average Accuracy 0.71, Average Loss: 0.58\n",
      "Iteration 19\n",
      "Final epoch: Average Accuracy 0.68, Average Loss: 0.67\n"
     ]
    }
   ],
   "source": [
    "test_data = torch.Tensor(X)\n",
    "background_data = torch.Tensor(X)\n",
    "\n",
    "n_iterations = 20\n",
    "n_epochs = 30\n",
    "\n",
    "importance_df_pnc, metrics_pnc = explainer_pnc.explain_average(\n",
    "    test_data, background_data, n_iterations, n_epochs, dataloader, fast_train=True\n",
    ")\n"
   ]
  },
  {
   "cell_type": "code",
   "execution_count": 29,
   "id": "cc37fbc0-cd5a-4ce9-aa0f-ec8bb2d39599",
   "metadata": {},
   "outputs": [
    {
     "data": {
      "text/plain": [
       "{0: {'accuracies': [0.5,\n",
       "   0.5892857313156128,\n",
       "   0.6071428656578064,\n",
       "   0.5892857313156128,\n",
       "   0.6428571343421936,\n",
       "   0.7142857313156128,\n",
       "   0.625,\n",
       "   0.7321428656578064,\n",
       "   0.75,\n",
       "   0.75,\n",
       "   0.7678571343421936,\n",
       "   0.7321428656578064,\n",
       "   0.6964285969734192,\n",
       "   0.7857142686843872,\n",
       "   0.8035714030265808,\n",
       "   0.7678571343421936,\n",
       "   0.7678571343421936,\n",
       "   0.7321428656578064,\n",
       "   0.7678571343421936,\n",
       "   0.75,\n",
       "   0.8214285969734192,\n",
       "   0.7857142686843872,\n",
       "   0.8035714030265808,\n",
       "   0.8035714030265808,\n",
       "   0.6785714030265808,\n",
       "   0.7678571343421936,\n",
       "   0.7857142686843872,\n",
       "   0.75,\n",
       "   0.8214285969734192,\n",
       "   0.8392857313156128],\n",
       "  'losses': [0.8233949031148639,\n",
       "   0.7309002450534275,\n",
       "   0.7478927969932556,\n",
       "   0.7263801864215306,\n",
       "   0.6258400678634644,\n",
       "   0.6697465479373932,\n",
       "   0.5942949439798083,\n",
       "   0.5395809454577309,\n",
       "   0.5244176047188895,\n",
       "   0.5279399539743151,\n",
       "   0.5036496818065643,\n",
       "   0.5724878098283496,\n",
       "   0.5939142831734249,\n",
       "   0.5042718010289329,\n",
       "   0.564109912940434,\n",
       "   0.5123794589723859,\n",
       "   0.5104871988296509,\n",
       "   0.5154113003185817,\n",
       "   0.4228999444416591,\n",
       "   0.47842990926333834,\n",
       "   0.45824251217501505,\n",
       "   0.4578204410416739,\n",
       "   0.4478678320135389,\n",
       "   0.43194267579487394,\n",
       "   0.596011085169656,\n",
       "   0.4354766011238098,\n",
       "   0.44715587156159536,\n",
       "   0.49735333238329205,\n",
       "   0.42729690245219637,\n",
       "   0.4519424779074533],\n",
       "  'epoch': [0,\n",
       "   1,\n",
       "   2,\n",
       "   3,\n",
       "   4,\n",
       "   5,\n",
       "   6,\n",
       "   7,\n",
       "   8,\n",
       "   9,\n",
       "   10,\n",
       "   11,\n",
       "   12,\n",
       "   13,\n",
       "   14,\n",
       "   15,\n",
       "   16,\n",
       "   17,\n",
       "   18,\n",
       "   19,\n",
       "   20,\n",
       "   21,\n",
       "   22,\n",
       "   23,\n",
       "   24,\n",
       "   25,\n",
       "   26,\n",
       "   27,\n",
       "   28,\n",
       "   29],\n",
       "  'model': [0,\n",
       "   0,\n",
       "   0,\n",
       "   0,\n",
       "   0,\n",
       "   0,\n",
       "   0,\n",
       "   0,\n",
       "   0,\n",
       "   0,\n",
       "   0,\n",
       "   0,\n",
       "   0,\n",
       "   0,\n",
       "   0,\n",
       "   0,\n",
       "   0,\n",
       "   0,\n",
       "   0,\n",
       "   0,\n",
       "   0,\n",
       "   0,\n",
       "   0,\n",
       "   0,\n",
       "   0,\n",
       "   0,\n",
       "   0,\n",
       "   0,\n",
       "   0,\n",
       "   0]},\n",
       " 1: {'accuracies': [0.5,\n",
       "   0.5535714030265808,\n",
       "   0.4107142984867096,\n",
       "   0.4107142984867096,\n",
       "   0.625,\n",
       "   0.4821428656578064,\n",
       "   0.625,\n",
       "   0.5535714030265808,\n",
       "   0.6428571343421936,\n",
       "   0.6964285969734192,\n",
       "   0.6428571343421936,\n",
       "   0.625,\n",
       "   0.75,\n",
       "   0.75,\n",
       "   0.6607142686843872,\n",
       "   0.6785714030265808,\n",
       "   0.8392857313156128,\n",
       "   0.7321428656578064,\n",
       "   0.6785714030265808,\n",
       "   0.75,\n",
       "   0.7321428656578064,\n",
       "   0.8035714030265808,\n",
       "   0.7142857313156128,\n",
       "   0.7678571343421936,\n",
       "   0.6428571343421936,\n",
       "   0.75,\n",
       "   0.7857142686843872,\n",
       "   0.7678571343421936,\n",
       "   0.8035714030265808,\n",
       "   0.6607142686843872],\n",
       "  'losses': [0.78159670318876,\n",
       "   0.7767339859689985,\n",
       "   0.8171579837799072,\n",
       "   0.9050989406449454,\n",
       "   0.7004498796803611,\n",
       "   0.7565431594848633,\n",
       "   0.68004310131073,\n",
       "   0.6350674033164978,\n",
       "   0.6641932853630611,\n",
       "   0.6129039909158435,\n",
       "   0.6360530086926052,\n",
       "   0.6461374589375087,\n",
       "   0.5141725412436894,\n",
       "   0.5135819784232548,\n",
       "   0.687400643314634,\n",
       "   0.5864823503153664,\n",
       "   0.5009453637259347,\n",
       "   0.48473231707300457,\n",
       "   0.5600466345037732,\n",
       "   0.48630636504718233,\n",
       "   0.537563396351678,\n",
       "   0.5182720124721527,\n",
       "   0.51240473985672,\n",
       "   0.49108619136469706,\n",
       "   0.6508224606513977,\n",
       "   0.45724791288375854,\n",
       "   0.4664711845772607,\n",
       "   0.547178008726665,\n",
       "   0.44531331743512836,\n",
       "   0.6008691915443966],\n",
       "  'epoch': [0,\n",
       "   1,\n",
       "   2,\n",
       "   3,\n",
       "   4,\n",
       "   5,\n",
       "   6,\n",
       "   7,\n",
       "   8,\n",
       "   9,\n",
       "   10,\n",
       "   11,\n",
       "   12,\n",
       "   13,\n",
       "   14,\n",
       "   15,\n",
       "   16,\n",
       "   17,\n",
       "   18,\n",
       "   19,\n",
       "   20,\n",
       "   21,\n",
       "   22,\n",
       "   23,\n",
       "   24,\n",
       "   25,\n",
       "   26,\n",
       "   27,\n",
       "   28,\n",
       "   29],\n",
       "  'model': [1,\n",
       "   1,\n",
       "   1,\n",
       "   1,\n",
       "   1,\n",
       "   1,\n",
       "   1,\n",
       "   1,\n",
       "   1,\n",
       "   1,\n",
       "   1,\n",
       "   1,\n",
       "   1,\n",
       "   1,\n",
       "   1,\n",
       "   1,\n",
       "   1,\n",
       "   1,\n",
       "   1,\n",
       "   1,\n",
       "   1,\n",
       "   1,\n",
       "   1,\n",
       "   1,\n",
       "   1,\n",
       "   1,\n",
       "   1,\n",
       "   1,\n",
       "   1,\n",
       "   1]},\n",
       " 2: {'accuracies': [0.5357142686843872,\n",
       "   0.5714285969734192,\n",
       "   0.8214285969734192,\n",
       "   0.625,\n",
       "   0.6428571343421936,\n",
       "   0.6785714030265808,\n",
       "   0.7321428656578064,\n",
       "   0.7321428656578064,\n",
       "   0.7857142686843872,\n",
       "   0.7142857313156128,\n",
       "   0.7857142686843872,\n",
       "   0.7142857313156128,\n",
       "   0.8392857313156128,\n",
       "   0.7321428656578064,\n",
       "   0.7142857313156128,\n",
       "   0.75,\n",
       "   0.7678571343421936,\n",
       "   0.8035714030265808,\n",
       "   0.8035714030265808,\n",
       "   0.8035714030265808,\n",
       "   0.7857142686843872,\n",
       "   0.7321428656578064,\n",
       "   0.7678571343421936,\n",
       "   0.75,\n",
       "   0.8035714030265808,\n",
       "   0.7857142686843872,\n",
       "   0.7857142686843872,\n",
       "   0.8392857313156128,\n",
       "   0.7321428656578064,\n",
       "   0.6964285969734192],\n",
       "  'losses': [0.7153996740068708,\n",
       "   0.6375689932278225,\n",
       "   0.4601675740310124,\n",
       "   0.6639249920845032,\n",
       "   0.7033451838152749,\n",
       "   0.6265213787555695,\n",
       "   0.5563712843826839,\n",
       "   0.49753671884536743,\n",
       "   0.5059650582926614,\n",
       "   0.5703184476920536,\n",
       "   0.5372896833079202,\n",
       "   0.5748223790100643,\n",
       "   0.46492102316447664,\n",
       "   0.547126978635788,\n",
       "   0.5109467847006661,\n",
       "   0.49024850130081177,\n",
       "   0.5145165920257568,\n",
       "   0.4943387040070125,\n",
       "   0.44165556345667156,\n",
       "   0.5143779601369586,\n",
       "   0.5431149176188877,\n",
       "   0.5205470344849995,\n",
       "   0.5068222028868539,\n",
       "   0.48862349561282564,\n",
       "   0.40597787499427795,\n",
       "   0.49887084109442575,\n",
       "   0.46334581077098846,\n",
       "   0.40182206886155264,\n",
       "   0.4984696422304426,\n",
       "   0.5746596881321498],\n",
       "  'epoch': [0,\n",
       "   1,\n",
       "   2,\n",
       "   3,\n",
       "   4,\n",
       "   5,\n",
       "   6,\n",
       "   7,\n",
       "   8,\n",
       "   9,\n",
       "   10,\n",
       "   11,\n",
       "   12,\n",
       "   13,\n",
       "   14,\n",
       "   15,\n",
       "   16,\n",
       "   17,\n",
       "   18,\n",
       "   19,\n",
       "   20,\n",
       "   21,\n",
       "   22,\n",
       "   23,\n",
       "   24,\n",
       "   25,\n",
       "   26,\n",
       "   27,\n",
       "   28,\n",
       "   29],\n",
       "  'model': [2,\n",
       "   2,\n",
       "   2,\n",
       "   2,\n",
       "   2,\n",
       "   2,\n",
       "   2,\n",
       "   2,\n",
       "   2,\n",
       "   2,\n",
       "   2,\n",
       "   2,\n",
       "   2,\n",
       "   2,\n",
       "   2,\n",
       "   2,\n",
       "   2,\n",
       "   2,\n",
       "   2,\n",
       "   2,\n",
       "   2,\n",
       "   2,\n",
       "   2,\n",
       "   2,\n",
       "   2,\n",
       "   2,\n",
       "   2,\n",
       "   2,\n",
       "   2,\n",
       "   2]},\n",
       " 3: {'accuracies': [0.4821428656578064,\n",
       "   0.6071428656578064,\n",
       "   0.6071428656578064,\n",
       "   0.5178571343421936,\n",
       "   0.6071428656578064,\n",
       "   0.5535714030265808,\n",
       "   0.4464285671710968,\n",
       "   0.6607142686843872,\n",
       "   0.7321428656578064,\n",
       "   0.6607142686843872,\n",
       "   0.7142857313156128,\n",
       "   0.7142857313156128,\n",
       "   0.75,\n",
       "   0.6428571343421936,\n",
       "   0.625,\n",
       "   0.7857142686843872,\n",
       "   0.7678571343421936,\n",
       "   0.7321428656578064,\n",
       "   0.8392857313156128,\n",
       "   0.7321428656578064,\n",
       "   0.75,\n",
       "   0.8214285969734192,\n",
       "   0.7142857313156128,\n",
       "   0.7142857313156128,\n",
       "   0.75,\n",
       "   0.7857142686843872,\n",
       "   0.75,\n",
       "   0.7678571343421936,\n",
       "   0.8214285969734192,\n",
       "   0.6964285969734192],\n",
       "  'losses': [0.7648122523512159,\n",
       "   0.7164527688707624,\n",
       "   0.8347854443958828,\n",
       "   0.824597316128867,\n",
       "   0.6904436477593013,\n",
       "   0.7279505133628845,\n",
       "   0.6937033704348973,\n",
       "   0.7124807962349483,\n",
       "   0.6419234190668378,\n",
       "   0.5664341109139579,\n",
       "   0.6602286355836051,\n",
       "   0.5745157258851188,\n",
       "   0.5172277199370521,\n",
       "   0.6436523028782436,\n",
       "   0.6811447058405194,\n",
       "   0.47213057960782734,\n",
       "   0.5280813149043492,\n",
       "   0.4299642699105399,\n",
       "   0.4262900639857565,\n",
       "   0.5490325774465289,\n",
       "   0.45937803600515636,\n",
       "   0.46970239707401823,\n",
       "   0.5456123756510871,\n",
       "   0.5285513188157763,\n",
       "   0.48393577550138744,\n",
       "   0.5800837193216596,\n",
       "   0.4816862642765045,\n",
       "   0.5036292459283557,\n",
       "   0.47418650133269175,\n",
       "   0.5731754047530038],\n",
       "  'epoch': [0,\n",
       "   1,\n",
       "   2,\n",
       "   3,\n",
       "   4,\n",
       "   5,\n",
       "   6,\n",
       "   7,\n",
       "   8,\n",
       "   9,\n",
       "   10,\n",
       "   11,\n",
       "   12,\n",
       "   13,\n",
       "   14,\n",
       "   15,\n",
       "   16,\n",
       "   17,\n",
       "   18,\n",
       "   19,\n",
       "   20,\n",
       "   21,\n",
       "   22,\n",
       "   23,\n",
       "   24,\n",
       "   25,\n",
       "   26,\n",
       "   27,\n",
       "   28,\n",
       "   29],\n",
       "  'model': [3,\n",
       "   3,\n",
       "   3,\n",
       "   3,\n",
       "   3,\n",
       "   3,\n",
       "   3,\n",
       "   3,\n",
       "   3,\n",
       "   3,\n",
       "   3,\n",
       "   3,\n",
       "   3,\n",
       "   3,\n",
       "   3,\n",
       "   3,\n",
       "   3,\n",
       "   3,\n",
       "   3,\n",
       "   3,\n",
       "   3,\n",
       "   3,\n",
       "   3,\n",
       "   3,\n",
       "   3,\n",
       "   3,\n",
       "   3,\n",
       "   3,\n",
       "   3,\n",
       "   3]},\n",
       " 4: {'accuracies': [0.4107142984867096,\n",
       "   0.3035714328289032,\n",
       "   0.3035714328289032,\n",
       "   0.4107142984867096,\n",
       "   0.4464285671710968,\n",
       "   0.4107142984867096,\n",
       "   0.4821428656578064,\n",
       "   0.5357142686843872,\n",
       "   0.4464285671710968,\n",
       "   0.7678571343421936,\n",
       "   0.5714285969734192,\n",
       "   0.6071428656578064,\n",
       "   0.5892857313156128,\n",
       "   0.5535714030265808,\n",
       "   0.5892857313156128,\n",
       "   0.6964285969734192,\n",
       "   0.6785714030265808,\n",
       "   0.5892857313156128,\n",
       "   0.625,\n",
       "   0.625,\n",
       "   0.6607142686843872,\n",
       "   0.75,\n",
       "   0.6428571343421936,\n",
       "   0.7857142686843872,\n",
       "   0.75,\n",
       "   0.6428571343421936,\n",
       "   0.6964285969734192,\n",
       "   0.7857142686843872,\n",
       "   0.7857142686843872,\n",
       "   0.7321428656578064],\n",
       "  'losses': [1.1154985938753401,\n",
       "   1.0740778871944971,\n",
       "   1.0133920056479317,\n",
       "   0.9815112522670201,\n",
       "   0.9462789211954389,\n",
       "   0.8059545499937875,\n",
       "   0.8305324912071228,\n",
       "   0.8393977114132473,\n",
       "   0.8044835754803249,\n",
       "   0.6240805344922202,\n",
       "   0.7420696275574821,\n",
       "   0.6572406888008118,\n",
       "   0.7241753041744232,\n",
       "   0.6536485552787781,\n",
       "   0.6749089956283569,\n",
       "   0.5853919812611171,\n",
       "   0.5907175753797803,\n",
       "   0.6560945042542049,\n",
       "   0.617072514125279,\n",
       "   0.6011059752532414,\n",
       "   0.608119717666081,\n",
       "   0.516010216304234,\n",
       "   0.5994449428149632,\n",
       "   0.5177022176129478,\n",
       "   0.5789009928703308,\n",
       "   0.6692593651158469,\n",
       "   0.5407417586871556,\n",
       "   0.5290733362947192,\n",
       "   0.49598472884723116,\n",
       "   0.5889244888510022],\n",
       "  'epoch': [0,\n",
       "   1,\n",
       "   2,\n",
       "   3,\n",
       "   4,\n",
       "   5,\n",
       "   6,\n",
       "   7,\n",
       "   8,\n",
       "   9,\n",
       "   10,\n",
       "   11,\n",
       "   12,\n",
       "   13,\n",
       "   14,\n",
       "   15,\n",
       "   16,\n",
       "   17,\n",
       "   18,\n",
       "   19,\n",
       "   20,\n",
       "   21,\n",
       "   22,\n",
       "   23,\n",
       "   24,\n",
       "   25,\n",
       "   26,\n",
       "   27,\n",
       "   28,\n",
       "   29],\n",
       "  'model': [4,\n",
       "   4,\n",
       "   4,\n",
       "   4,\n",
       "   4,\n",
       "   4,\n",
       "   4,\n",
       "   4,\n",
       "   4,\n",
       "   4,\n",
       "   4,\n",
       "   4,\n",
       "   4,\n",
       "   4,\n",
       "   4,\n",
       "   4,\n",
       "   4,\n",
       "   4,\n",
       "   4,\n",
       "   4,\n",
       "   4,\n",
       "   4,\n",
       "   4,\n",
       "   4,\n",
       "   4,\n",
       "   4,\n",
       "   4,\n",
       "   4,\n",
       "   4,\n",
       "   4]},\n",
       " 5: {'accuracies': [0.5892857313156128,\n",
       "   0.4464285671710968,\n",
       "   0.5357142686843872,\n",
       "   0.5892857313156128,\n",
       "   0.625,\n",
       "   0.5178571343421936,\n",
       "   0.4821428656578064,\n",
       "   0.5892857313156128,\n",
       "   0.8035714030265808,\n",
       "   0.6964285969734192,\n",
       "   0.5535714030265808,\n",
       "   0.6071428656578064,\n",
       "   0.6071428656578064,\n",
       "   0.6428571343421936,\n",
       "   0.6071428656578064,\n",
       "   0.7321428656578064,\n",
       "   0.625,\n",
       "   0.625,\n",
       "   0.7857142686843872,\n",
       "   0.7321428656578064,\n",
       "   0.6785714030265808,\n",
       "   0.75,\n",
       "   0.6785714030265808,\n",
       "   0.7142857313156128,\n",
       "   0.7321428656578064,\n",
       "   0.8035714030265808,\n",
       "   0.8214285969734192,\n",
       "   0.8571428656578064,\n",
       "   0.7678571343421936,\n",
       "   0.7857142686843872],\n",
       "  'losses': [0.7867566176823207,\n",
       "   1.0059121251106262,\n",
       "   0.8126653262547084,\n",
       "   0.8309848862034934,\n",
       "   0.7282876372337341,\n",
       "   0.7339542720999036,\n",
       "   0.912996939250401,\n",
       "   0.7812157358442035,\n",
       "   0.5013351227555957,\n",
       "   0.6386658506734031,\n",
       "   0.7079493403434753,\n",
       "   0.6862133741378784,\n",
       "   0.7094561457633972,\n",
       "   0.6154835139002118,\n",
       "   0.7266163740839277,\n",
       "   0.5554760098457336,\n",
       "   0.5948529030595507,\n",
       "   0.6139443729604993,\n",
       "   0.48179065755435396,\n",
       "   0.4893640790666853,\n",
       "   0.6185448659317834,\n",
       "   0.4976003212588174,\n",
       "   0.6215760409832001,\n",
       "   0.5545779509203774,\n",
       "   0.4729816998754229,\n",
       "   0.4384355459894453,\n",
       "   0.4283444093806403,\n",
       "   0.39894374779292513,\n",
       "   0.47655186482838224,\n",
       "   0.4365518604006086],\n",
       "  'epoch': [0,\n",
       "   1,\n",
       "   2,\n",
       "   3,\n",
       "   4,\n",
       "   5,\n",
       "   6,\n",
       "   7,\n",
       "   8,\n",
       "   9,\n",
       "   10,\n",
       "   11,\n",
       "   12,\n",
       "   13,\n",
       "   14,\n",
       "   15,\n",
       "   16,\n",
       "   17,\n",
       "   18,\n",
       "   19,\n",
       "   20,\n",
       "   21,\n",
       "   22,\n",
       "   23,\n",
       "   24,\n",
       "   25,\n",
       "   26,\n",
       "   27,\n",
       "   28,\n",
       "   29],\n",
       "  'model': [5,\n",
       "   5,\n",
       "   5,\n",
       "   5,\n",
       "   5,\n",
       "   5,\n",
       "   5,\n",
       "   5,\n",
       "   5,\n",
       "   5,\n",
       "   5,\n",
       "   5,\n",
       "   5,\n",
       "   5,\n",
       "   5,\n",
       "   5,\n",
       "   5,\n",
       "   5,\n",
       "   5,\n",
       "   5,\n",
       "   5,\n",
       "   5,\n",
       "   5,\n",
       "   5,\n",
       "   5,\n",
       "   5,\n",
       "   5,\n",
       "   5,\n",
       "   5,\n",
       "   5]},\n",
       " 6: {'accuracies': [0.5714285969734192,\n",
       "   0.5535714030265808,\n",
       "   0.5535714030265808,\n",
       "   0.6071428656578064,\n",
       "   0.5357142686843872,\n",
       "   0.625,\n",
       "   0.6785714030265808,\n",
       "   0.5357142686843872,\n",
       "   0.6071428656578064,\n",
       "   0.75,\n",
       "   0.6785714030265808,\n",
       "   0.625,\n",
       "   0.5714285969734192,\n",
       "   0.6785714030265808,\n",
       "   0.7142857313156128,\n",
       "   0.6785714030265808,\n",
       "   0.7142857313156128,\n",
       "   0.7857142686843872,\n",
       "   0.7321428656578064,\n",
       "   0.6964285969734192,\n",
       "   0.6964285969734192,\n",
       "   0.7857142686843872,\n",
       "   0.6964285969734192,\n",
       "   0.7678571343421936,\n",
       "   0.7857142686843872,\n",
       "   0.7142857313156128,\n",
       "   0.8035714030265808,\n",
       "   0.7142857313156128,\n",
       "   0.7857142686843872,\n",
       "   0.8214285969734192],\n",
       "  'losses': [0.7702984809875488,\n",
       "   0.7448419417653765,\n",
       "   0.7644649233136859,\n",
       "   0.6975829005241394,\n",
       "   0.748085515839713,\n",
       "   0.6596069208213261,\n",
       "   0.6304706590516227,\n",
       "   0.6825363295418876,\n",
       "   0.6922061613627842,\n",
       "   0.5797979661396572,\n",
       "   0.6098725668021611,\n",
       "   0.6360006843294416,\n",
       "   0.6213727508272443,\n",
       "   0.633261672088078,\n",
       "   0.6215673812798092,\n",
       "   0.5976349455969674,\n",
       "   0.4954994406018938,\n",
       "   0.5467007032462529,\n",
       "   0.5503709358828408,\n",
       "   0.5723628316606794,\n",
       "   0.5037911874907357,\n",
       "   0.5064414058412824,\n",
       "   0.5101119663034167,\n",
       "   0.49823850819042753,\n",
       "   0.4797015743596213,\n",
       "   0.5230696627071926,\n",
       "   0.46550058892795015,\n",
       "   0.5461978444031307,\n",
       "   0.4606373735836574,\n",
       "   0.4030109771660396],\n",
       "  'epoch': [0,\n",
       "   1,\n",
       "   2,\n",
       "   3,\n",
       "   4,\n",
       "   5,\n",
       "   6,\n",
       "   7,\n",
       "   8,\n",
       "   9,\n",
       "   10,\n",
       "   11,\n",
       "   12,\n",
       "   13,\n",
       "   14,\n",
       "   15,\n",
       "   16,\n",
       "   17,\n",
       "   18,\n",
       "   19,\n",
       "   20,\n",
       "   21,\n",
       "   22,\n",
       "   23,\n",
       "   24,\n",
       "   25,\n",
       "   26,\n",
       "   27,\n",
       "   28,\n",
       "   29],\n",
       "  'model': [6,\n",
       "   6,\n",
       "   6,\n",
       "   6,\n",
       "   6,\n",
       "   6,\n",
       "   6,\n",
       "   6,\n",
       "   6,\n",
       "   6,\n",
       "   6,\n",
       "   6,\n",
       "   6,\n",
       "   6,\n",
       "   6,\n",
       "   6,\n",
       "   6,\n",
       "   6,\n",
       "   6,\n",
       "   6,\n",
       "   6,\n",
       "   6,\n",
       "   6,\n",
       "   6,\n",
       "   6,\n",
       "   6,\n",
       "   6,\n",
       "   6,\n",
       "   6,\n",
       "   6]},\n",
       " 7: {'accuracies': [0.5,\n",
       "   0.4285714328289032,\n",
       "   0.5714285969734192,\n",
       "   0.5,\n",
       "   0.5892857313156128,\n",
       "   0.4642857015132904,\n",
       "   0.6071428656578064,\n",
       "   0.6071428656578064,\n",
       "   0.5714285969734192,\n",
       "   0.6607142686843872,\n",
       "   0.7321428656578064,\n",
       "   0.625,\n",
       "   0.5714285969734192,\n",
       "   0.7321428656578064,\n",
       "   0.75,\n",
       "   0.7142857313156128,\n",
       "   0.8035714030265808,\n",
       "   0.6964285969734192,\n",
       "   0.6964285969734192,\n",
       "   0.75,\n",
       "   0.7857142686843872,\n",
       "   0.7142857313156128,\n",
       "   0.75,\n",
       "   0.8214285969734192,\n",
       "   0.7857142686843872,\n",
       "   0.6785714030265808,\n",
       "   0.7857142686843872,\n",
       "   0.8214285969734192,\n",
       "   0.7678571343421936,\n",
       "   0.7142857313156128],\n",
       "  'losses': [0.9298258806977954,\n",
       "   0.9344634669167655,\n",
       "   0.7622645241873605,\n",
       "   0.943784943648747,\n",
       "   0.7027320606367928,\n",
       "   0.7846056478364127,\n",
       "   0.6245735245091575,\n",
       "   0.6734045786517007,\n",
       "   0.7509257921150753,\n",
       "   0.7153419724532536,\n",
       "   0.6268980886254992,\n",
       "   0.5959919222763607,\n",
       "   0.7087830645697457,\n",
       "   0.5732950397900173,\n",
       "   0.5407103640692574,\n",
       "   0.6078350245952606,\n",
       "   0.502204064811979,\n",
       "   0.6201648669583457,\n",
       "   0.5489657180649894,\n",
       "   0.56340691447258,\n",
       "   0.4732252699988229,\n",
       "   0.626988410949707,\n",
       "   0.4935859228883471,\n",
       "   0.4894032733780997,\n",
       "   0.5762488075665065,\n",
       "   0.6117114807878222,\n",
       "   0.45673264137336184,\n",
       "   0.455164977482387,\n",
       "   0.544079099382673,\n",
       "   0.5144355893135071],\n",
       "  'epoch': [0,\n",
       "   1,\n",
       "   2,\n",
       "   3,\n",
       "   4,\n",
       "   5,\n",
       "   6,\n",
       "   7,\n",
       "   8,\n",
       "   9,\n",
       "   10,\n",
       "   11,\n",
       "   12,\n",
       "   13,\n",
       "   14,\n",
       "   15,\n",
       "   16,\n",
       "   17,\n",
       "   18,\n",
       "   19,\n",
       "   20,\n",
       "   21,\n",
       "   22,\n",
       "   23,\n",
       "   24,\n",
       "   25,\n",
       "   26,\n",
       "   27,\n",
       "   28,\n",
       "   29],\n",
       "  'model': [7,\n",
       "   7,\n",
       "   7,\n",
       "   7,\n",
       "   7,\n",
       "   7,\n",
       "   7,\n",
       "   7,\n",
       "   7,\n",
       "   7,\n",
       "   7,\n",
       "   7,\n",
       "   7,\n",
       "   7,\n",
       "   7,\n",
       "   7,\n",
       "   7,\n",
       "   7,\n",
       "   7,\n",
       "   7,\n",
       "   7,\n",
       "   7,\n",
       "   7,\n",
       "   7,\n",
       "   7,\n",
       "   7,\n",
       "   7,\n",
       "   7,\n",
       "   7,\n",
       "   7]},\n",
       " 8: {'accuracies': [0.4464285671710968,\n",
       "   0.5178571343421936,\n",
       "   0.4107142984867096,\n",
       "   0.5892857313156128,\n",
       "   0.5178571343421936,\n",
       "   0.5714285969734192,\n",
       "   0.5535714030265808,\n",
       "   0.4642857015132904,\n",
       "   0.5714285969734192,\n",
       "   0.4642857015132904,\n",
       "   0.6785714030265808,\n",
       "   0.6785714030265808,\n",
       "   0.5892857313156128,\n",
       "   0.5892857313156128,\n",
       "   0.6428571343421936,\n",
       "   0.5714285969734192,\n",
       "   0.5892857313156128,\n",
       "   0.5714285969734192,\n",
       "   0.75,\n",
       "   0.6964285969734192,\n",
       "   0.7142857313156128,\n",
       "   0.6785714030265808,\n",
       "   0.6785714030265808,\n",
       "   0.7142857313156128,\n",
       "   0.75,\n",
       "   0.5714285969734192,\n",
       "   0.8214285969734192,\n",
       "   0.6785714030265808,\n",
       "   0.75,\n",
       "   0.75],\n",
       "  'losses': [0.8460145507540021,\n",
       "   0.7825132352965218,\n",
       "   0.8754060098103115,\n",
       "   0.7527911152158465,\n",
       "   0.7650335431098938,\n",
       "   0.7391898589474815,\n",
       "   0.7922968779291425,\n",
       "   0.7616065229688372,\n",
       "   0.780039152928761,\n",
       "   0.8375814642224994,\n",
       "   0.6249312843595233,\n",
       "   0.6661756592137473,\n",
       "   0.6791457193238395,\n",
       "   0.6829708984919957,\n",
       "   0.6471094148499625,\n",
       "   0.6664346839700427,\n",
       "   0.6491961904934475,\n",
       "   0.6364906855991909,\n",
       "   0.5795035106795174,\n",
       "   0.6001454208578382,\n",
       "   0.5668838322162628,\n",
       "   0.5552806045327868,\n",
       "   0.6290338805743626,\n",
       "   0.6154444260256631,\n",
       "   0.5872684163706643,\n",
       "   0.6652417055198124,\n",
       "   0.497257445539747,\n",
       "   0.6184822576386588,\n",
       "   0.5200119018554688,\n",
       "   0.5095979060445514],\n",
       "  'epoch': [0,\n",
       "   1,\n",
       "   2,\n",
       "   3,\n",
       "   4,\n",
       "   5,\n",
       "   6,\n",
       "   7,\n",
       "   8,\n",
       "   9,\n",
       "   10,\n",
       "   11,\n",
       "   12,\n",
       "   13,\n",
       "   14,\n",
       "   15,\n",
       "   16,\n",
       "   17,\n",
       "   18,\n",
       "   19,\n",
       "   20,\n",
       "   21,\n",
       "   22,\n",
       "   23,\n",
       "   24,\n",
       "   25,\n",
       "   26,\n",
       "   27,\n",
       "   28,\n",
       "   29],\n",
       "  'model': [8,\n",
       "   8,\n",
       "   8,\n",
       "   8,\n",
       "   8,\n",
       "   8,\n",
       "   8,\n",
       "   8,\n",
       "   8,\n",
       "   8,\n",
       "   8,\n",
       "   8,\n",
       "   8,\n",
       "   8,\n",
       "   8,\n",
       "   8,\n",
       "   8,\n",
       "   8,\n",
       "   8,\n",
       "   8,\n",
       "   8,\n",
       "   8,\n",
       "   8,\n",
       "   8,\n",
       "   8,\n",
       "   8,\n",
       "   8,\n",
       "   8,\n",
       "   8,\n",
       "   8]},\n",
       " 9: {'accuracies': [0.6428571343421936,\n",
       "   0.6071428656578064,\n",
       "   0.6428571343421936,\n",
       "   0.6607142686843872,\n",
       "   0.6071428656578064,\n",
       "   0.6964285969734192,\n",
       "   0.6964285969734192,\n",
       "   0.7678571343421936,\n",
       "   0.6428571343421936,\n",
       "   0.75,\n",
       "   0.8214285969734192,\n",
       "   0.6607142686843872,\n",
       "   0.6964285969734192,\n",
       "   0.7678571343421936,\n",
       "   0.6607142686843872,\n",
       "   0.6607142686843872,\n",
       "   0.6785714030265808,\n",
       "   0.6428571343421936,\n",
       "   0.6785714030265808,\n",
       "   0.7321428656578064,\n",
       "   0.7321428656578064,\n",
       "   0.7678571343421936,\n",
       "   0.7678571343421936,\n",
       "   0.6607142686843872,\n",
       "   0.6964285969734192,\n",
       "   0.6607142686843872,\n",
       "   0.625,\n",
       "   0.6785714030265808,\n",
       "   0.7678571343421936,\n",
       "   0.6964285969734192],\n",
       "  'losses': [0.643587989466531,\n",
       "   0.6914699035031455,\n",
       "   0.6165766077382224,\n",
       "   0.6074842768056052,\n",
       "   0.6367985435894558,\n",
       "   0.5947458956922803,\n",
       "   0.5821534139769418,\n",
       "   0.5155248727117266,\n",
       "   0.6539626164095742,\n",
       "   0.5565948486328125,\n",
       "   0.571954105581556,\n",
       "   0.6157327805246625,\n",
       "   0.5599295965262822,\n",
       "   0.48412672110966276,\n",
       "   0.626330588545118,\n",
       "   0.636284568480083,\n",
       "   0.6276753800255912,\n",
       "   0.6204627986465182,\n",
       "   0.542220230613436,\n",
       "   0.5990714260510036,\n",
       "   0.4987825559718268,\n",
       "   0.48808199167251587,\n",
       "   0.49867737718990873,\n",
       "   0.528801040990012,\n",
       "   0.5658592922346932,\n",
       "   0.6087655297347477,\n",
       "   0.6255002277238029,\n",
       "   0.5290823365960803,\n",
       "   0.5015764789921897,\n",
       "   0.554030818598611],\n",
       "  'epoch': [0,\n",
       "   1,\n",
       "   2,\n",
       "   3,\n",
       "   4,\n",
       "   5,\n",
       "   6,\n",
       "   7,\n",
       "   8,\n",
       "   9,\n",
       "   10,\n",
       "   11,\n",
       "   12,\n",
       "   13,\n",
       "   14,\n",
       "   15,\n",
       "   16,\n",
       "   17,\n",
       "   18,\n",
       "   19,\n",
       "   20,\n",
       "   21,\n",
       "   22,\n",
       "   23,\n",
       "   24,\n",
       "   25,\n",
       "   26,\n",
       "   27,\n",
       "   28,\n",
       "   29],\n",
       "  'model': [9,\n",
       "   9,\n",
       "   9,\n",
       "   9,\n",
       "   9,\n",
       "   9,\n",
       "   9,\n",
       "   9,\n",
       "   9,\n",
       "   9,\n",
       "   9,\n",
       "   9,\n",
       "   9,\n",
       "   9,\n",
       "   9,\n",
       "   9,\n",
       "   9,\n",
       "   9,\n",
       "   9,\n",
       "   9,\n",
       "   9,\n",
       "   9,\n",
       "   9,\n",
       "   9,\n",
       "   9,\n",
       "   9,\n",
       "   9,\n",
       "   9,\n",
       "   9,\n",
       "   9]},\n",
       " 10: {'accuracies': [0.5,\n",
       "   0.6428571343421936,\n",
       "   0.6964285969734192,\n",
       "   0.5535714030265808,\n",
       "   0.5892857313156128,\n",
       "   0.625,\n",
       "   0.5714285969734192,\n",
       "   0.5535714030265808,\n",
       "   0.6785714030265808,\n",
       "   0.7142857313156128,\n",
       "   0.7142857313156128,\n",
       "   0.6785714030265808,\n",
       "   0.6785714030265808,\n",
       "   0.6428571343421936,\n",
       "   0.6428571343421936,\n",
       "   0.6785714030265808,\n",
       "   0.7678571343421936,\n",
       "   0.625,\n",
       "   0.6964285969734192,\n",
       "   0.6428571343421936,\n",
       "   0.7142857313156128,\n",
       "   0.7321428656578064,\n",
       "   0.7142857313156128,\n",
       "   0.7142857313156128,\n",
       "   0.7142857313156128,\n",
       "   0.6964285969734192,\n",
       "   0.6607142686843872,\n",
       "   0.8035714030265808,\n",
       "   0.75,\n",
       "   0.7678571343421936],\n",
       "  'losses': [0.7858655197279794,\n",
       "   0.7476058602333069,\n",
       "   0.6238232808453696,\n",
       "   0.7699230653899056,\n",
       "   0.7103176372391837,\n",
       "   0.7178401947021484,\n",
       "   0.7322177588939667,\n",
       "   0.8307701860155378,\n",
       "   0.6222637721470424,\n",
       "   0.6311531364917755,\n",
       "   0.5703193758215223,\n",
       "   0.723085071359362,\n",
       "   0.6017960224832807,\n",
       "   0.7537050672939846,\n",
       "   0.617153525352478,\n",
       "   0.5631817025797707,\n",
       "   0.48601787856646944,\n",
       "   0.5773953880582537,\n",
       "   0.546126948935645,\n",
       "   0.6052156218460628,\n",
       "   0.43071769390787396,\n",
       "   0.5448341412203652,\n",
       "   0.5351568971361432,\n",
       "   0.5808280961854118,\n",
       "   0.5336402654647827,\n",
       "   0.5638587559972491,\n",
       "   0.5654175792421613,\n",
       "   0.45803642698696684,\n",
       "   0.516837117927415,\n",
       "   0.4448051537786211],\n",
       "  'epoch': [0,\n",
       "   1,\n",
       "   2,\n",
       "   3,\n",
       "   4,\n",
       "   5,\n",
       "   6,\n",
       "   7,\n",
       "   8,\n",
       "   9,\n",
       "   10,\n",
       "   11,\n",
       "   12,\n",
       "   13,\n",
       "   14,\n",
       "   15,\n",
       "   16,\n",
       "   17,\n",
       "   18,\n",
       "   19,\n",
       "   20,\n",
       "   21,\n",
       "   22,\n",
       "   23,\n",
       "   24,\n",
       "   25,\n",
       "   26,\n",
       "   27,\n",
       "   28,\n",
       "   29],\n",
       "  'model': [10,\n",
       "   10,\n",
       "   10,\n",
       "   10,\n",
       "   10,\n",
       "   10,\n",
       "   10,\n",
       "   10,\n",
       "   10,\n",
       "   10,\n",
       "   10,\n",
       "   10,\n",
       "   10,\n",
       "   10,\n",
       "   10,\n",
       "   10,\n",
       "   10,\n",
       "   10,\n",
       "   10,\n",
       "   10,\n",
       "   10,\n",
       "   10,\n",
       "   10,\n",
       "   10,\n",
       "   10,\n",
       "   10,\n",
       "   10,\n",
       "   10,\n",
       "   10,\n",
       "   10]},\n",
       " 11: {'accuracies': [0.7857142686843872,\n",
       "   0.7142857313156128,\n",
       "   0.6785714030265808,\n",
       "   0.7142857313156128,\n",
       "   0.8035714030265808,\n",
       "   0.7321428656578064,\n",
       "   0.6785714030265808,\n",
       "   0.7678571343421936,\n",
       "   0.7857142686843872,\n",
       "   0.7857142686843872,\n",
       "   0.7678571343421936,\n",
       "   0.7142857313156128,\n",
       "   0.7321428656578064,\n",
       "   0.7857142686843872,\n",
       "   0.75,\n",
       "   0.75,\n",
       "   0.6428571343421936,\n",
       "   0.7678571343421936,\n",
       "   0.75,\n",
       "   0.8392857313156128,\n",
       "   0.8035714030265808,\n",
       "   0.8214285969734192,\n",
       "   0.7857142686843872,\n",
       "   0.7321428656578064,\n",
       "   0.8035714030265808,\n",
       "   0.7857142686843872,\n",
       "   0.7142857313156128,\n",
       "   0.75,\n",
       "   0.7142857313156128,\n",
       "   0.7678571343421936],\n",
       "  'losses': [0.5339796585696084,\n",
       "   0.5802282094955444,\n",
       "   0.5651504269668034,\n",
       "   0.49814716832978384,\n",
       "   0.5156688860484532,\n",
       "   0.496789670416287,\n",
       "   0.6253208816051483,\n",
       "   0.5113178619316646,\n",
       "   0.4969742787735803,\n",
       "   0.4806110049997057,\n",
       "   0.5277887412479946,\n",
       "   0.5560848457472665,\n",
       "   0.4997114028249468,\n",
       "   0.5166527288300651,\n",
       "   0.532798171043396,\n",
       "   0.5830246720995221,\n",
       "   0.6505729513508933,\n",
       "   0.46687011633600506,\n",
       "   0.5244643219879696,\n",
       "   0.48748694147382465,\n",
       "   0.4693196192383766,\n",
       "   0.4530079684087208,\n",
       "   0.4765977987221309,\n",
       "   0.5257587603160313,\n",
       "   0.4608402592795236,\n",
       "   0.49813006605420795,\n",
       "   0.6336394718715123,\n",
       "   0.4818111168486731,\n",
       "   0.5792135851723808,\n",
       "   0.49900395423173904],\n",
       "  'epoch': [0,\n",
       "   1,\n",
       "   2,\n",
       "   3,\n",
       "   4,\n",
       "   5,\n",
       "   6,\n",
       "   7,\n",
       "   8,\n",
       "   9,\n",
       "   10,\n",
       "   11,\n",
       "   12,\n",
       "   13,\n",
       "   14,\n",
       "   15,\n",
       "   16,\n",
       "   17,\n",
       "   18,\n",
       "   19,\n",
       "   20,\n",
       "   21,\n",
       "   22,\n",
       "   23,\n",
       "   24,\n",
       "   25,\n",
       "   26,\n",
       "   27,\n",
       "   28,\n",
       "   29],\n",
       "  'model': [11,\n",
       "   11,\n",
       "   11,\n",
       "   11,\n",
       "   11,\n",
       "   11,\n",
       "   11,\n",
       "   11,\n",
       "   11,\n",
       "   11,\n",
       "   11,\n",
       "   11,\n",
       "   11,\n",
       "   11,\n",
       "   11,\n",
       "   11,\n",
       "   11,\n",
       "   11,\n",
       "   11,\n",
       "   11,\n",
       "   11,\n",
       "   11,\n",
       "   11,\n",
       "   11,\n",
       "   11,\n",
       "   11,\n",
       "   11,\n",
       "   11,\n",
       "   11,\n",
       "   11]},\n",
       " 12: {'accuracies': [0.5357142686843872,\n",
       "   0.5357142686843872,\n",
       "   0.5714285969734192,\n",
       "   0.5892857313156128,\n",
       "   0.6964285969734192,\n",
       "   0.6785714030265808,\n",
       "   0.5178571343421936,\n",
       "   0.625,\n",
       "   0.6607142686843872,\n",
       "   0.6964285969734192,\n",
       "   0.5892857313156128,\n",
       "   0.5892857313156128,\n",
       "   0.6964285969734192,\n",
       "   0.75,\n",
       "   0.6428571343421936,\n",
       "   0.7321428656578064,\n",
       "   0.7857142686843872,\n",
       "   0.6785714030265808,\n",
       "   0.6785714030265808,\n",
       "   0.6785714030265808,\n",
       "   0.7678571343421936,\n",
       "   0.6964285969734192,\n",
       "   0.625,\n",
       "   0.7857142686843872,\n",
       "   0.7321428656578064,\n",
       "   0.8035714030265808,\n",
       "   0.8214285969734192,\n",
       "   0.6785714030265808,\n",
       "   0.7321428656578064,\n",
       "   0.875],\n",
       "  'losses': [0.8738455942698887,\n",
       "   0.7101631803171975,\n",
       "   0.8323206050055367,\n",
       "   0.6725225959505353,\n",
       "   0.5958618904863086,\n",
       "   0.5968309683459145,\n",
       "   0.7253831837858472,\n",
       "   0.5939252504280635,\n",
       "   0.5705398321151733,\n",
       "   0.5610564308507102,\n",
       "   0.621405656848635,\n",
       "   0.6422796079090664,\n",
       "   0.5706969371863774,\n",
       "   0.5711540409496852,\n",
       "   0.5729187216077533,\n",
       "   0.5507281805787768,\n",
       "   0.4949599376746586,\n",
       "   0.594198214156287,\n",
       "   0.5440685706479209,\n",
       "   0.6015765794685909,\n",
       "   0.5377585249287742,\n",
       "   0.597558856010437,\n",
       "   0.5880658541406903,\n",
       "   0.49613391501562937,\n",
       "   0.5429224031312125,\n",
       "   0.4481419197150639,\n",
       "   0.447079781975065,\n",
       "   0.6302993638174874,\n",
       "   0.46402226601328167,\n",
       "   0.4127667780433382],\n",
       "  'epoch': [0,\n",
       "   1,\n",
       "   2,\n",
       "   3,\n",
       "   4,\n",
       "   5,\n",
       "   6,\n",
       "   7,\n",
       "   8,\n",
       "   9,\n",
       "   10,\n",
       "   11,\n",
       "   12,\n",
       "   13,\n",
       "   14,\n",
       "   15,\n",
       "   16,\n",
       "   17,\n",
       "   18,\n",
       "   19,\n",
       "   20,\n",
       "   21,\n",
       "   22,\n",
       "   23,\n",
       "   24,\n",
       "   25,\n",
       "   26,\n",
       "   27,\n",
       "   28,\n",
       "   29],\n",
       "  'model': [12,\n",
       "   12,\n",
       "   12,\n",
       "   12,\n",
       "   12,\n",
       "   12,\n",
       "   12,\n",
       "   12,\n",
       "   12,\n",
       "   12,\n",
       "   12,\n",
       "   12,\n",
       "   12,\n",
       "   12,\n",
       "   12,\n",
       "   12,\n",
       "   12,\n",
       "   12,\n",
       "   12,\n",
       "   12,\n",
       "   12,\n",
       "   12,\n",
       "   12,\n",
       "   12,\n",
       "   12,\n",
       "   12,\n",
       "   12,\n",
       "   12,\n",
       "   12,\n",
       "   12]},\n",
       " 13: {'accuracies': [0.4285714328289032,\n",
       "   0.4107142984867096,\n",
       "   0.4107142984867096,\n",
       "   0.5714285969734192,\n",
       "   0.3571428656578064,\n",
       "   0.4464285671710968,\n",
       "   0.5178571343421936,\n",
       "   0.5535714030265808,\n",
       "   0.7142857313156128,\n",
       "   0.6964285969734192,\n",
       "   0.6428571343421936,\n",
       "   0.75,\n",
       "   0.6071428656578064,\n",
       "   0.75,\n",
       "   0.7678571343421936,\n",
       "   0.6607142686843872,\n",
       "   0.6428571343421936,\n",
       "   0.7678571343421936,\n",
       "   0.6428571343421936,\n",
       "   0.7678571343421936,\n",
       "   0.6428571343421936,\n",
       "   0.7142857313156128,\n",
       "   0.6428571343421936,\n",
       "   0.6785714030265808,\n",
       "   0.5892857313156128,\n",
       "   0.7321428656578064,\n",
       "   0.7678571343421936,\n",
       "   0.7857142686843872,\n",
       "   0.7321428656578064,\n",
       "   0.6964285969734192],\n",
       "  'losses': [0.8931887575558254,\n",
       "   0.9109187296458653,\n",
       "   0.8889921307563782,\n",
       "   0.7685911570276532,\n",
       "   0.8222103714942932,\n",
       "   0.8222839662006923,\n",
       "   0.7243481874465942,\n",
       "   0.7862205249922616,\n",
       "   0.6110411499227796,\n",
       "   0.6645866291863578,\n",
       "   0.659396060875484,\n",
       "   0.6003051655633109,\n",
       "   0.6782684581620353,\n",
       "   0.5344050398894719,\n",
       "   0.5465043996061597,\n",
       "   0.639058700629643,\n",
       "   0.6214192424501691,\n",
       "   0.4957421677453177,\n",
       "   0.5680181767259326,\n",
       "   0.5564255629267011,\n",
       "   0.5953376420906612,\n",
       "   0.6163866307054248,\n",
       "   0.5627728743212563,\n",
       "   0.5940880179405212,\n",
       "   0.6717240597520556,\n",
       "   0.5526587835380009,\n",
       "   0.5130398869514465,\n",
       "   0.5146035381725856,\n",
       "   0.5355294985430581,\n",
       "   0.5981821545532772],\n",
       "  'epoch': [0,\n",
       "   1,\n",
       "   2,\n",
       "   3,\n",
       "   4,\n",
       "   5,\n",
       "   6,\n",
       "   7,\n",
       "   8,\n",
       "   9,\n",
       "   10,\n",
       "   11,\n",
       "   12,\n",
       "   13,\n",
       "   14,\n",
       "   15,\n",
       "   16,\n",
       "   17,\n",
       "   18,\n",
       "   19,\n",
       "   20,\n",
       "   21,\n",
       "   22,\n",
       "   23,\n",
       "   24,\n",
       "   25,\n",
       "   26,\n",
       "   27,\n",
       "   28,\n",
       "   29],\n",
       "  'model': [13,\n",
       "   13,\n",
       "   13,\n",
       "   13,\n",
       "   13,\n",
       "   13,\n",
       "   13,\n",
       "   13,\n",
       "   13,\n",
       "   13,\n",
       "   13,\n",
       "   13,\n",
       "   13,\n",
       "   13,\n",
       "   13,\n",
       "   13,\n",
       "   13,\n",
       "   13,\n",
       "   13,\n",
       "   13,\n",
       "   13,\n",
       "   13,\n",
       "   13,\n",
       "   13,\n",
       "   13,\n",
       "   13,\n",
       "   13,\n",
       "   13,\n",
       "   13,\n",
       "   13]},\n",
       " 14: {'accuracies': [0.25,\n",
       "   0.4285714328289032,\n",
       "   0.3392857015132904,\n",
       "   0.5357142686843872,\n",
       "   0.5714285969734192,\n",
       "   0.5178571343421936,\n",
       "   0.5357142686843872,\n",
       "   0.5,\n",
       "   0.6428571343421936,\n",
       "   0.4821428656578064,\n",
       "   0.5178571343421936,\n",
       "   0.5714285969734192,\n",
       "   0.5178571343421936,\n",
       "   0.6964285969734192,\n",
       "   0.5535714030265808,\n",
       "   0.625,\n",
       "   0.6964285969734192,\n",
       "   0.5714285969734192,\n",
       "   0.6071428656578064,\n",
       "   0.7142857313156128,\n",
       "   0.7142857313156128,\n",
       "   0.6607142686843872,\n",
       "   0.6071428656578064,\n",
       "   0.75,\n",
       "   0.6964285969734192,\n",
       "   0.6964285969734192,\n",
       "   0.6785714030265808,\n",
       "   0.75,\n",
       "   0.7678571343421936,\n",
       "   0.75],\n",
       "  'losses': [1.218234624181475,\n",
       "   1.1048992446490697,\n",
       "   1.038739332130977,\n",
       "   0.838690732206617,\n",
       "   0.8139588534832001,\n",
       "   0.7898460967200143,\n",
       "   0.8436530360153743,\n",
       "   0.6830262414046696,\n",
       "   0.682254012141909,\n",
       "   0.8264042351927076,\n",
       "   0.7657349961144584,\n",
       "   0.7474386734621865,\n",
       "   0.7231417085443225,\n",
       "   0.6439854162079948,\n",
       "   0.7667064070701599,\n",
       "   0.7318949401378632,\n",
       "   0.6238498560019902,\n",
       "   0.6910689217703683,\n",
       "   0.6873261247362409,\n",
       "   0.588516469512667,\n",
       "   0.6111796519586018,\n",
       "   0.5680018280233655,\n",
       "   0.6384973568575723,\n",
       "   0.5783732959202358,\n",
       "   0.5749422992978778,\n",
       "   0.5044321843555996,\n",
       "   0.5712681455271584,\n",
       "   0.5244143307209015,\n",
       "   0.5447099719728742,\n",
       "   0.5447173033441816],\n",
       "  'epoch': [0,\n",
       "   1,\n",
       "   2,\n",
       "   3,\n",
       "   4,\n",
       "   5,\n",
       "   6,\n",
       "   7,\n",
       "   8,\n",
       "   9,\n",
       "   10,\n",
       "   11,\n",
       "   12,\n",
       "   13,\n",
       "   14,\n",
       "   15,\n",
       "   16,\n",
       "   17,\n",
       "   18,\n",
       "   19,\n",
       "   20,\n",
       "   21,\n",
       "   22,\n",
       "   23,\n",
       "   24,\n",
       "   25,\n",
       "   26,\n",
       "   27,\n",
       "   28,\n",
       "   29],\n",
       "  'model': [14,\n",
       "   14,\n",
       "   14,\n",
       "   14,\n",
       "   14,\n",
       "   14,\n",
       "   14,\n",
       "   14,\n",
       "   14,\n",
       "   14,\n",
       "   14,\n",
       "   14,\n",
       "   14,\n",
       "   14,\n",
       "   14,\n",
       "   14,\n",
       "   14,\n",
       "   14,\n",
       "   14,\n",
       "   14,\n",
       "   14,\n",
       "   14,\n",
       "   14,\n",
       "   14,\n",
       "   14,\n",
       "   14,\n",
       "   14,\n",
       "   14,\n",
       "   14,\n",
       "   14]},\n",
       " 15: {'accuracies': [0.4107142984867096,\n",
       "   0.625,\n",
       "   0.5178571343421936,\n",
       "   0.5357142686843872,\n",
       "   0.5357142686843872,\n",
       "   0.6607142686843872,\n",
       "   0.375,\n",
       "   0.5892857313156128,\n",
       "   0.6428571343421936,\n",
       "   0.5892857313156128,\n",
       "   0.6428571343421936,\n",
       "   0.6785714030265808,\n",
       "   0.6071428656578064,\n",
       "   0.7142857313156128,\n",
       "   0.6785714030265808,\n",
       "   0.7678571343421936,\n",
       "   0.6964285969734192,\n",
       "   0.6785714030265808,\n",
       "   0.75,\n",
       "   0.7678571343421936,\n",
       "   0.625,\n",
       "   0.6964285969734192,\n",
       "   0.6071428656578064,\n",
       "   0.6785714030265808,\n",
       "   0.8035714030265808,\n",
       "   0.7678571343421936,\n",
       "   0.75,\n",
       "   0.7678571343421936,\n",
       "   0.7678571343421936,\n",
       "   0.7321428656578064],\n",
       "  'losses': [0.9669308236667088,\n",
       "   0.7368938752583095,\n",
       "   0.8540835763726916,\n",
       "   0.8538175225257874,\n",
       "   0.7175893272672381,\n",
       "   0.6181928174836295,\n",
       "   0.9170421872820173,\n",
       "   0.7263884331498828,\n",
       "   0.626172640493938,\n",
       "   0.7033095530101231,\n",
       "   0.6545560785702297,\n",
       "   0.6654144482953208,\n",
       "   0.6912918899740491,\n",
       "   0.6216914313180106,\n",
       "   0.654801824263164,\n",
       "   0.5848032023225512,\n",
       "   0.6280851406710488,\n",
       "   0.5316435652119773,\n",
       "   0.4826468229293823,\n",
       "   0.5683849922248295,\n",
       "   0.5860941580363682,\n",
       "   0.5622922820704324,\n",
       "   0.7018214379038129,\n",
       "   0.5450835398265294,\n",
       "   0.45951786637306213,\n",
       "   0.499815434217453,\n",
       "   0.4527928169284548,\n",
       "   0.5335098164422172,\n",
       "   0.5358020620686668,\n",
       "   0.5655824797494071],\n",
       "  'epoch': [0,\n",
       "   1,\n",
       "   2,\n",
       "   3,\n",
       "   4,\n",
       "   5,\n",
       "   6,\n",
       "   7,\n",
       "   8,\n",
       "   9,\n",
       "   10,\n",
       "   11,\n",
       "   12,\n",
       "   13,\n",
       "   14,\n",
       "   15,\n",
       "   16,\n",
       "   17,\n",
       "   18,\n",
       "   19,\n",
       "   20,\n",
       "   21,\n",
       "   22,\n",
       "   23,\n",
       "   24,\n",
       "   25,\n",
       "   26,\n",
       "   27,\n",
       "   28,\n",
       "   29],\n",
       "  'model': [15,\n",
       "   15,\n",
       "   15,\n",
       "   15,\n",
       "   15,\n",
       "   15,\n",
       "   15,\n",
       "   15,\n",
       "   15,\n",
       "   15,\n",
       "   15,\n",
       "   15,\n",
       "   15,\n",
       "   15,\n",
       "   15,\n",
       "   15,\n",
       "   15,\n",
       "   15,\n",
       "   15,\n",
       "   15,\n",
       "   15,\n",
       "   15,\n",
       "   15,\n",
       "   15,\n",
       "   15,\n",
       "   15,\n",
       "   15,\n",
       "   15,\n",
       "   15,\n",
       "   15]},\n",
       " 16: {'accuracies': [0.375,\n",
       "   0.375,\n",
       "   0.5357142686843872,\n",
       "   0.5178571343421936,\n",
       "   0.4464285671710968,\n",
       "   0.5,\n",
       "   0.5892857313156128,\n",
       "   0.625,\n",
       "   0.6607142686843872,\n",
       "   0.75,\n",
       "   0.625,\n",
       "   0.5535714030265808,\n",
       "   0.6785714030265808,\n",
       "   0.7321428656578064,\n",
       "   0.7142857313156128,\n",
       "   0.7142857313156128,\n",
       "   0.6964285969734192,\n",
       "   0.7678571343421936,\n",
       "   0.6964285969734192,\n",
       "   0.6428571343421936,\n",
       "   0.8035714030265808,\n",
       "   0.8035714030265808,\n",
       "   0.8214285969734192,\n",
       "   0.7321428656578064,\n",
       "   0.7321428656578064,\n",
       "   0.6964285969734192,\n",
       "   0.6964285969734192,\n",
       "   0.75,\n",
       "   0.7142857313156128,\n",
       "   0.6964285969734192],\n",
       "  'losses': [0.9206552931240627,\n",
       "   0.8685361317225865,\n",
       "   0.7788233927318028,\n",
       "   0.8056898202214923,\n",
       "   0.8156768722193581,\n",
       "   0.747931318623679,\n",
       "   0.7180043118340629,\n",
       "   0.7007812091282436,\n",
       "   0.6500135319573539,\n",
       "   0.5854501341070447,\n",
       "   0.6696572942393166,\n",
       "   0.6702482061726707,\n",
       "   0.5755873322486877,\n",
       "   0.5775445657117027,\n",
       "   0.5798427888325283,\n",
       "   0.6132102353232247,\n",
       "   0.6781705447605678,\n",
       "   0.5387766148362841,\n",
       "   0.5860329908984048,\n",
       "   0.6336630455085209,\n",
       "   0.49904715589114595,\n",
       "   0.5655905817236219,\n",
       "   0.5577971637248993,\n",
       "   0.5309331885405949,\n",
       "   0.5826529732772282,\n",
       "   0.5451723507472447,\n",
       "   0.5996121040412358,\n",
       "   0.5370357206889561,\n",
       "   0.5255939023835319,\n",
       "   0.5596880614757538],\n",
       "  'epoch': [0,\n",
       "   1,\n",
       "   2,\n",
       "   3,\n",
       "   4,\n",
       "   5,\n",
       "   6,\n",
       "   7,\n",
       "   8,\n",
       "   9,\n",
       "   10,\n",
       "   11,\n",
       "   12,\n",
       "   13,\n",
       "   14,\n",
       "   15,\n",
       "   16,\n",
       "   17,\n",
       "   18,\n",
       "   19,\n",
       "   20,\n",
       "   21,\n",
       "   22,\n",
       "   23,\n",
       "   24,\n",
       "   25,\n",
       "   26,\n",
       "   27,\n",
       "   28,\n",
       "   29],\n",
       "  'model': [16,\n",
       "   16,\n",
       "   16,\n",
       "   16,\n",
       "   16,\n",
       "   16,\n",
       "   16,\n",
       "   16,\n",
       "   16,\n",
       "   16,\n",
       "   16,\n",
       "   16,\n",
       "   16,\n",
       "   16,\n",
       "   16,\n",
       "   16,\n",
       "   16,\n",
       "   16,\n",
       "   16,\n",
       "   16,\n",
       "   16,\n",
       "   16,\n",
       "   16,\n",
       "   16,\n",
       "   16,\n",
       "   16,\n",
       "   16,\n",
       "   16,\n",
       "   16,\n",
       "   16]},\n",
       " 17: {'accuracies': [0.3392857015132904,\n",
       "   0.3035714328289032,\n",
       "   0.2857142984867096,\n",
       "   0.3035714328289032,\n",
       "   0.375,\n",
       "   0.3571428656578064,\n",
       "   0.5357142686843872,\n",
       "   0.4464285671710968,\n",
       "   0.5,\n",
       "   0.4464285671710968,\n",
       "   0.5714285969734192,\n",
       "   0.5714285969734192,\n",
       "   0.5357142686843872,\n",
       "   0.5535714030265808,\n",
       "   0.7321428656578064,\n",
       "   0.6071428656578064,\n",
       "   0.6071428656578064,\n",
       "   0.6071428656578064,\n",
       "   0.5892857313156128,\n",
       "   0.6071428656578064,\n",
       "   0.6607142686843872,\n",
       "   0.75,\n",
       "   0.6607142686843872,\n",
       "   0.6607142686843872,\n",
       "   0.7321428656578064,\n",
       "   0.8214285969734192,\n",
       "   0.7142857313156128,\n",
       "   0.7678571343421936,\n",
       "   0.7142857313156128,\n",
       "   0.6964285969734192],\n",
       "  'losses': [1.223547066961016,\n",
       "   1.040659248828888,\n",
       "   1.1663983464241028,\n",
       "   1.0340895737920488,\n",
       "   0.9812101977212089,\n",
       "   0.8190507548195975,\n",
       "   0.7649070790835789,\n",
       "   0.8149004067693438,\n",
       "   0.7672780156135559,\n",
       "   0.8232409528323582,\n",
       "   0.7178451929773603,\n",
       "   0.6725188493728638,\n",
       "   0.7548837661743164,\n",
       "   0.6613944939204625,\n",
       "   0.5816714125020164,\n",
       "   0.6279586255550385,\n",
       "   0.6561980886118752,\n",
       "   0.6333333594458443,\n",
       "   0.6968019732407161,\n",
       "   0.6774641019957406,\n",
       "   0.6152128406933376,\n",
       "   0.5330612020833152,\n",
       "   0.6703673814024244,\n",
       "   0.5960396315370288,\n",
       "   0.565478869846889,\n",
       "   0.5031403303146362,\n",
       "   0.5766947269439697,\n",
       "   0.5019894668034145,\n",
       "   0.529513921056475,\n",
       "   0.6035728539739337],\n",
       "  'epoch': [0,\n",
       "   1,\n",
       "   2,\n",
       "   3,\n",
       "   4,\n",
       "   5,\n",
       "   6,\n",
       "   7,\n",
       "   8,\n",
       "   9,\n",
       "   10,\n",
       "   11,\n",
       "   12,\n",
       "   13,\n",
       "   14,\n",
       "   15,\n",
       "   16,\n",
       "   17,\n",
       "   18,\n",
       "   19,\n",
       "   20,\n",
       "   21,\n",
       "   22,\n",
       "   23,\n",
       "   24,\n",
       "   25,\n",
       "   26,\n",
       "   27,\n",
       "   28,\n",
       "   29],\n",
       "  'model': [17,\n",
       "   17,\n",
       "   17,\n",
       "   17,\n",
       "   17,\n",
       "   17,\n",
       "   17,\n",
       "   17,\n",
       "   17,\n",
       "   17,\n",
       "   17,\n",
       "   17,\n",
       "   17,\n",
       "   17,\n",
       "   17,\n",
       "   17,\n",
       "   17,\n",
       "   17,\n",
       "   17,\n",
       "   17,\n",
       "   17,\n",
       "   17,\n",
       "   17,\n",
       "   17,\n",
       "   17,\n",
       "   17,\n",
       "   17,\n",
       "   17,\n",
       "   17,\n",
       "   17]},\n",
       " 18: {'accuracies': [0.5357142686843872,\n",
       "   0.5535714030265808,\n",
       "   0.5178571343421936,\n",
       "   0.4821428656578064,\n",
       "   0.5,\n",
       "   0.6428571343421936,\n",
       "   0.5357142686843872,\n",
       "   0.6607142686843872,\n",
       "   0.4642857015132904,\n",
       "   0.4821428656578064,\n",
       "   0.5892857313156128,\n",
       "   0.6607142686843872,\n",
       "   0.6071428656578064,\n",
       "   0.6071428656578064,\n",
       "   0.5892857313156128,\n",
       "   0.5714285969734192,\n",
       "   0.6607142686843872,\n",
       "   0.6071428656578064,\n",
       "   0.6785714030265808,\n",
       "   0.5892857313156128,\n",
       "   0.6428571343421936,\n",
       "   0.6964285969734192,\n",
       "   0.6964285969734192,\n",
       "   0.6607142686843872,\n",
       "   0.5892857313156128,\n",
       "   0.6964285969734192,\n",
       "   0.6964285969734192,\n",
       "   0.6964285969734192,\n",
       "   0.6785714030265808,\n",
       "   0.7142857313156128],\n",
       "  'losses': [0.8465065615517753,\n",
       "   0.78830372435706,\n",
       "   0.8371732575552804,\n",
       "   0.9172970737729754,\n",
       "   0.8031670025416783,\n",
       "   0.7632407375744411,\n",
       "   0.8697097812380109,\n",
       "   0.737923766885485,\n",
       "   0.8998284339904785,\n",
       "   0.8035829748426165,\n",
       "   0.7438684616770063,\n",
       "   0.7043247946671077,\n",
       "   0.7660312908036369,\n",
       "   0.6553815177508763,\n",
       "   0.6279823141438621,\n",
       "   0.6883584175791059,\n",
       "   0.5678889666284833,\n",
       "   0.6381531230040959,\n",
       "   0.5568885420049939,\n",
       "   0.7208188133580344,\n",
       "   0.6229049818856376,\n",
       "   0.5448979820523944,\n",
       "   0.5797809915883201,\n",
       "   0.5818428950650352,\n",
       "   0.6637617179325649,\n",
       "   0.6212066880294255,\n",
       "   0.5727343090942928,\n",
       "   0.5504828606333051,\n",
       "   0.6195583769253322,\n",
       "   0.5814826020172664],\n",
       "  'epoch': [0,\n",
       "   1,\n",
       "   2,\n",
       "   3,\n",
       "   4,\n",
       "   5,\n",
       "   6,\n",
       "   7,\n",
       "   8,\n",
       "   9,\n",
       "   10,\n",
       "   11,\n",
       "   12,\n",
       "   13,\n",
       "   14,\n",
       "   15,\n",
       "   16,\n",
       "   17,\n",
       "   18,\n",
       "   19,\n",
       "   20,\n",
       "   21,\n",
       "   22,\n",
       "   23,\n",
       "   24,\n",
       "   25,\n",
       "   26,\n",
       "   27,\n",
       "   28,\n",
       "   29],\n",
       "  'model': [18,\n",
       "   18,\n",
       "   18,\n",
       "   18,\n",
       "   18,\n",
       "   18,\n",
       "   18,\n",
       "   18,\n",
       "   18,\n",
       "   18,\n",
       "   18,\n",
       "   18,\n",
       "   18,\n",
       "   18,\n",
       "   18,\n",
       "   18,\n",
       "   18,\n",
       "   18,\n",
       "   18,\n",
       "   18,\n",
       "   18,\n",
       "   18,\n",
       "   18,\n",
       "   18,\n",
       "   18,\n",
       "   18,\n",
       "   18,\n",
       "   18,\n",
       "   18,\n",
       "   18]},\n",
       " 19: {'accuracies': [0.3392857015132904,\n",
       "   0.2678571343421936,\n",
       "   0.3214285671710968,\n",
       "   0.3571428656578064,\n",
       "   0.2857142984867096,\n",
       "   0.3392857015132904,\n",
       "   0.3214285671710968,\n",
       "   0.4107142984867096,\n",
       "   0.375,\n",
       "   0.3035714328289032,\n",
       "   0.4107142984867096,\n",
       "   0.3392857015132904,\n",
       "   0.4285714328289032,\n",
       "   0.4464285671710968,\n",
       "   0.5892857313156128,\n",
       "   0.6071428656578064,\n",
       "   0.7321428656578064,\n",
       "   0.5357142686843872,\n",
       "   0.6607142686843872,\n",
       "   0.6428571343421936,\n",
       "   0.6785714030265808,\n",
       "   0.7678571343421936,\n",
       "   0.6964285969734192,\n",
       "   0.6964285969734192,\n",
       "   0.7321428656578064,\n",
       "   0.6964285969734192,\n",
       "   0.7678571343421936,\n",
       "   0.8035714030265808,\n",
       "   0.7857142686843872,\n",
       "   0.6785714030265808],\n",
       "  'losses': [1.3523515377725874,\n",
       "   1.1679091027804784,\n",
       "   1.1493520140647888,\n",
       "   1.0400320972715105,\n",
       "   1.1355269636426653,\n",
       "   0.9780607053211757,\n",
       "   1.0376688497407096,\n",
       "   0.9958295226097107,\n",
       "   0.9202343991824559,\n",
       "   0.8474800842148917,\n",
       "   0.8099617617470878,\n",
       "   0.9205235583441598,\n",
       "   0.7930520517485482,\n",
       "   0.7902144832270486,\n",
       "   0.6275756359100342,\n",
       "   0.6550942063331604,\n",
       "   0.6374614579336983,\n",
       "   0.7260192802974156,\n",
       "   0.5663227438926697,\n",
       "   0.6676981193678719,\n",
       "   0.5360066166945866,\n",
       "   0.5894894301891327,\n",
       "   0.5675608089991978,\n",
       "   0.5520604635987963,\n",
       "   0.6228583582809993,\n",
       "   0.5431699497359139,\n",
       "   0.5136830806732178,\n",
       "   0.5216070711612701,\n",
       "   0.5231831116335732,\n",
       "   0.6724761979920524],\n",
       "  'epoch': [0,\n",
       "   1,\n",
       "   2,\n",
       "   3,\n",
       "   4,\n",
       "   5,\n",
       "   6,\n",
       "   7,\n",
       "   8,\n",
       "   9,\n",
       "   10,\n",
       "   11,\n",
       "   12,\n",
       "   13,\n",
       "   14,\n",
       "   15,\n",
       "   16,\n",
       "   17,\n",
       "   18,\n",
       "   19,\n",
       "   20,\n",
       "   21,\n",
       "   22,\n",
       "   23,\n",
       "   24,\n",
       "   25,\n",
       "   26,\n",
       "   27,\n",
       "   28,\n",
       "   29],\n",
       "  'model': [19,\n",
       "   19,\n",
       "   19,\n",
       "   19,\n",
       "   19,\n",
       "   19,\n",
       "   19,\n",
       "   19,\n",
       "   19,\n",
       "   19,\n",
       "   19,\n",
       "   19,\n",
       "   19,\n",
       "   19,\n",
       "   19,\n",
       "   19,\n",
       "   19,\n",
       "   19,\n",
       "   19,\n",
       "   19,\n",
       "   19,\n",
       "   19,\n",
       "   19,\n",
       "   19,\n",
       "   19,\n",
       "   19,\n",
       "   19,\n",
       "   19,\n",
       "   19,\n",
       "   19]}}"
      ]
     },
     "execution_count": 29,
     "metadata": {},
     "output_type": "execute_result"
    }
   ],
   "source": [
    "metrics_pnc"
   ]
  },
  {
   "cell_type": "code",
   "execution_count": null,
   "id": "d09b469a-4de8-456f-8acb-bcdbdc9d5790",
   "metadata": {},
   "outputs": [],
   "source": [
    "import torch.nn.functional as F\n",
    "\n",
    "# You can also train with a standard PyTorch train loop \n",
    "\n",
    "optimizer = binn_pnc.configure_optimizers()[0][0]\n",
    "\n",
    "num_epochs = 30\n",
    "\n",
    "for epoch in range(num_epochs):\n",
    "    binn_pnc.train() \n",
    "    total_loss = 0.0\n",
    "    total_accuracy = 0\n",
    "\n",
    "    for batch_idx, (inputs, targets) in enumerate(dataloader):\n",
    "        inputs = inputs.to(binn_pnc.device)\n",
    "        targets = targets.to(binn_pnc.device).type(torch.LongTensor)\n",
    "        optimizer.zero_grad()\n",
    "        outputs = binn_pnc(inputs).to(binn_pnc.device)\n",
    "        loss = F.cross_entropy(outputs, targets)\n",
    "        loss.backward()\n",
    "        optimizer.step()\n",
    "        total_loss += loss.item()\n",
    "        total_accuracy += torch.sum(torch.argmax(outputs, axis=1) == targets) / len(targets)\n",
    "\n",
    "    avg_loss = total_loss / len(dataloader)\n",
    "    avg_accuracy = total_accuracy / len(dataloader)\n",
    "    print(f'Epoch {epoch}, Average Accuracy {avg_accuracy}, Average Loss: {avg_loss}')\n"
   ]
  },
  {
   "cell_type": "code",
   "execution_count": null,
   "id": "6d589236-dda2-41dc-885f-84f8619ba24f",
   "metadata": {},
   "outputs": [],
   "source": [
    "test_data = torch.Tensor(X[5:10])\n",
    "background_data = torch.Tensor(X[0:5])\n",
    "\n",
    "\n",
    "importance_df_pnc = explainer_pnc.explain(test_data, background_data)"
   ]
  },
  {
   "cell_type": "code",
   "execution_count": 19,
   "id": "4a0fd88e-2168-4a44-8fa4-48e2713c1767",
   "metadata": {},
   "outputs": [
    {
     "data": {
      "text/html": [
       "<div>\n",
       "<style scoped>\n",
       "    .dataframe tbody tr th:only-of-type {\n",
       "        vertical-align: middle;\n",
       "    }\n",
       "\n",
       "    .dataframe tbody tr th {\n",
       "        vertical-align: top;\n",
       "    }\n",
       "\n",
       "    .dataframe thead th {\n",
       "        text-align: right;\n",
       "    }\n",
       "</style>\n",
       "<table border=\"1\" class=\"dataframe\">\n",
       "  <thead>\n",
       "    <tr style=\"text-align: right;\">\n",
       "      <th></th>\n",
       "      <th>source</th>\n",
       "      <th>target</th>\n",
       "      <th>source name</th>\n",
       "      <th>target name</th>\n",
       "      <th>type</th>\n",
       "      <th>source layer</th>\n",
       "      <th>target layer</th>\n",
       "      <th>value_0</th>\n",
       "      <th>value_1</th>\n",
       "      <th>value_2</th>\n",
       "      <th>...</th>\n",
       "      <th>value_13</th>\n",
       "      <th>value_14</th>\n",
       "      <th>value_15</th>\n",
       "      <th>value_16</th>\n",
       "      <th>value_17</th>\n",
       "      <th>value_18</th>\n",
       "      <th>value_19</th>\n",
       "      <th>value_mean</th>\n",
       "      <th>values_std</th>\n",
       "      <th>value</th>\n",
       "    </tr>\n",
       "  </thead>\n",
       "  <tbody>\n",
       "    <tr>\n",
       "      <th>0</th>\n",
       "      <td>1</td>\n",
       "      <td>79</td>\n",
       "      <td>O00548</td>\n",
       "      <td>R-HSA-9022702</td>\n",
       "      <td>0</td>\n",
       "      <td>0</td>\n",
       "      <td>1</td>\n",
       "      <td>0.318716</td>\n",
       "      <td>0.053923</td>\n",
       "      <td>0.007466</td>\n",
       "      <td>...</td>\n",
       "      <td>0.066069</td>\n",
       "      <td>0.124450</td>\n",
       "      <td>0.257760</td>\n",
       "      <td>0.145993</td>\n",
       "      <td>0.042453</td>\n",
       "      <td>0.071538</td>\n",
       "      <td>0.270772</td>\n",
       "      <td>0.151058</td>\n",
       "      <td>0.096492</td>\n",
       "      <td>0.151058</td>\n",
       "    </tr>\n",
       "    <tr>\n",
       "      <th>1</th>\n",
       "      <td>1</td>\n",
       "      <td>79</td>\n",
       "      <td>O00548</td>\n",
       "      <td>R-HSA-9022702</td>\n",
       "      <td>1</td>\n",
       "      <td>0</td>\n",
       "      <td>1</td>\n",
       "      <td>0.034366</td>\n",
       "      <td>0.372120</td>\n",
       "      <td>0.071703</td>\n",
       "      <td>...</td>\n",
       "      <td>0.301156</td>\n",
       "      <td>0.168784</td>\n",
       "      <td>0.126811</td>\n",
       "      <td>0.257569</td>\n",
       "      <td>0.223108</td>\n",
       "      <td>0.271181</td>\n",
       "      <td>0.180103</td>\n",
       "      <td>0.168557</td>\n",
       "      <td>0.106034</td>\n",
       "      <td>0.168557</td>\n",
       "    </tr>\n",
       "    <tr>\n",
       "      <th>2</th>\n",
       "      <td>1</td>\n",
       "      <td>88</td>\n",
       "      <td>O00548</td>\n",
       "      <td>R-HSA-9824272</td>\n",
       "      <td>0</td>\n",
       "      <td>0</td>\n",
       "      <td>1</td>\n",
       "      <td>0.318716</td>\n",
       "      <td>0.053923</td>\n",
       "      <td>0.007466</td>\n",
       "      <td>...</td>\n",
       "      <td>0.066069</td>\n",
       "      <td>0.124450</td>\n",
       "      <td>0.257760</td>\n",
       "      <td>0.145993</td>\n",
       "      <td>0.042453</td>\n",
       "      <td>0.071538</td>\n",
       "      <td>0.270772</td>\n",
       "      <td>0.151058</td>\n",
       "      <td>0.096492</td>\n",
       "      <td>0.151058</td>\n",
       "    </tr>\n",
       "    <tr>\n",
       "      <th>3</th>\n",
       "      <td>1</td>\n",
       "      <td>88</td>\n",
       "      <td>O00548</td>\n",
       "      <td>R-HSA-9824272</td>\n",
       "      <td>1</td>\n",
       "      <td>0</td>\n",
       "      <td>1</td>\n",
       "      <td>0.034366</td>\n",
       "      <td>0.372120</td>\n",
       "      <td>0.071703</td>\n",
       "      <td>...</td>\n",
       "      <td>0.301156</td>\n",
       "      <td>0.168784</td>\n",
       "      <td>0.126811</td>\n",
       "      <td>0.257569</td>\n",
       "      <td>0.223108</td>\n",
       "      <td>0.271181</td>\n",
       "      <td>0.180103</td>\n",
       "      <td>0.168557</td>\n",
       "      <td>0.106034</td>\n",
       "      <td>0.168557</td>\n",
       "    </tr>\n",
       "    <tr>\n",
       "      <th>4</th>\n",
       "      <td>2</td>\n",
       "      <td>67</td>\n",
       "      <td>O14836</td>\n",
       "      <td>R-HSA-5669034</td>\n",
       "      <td>0</td>\n",
       "      <td>0</td>\n",
       "      <td>1</td>\n",
       "      <td>0.002567</td>\n",
       "      <td>0.000291</td>\n",
       "      <td>0.004321</td>\n",
       "      <td>...</td>\n",
       "      <td>0.002091</td>\n",
       "      <td>0.007764</td>\n",
       "      <td>0.009872</td>\n",
       "      <td>0.006758</td>\n",
       "      <td>0.002253</td>\n",
       "      <td>0.004799</td>\n",
       "      <td>0.034372</td>\n",
       "      <td>0.008282</td>\n",
       "      <td>0.010800</td>\n",
       "      <td>0.008282</td>\n",
       "    </tr>\n",
       "    <tr>\n",
       "      <th>...</th>\n",
       "      <td>...</td>\n",
       "      <td>...</td>\n",
       "      <td>...</td>\n",
       "      <td>...</td>\n",
       "      <td>...</td>\n",
       "      <td>...</td>\n",
       "      <td>...</td>\n",
       "      <td>...</td>\n",
       "      <td>...</td>\n",
       "      <td>...</td>\n",
       "      <td>...</td>\n",
       "      <td>...</td>\n",
       "      <td>...</td>\n",
       "      <td>...</td>\n",
       "      <td>...</td>\n",
       "      <td>...</td>\n",
       "      <td>...</td>\n",
       "      <td>...</td>\n",
       "      <td>...</td>\n",
       "      <td>...</td>\n",
       "      <td>...</td>\n",
       "    </tr>\n",
       "    <tr>\n",
       "      <th>331</th>\n",
       "      <td>115</td>\n",
       "      <td>0</td>\n",
       "      <td>R-HSA-9703648</td>\n",
       "      <td>root</td>\n",
       "      <td>1</td>\n",
       "      <td>2</td>\n",
       "      <td>3</td>\n",
       "      <td>0.112309</td>\n",
       "      <td>0.246625</td>\n",
       "      <td>0.211599</td>\n",
       "      <td>...</td>\n",
       "      <td>0.074688</td>\n",
       "      <td>0.064762</td>\n",
       "      <td>0.185222</td>\n",
       "      <td>0.128501</td>\n",
       "      <td>0.198689</td>\n",
       "      <td>0.253425</td>\n",
       "      <td>0.022581</td>\n",
       "      <td>0.122359</td>\n",
       "      <td>0.069733</td>\n",
       "      <td>0.122359</td>\n",
       "    </tr>\n",
       "    <tr>\n",
       "      <th>332</th>\n",
       "      <td>116</td>\n",
       "      <td>0</td>\n",
       "      <td>R-HSA-9707564</td>\n",
       "      <td>root</td>\n",
       "      <td>0</td>\n",
       "      <td>2</td>\n",
       "      <td>3</td>\n",
       "      <td>0.026146</td>\n",
       "      <td>0.148552</td>\n",
       "      <td>0.150529</td>\n",
       "      <td>...</td>\n",
       "      <td>0.127900</td>\n",
       "      <td>0.181940</td>\n",
       "      <td>0.024908</td>\n",
       "      <td>0.059295</td>\n",
       "      <td>0.145227</td>\n",
       "      <td>0.085896</td>\n",
       "      <td>0.075697</td>\n",
       "      <td>0.103836</td>\n",
       "      <td>0.071000</td>\n",
       "      <td>0.103836</td>\n",
       "    </tr>\n",
       "    <tr>\n",
       "      <th>333</th>\n",
       "      <td>116</td>\n",
       "      <td>0</td>\n",
       "      <td>R-HSA-9707564</td>\n",
       "      <td>root</td>\n",
       "      <td>1</td>\n",
       "      <td>2</td>\n",
       "      <td>3</td>\n",
       "      <td>0.155926</td>\n",
       "      <td>0.000155</td>\n",
       "      <td>0.087642</td>\n",
       "      <td>...</td>\n",
       "      <td>0.162113</td>\n",
       "      <td>0.158100</td>\n",
       "      <td>0.179598</td>\n",
       "      <td>0.031173</td>\n",
       "      <td>0.088944</td>\n",
       "      <td>0.031224</td>\n",
       "      <td>0.162326</td>\n",
       "      <td>0.123178</td>\n",
       "      <td>0.069154</td>\n",
       "      <td>0.123178</td>\n",
       "    </tr>\n",
       "    <tr>\n",
       "      <th>334</th>\n",
       "      <td>117</td>\n",
       "      <td>0</td>\n",
       "      <td>R-HSA-9793380</td>\n",
       "      <td>root</td>\n",
       "      <td>0</td>\n",
       "      <td>2</td>\n",
       "      <td>3</td>\n",
       "      <td>0.297510</td>\n",
       "      <td>0.097538</td>\n",
       "      <td>0.033844</td>\n",
       "      <td>...</td>\n",
       "      <td>0.081561</td>\n",
       "      <td>0.083822</td>\n",
       "      <td>0.086316</td>\n",
       "      <td>0.018613</td>\n",
       "      <td>0.074270</td>\n",
       "      <td>0.088870</td>\n",
       "      <td>0.269251</td>\n",
       "      <td>0.112110</td>\n",
       "      <td>0.082116</td>\n",
       "      <td>0.112110</td>\n",
       "    </tr>\n",
       "    <tr>\n",
       "      <th>335</th>\n",
       "      <td>117</td>\n",
       "      <td>0</td>\n",
       "      <td>R-HSA-9793380</td>\n",
       "      <td>root</td>\n",
       "      <td>1</td>\n",
       "      <td>2</td>\n",
       "      <td>3</td>\n",
       "      <td>0.041444</td>\n",
       "      <td>0.293593</td>\n",
       "      <td>0.166109</td>\n",
       "      <td>...</td>\n",
       "      <td>0.239934</td>\n",
       "      <td>0.170242</td>\n",
       "      <td>0.009038</td>\n",
       "      <td>0.154041</td>\n",
       "      <td>0.168454</td>\n",
       "      <td>0.083506</td>\n",
       "      <td>0.131727</td>\n",
       "      <td>0.134860</td>\n",
       "      <td>0.084518</td>\n",
       "      <td>0.134860</td>\n",
       "    </tr>\n",
       "  </tbody>\n",
       "</table>\n",
       "<p>336 rows × 30 columns</p>\n",
       "</div>"
      ],
      "text/plain": [
       "     source  target    source name    target name  type  source layer  \\\n",
       "0         1      79         O00548  R-HSA-9022702     0             0   \n",
       "1         1      79         O00548  R-HSA-9022702     1             0   \n",
       "2         1      88         O00548  R-HSA-9824272     0             0   \n",
       "3         1      88         O00548  R-HSA-9824272     1             0   \n",
       "4         2      67         O14836  R-HSA-5669034     0             0   \n",
       "..      ...     ...            ...            ...   ...           ...   \n",
       "331     115       0  R-HSA-9703648           root     1             2   \n",
       "332     116       0  R-HSA-9707564           root     0             2   \n",
       "333     116       0  R-HSA-9707564           root     1             2   \n",
       "334     117       0  R-HSA-9793380           root     0             2   \n",
       "335     117       0  R-HSA-9793380           root     1             2   \n",
       "\n",
       "     target layer   value_0   value_1   value_2  ...  value_13  value_14  \\\n",
       "0               1  0.318716  0.053923  0.007466  ...  0.066069  0.124450   \n",
       "1               1  0.034366  0.372120  0.071703  ...  0.301156  0.168784   \n",
       "2               1  0.318716  0.053923  0.007466  ...  0.066069  0.124450   \n",
       "3               1  0.034366  0.372120  0.071703  ...  0.301156  0.168784   \n",
       "4               1  0.002567  0.000291  0.004321  ...  0.002091  0.007764   \n",
       "..            ...       ...       ...       ...  ...       ...       ...   \n",
       "331             3  0.112309  0.246625  0.211599  ...  0.074688  0.064762   \n",
       "332             3  0.026146  0.148552  0.150529  ...  0.127900  0.181940   \n",
       "333             3  0.155926  0.000155  0.087642  ...  0.162113  0.158100   \n",
       "334             3  0.297510  0.097538  0.033844  ...  0.081561  0.083822   \n",
       "335             3  0.041444  0.293593  0.166109  ...  0.239934  0.170242   \n",
       "\n",
       "     value_15  value_16  value_17  value_18  value_19  value_mean  values_std  \\\n",
       "0    0.257760  0.145993  0.042453  0.071538  0.270772    0.151058    0.096492   \n",
       "1    0.126811  0.257569  0.223108  0.271181  0.180103    0.168557    0.106034   \n",
       "2    0.257760  0.145993  0.042453  0.071538  0.270772    0.151058    0.096492   \n",
       "3    0.126811  0.257569  0.223108  0.271181  0.180103    0.168557    0.106034   \n",
       "4    0.009872  0.006758  0.002253  0.004799  0.034372    0.008282    0.010800   \n",
       "..        ...       ...       ...       ...       ...         ...         ...   \n",
       "331  0.185222  0.128501  0.198689  0.253425  0.022581    0.122359    0.069733   \n",
       "332  0.024908  0.059295  0.145227  0.085896  0.075697    0.103836    0.071000   \n",
       "333  0.179598  0.031173  0.088944  0.031224  0.162326    0.123178    0.069154   \n",
       "334  0.086316  0.018613  0.074270  0.088870  0.269251    0.112110    0.082116   \n",
       "335  0.009038  0.154041  0.168454  0.083506  0.131727    0.134860    0.084518   \n",
       "\n",
       "        value  \n",
       "0    0.151058  \n",
       "1    0.168557  \n",
       "2    0.151058  \n",
       "3    0.168557  \n",
       "4    0.008282  \n",
       "..        ...  \n",
       "331  0.122359  \n",
       "332  0.103836  \n",
       "333  0.123178  \n",
       "334  0.112110  \n",
       "335  0.134860  \n",
       "\n",
       "[336 rows x 30 columns]"
      ]
     },
     "execution_count": 19,
     "metadata": {},
     "output_type": "execute_result"
    }
   ],
   "source": [
    "importance_df_pnc"
   ]
  },
  {
   "cell_type": "code",
   "execution_count": null,
   "id": "0c6af7f7-ca88-4f45-8900-fe1029d651b4",
   "metadata": {},
   "outputs": [],
   "source": [
    "import seaborn as sns\n",
    "import matplotlib.pyplot as plt\n",
    "\n",
    "\n",
    "sns.jointplot(plot_df, y=\"mean\", x=\"std\", hue=\"source layer\", palette=\"coolwarm\")\n",
    "\n",
    "#plt.savefig(\"pnc_robustness.png\", dpi=500)\n"
   ]
  },
  {
   "cell_type": "markdown",
   "id": "25f3714a-99eb-459c-944c-021df71adf9a",
   "metadata": {},
   "source": [
    "# Start working from here!!"
   ]
  },
  {
   "cell_type": "code",
   "execution_count": null,
   "id": "d90429f2-e6e9-46b4-bddf-e71e86f4814b",
   "metadata": {},
   "outputs": [],
   "source": [
    "#importance_df_pnc.to_csv('data/importance_df_pnc_erik.csv', sep = '\\t', index=False)"
   ]
  },
  {
   "cell_type": "code",
   "execution_count": null,
   "id": "643f3234-0236-4274-9467-7e63bd0cce48",
   "metadata": {},
   "outputs": [],
   "source": [
    "import pandas as pd\n",
    "importance_df_pnc = pd.read_csv('data/importance_df_pnc_erik.csv', sep = '\\t')\n",
    "#importance_df_pnc = pd.read_csv('data/importance_df_pnc.csv', sep = '\\t')\n",
    "importance_df_pnc.head()"
   ]
  },
  {
   "cell_type": "code",
   "execution_count": 20,
   "id": "849d426e-4039-4389-9617-3aa004bf2fd5",
   "metadata": {
    "scrolled": true
   },
   "outputs": [],
   "source": [
    "from binn import ImportanceNetwork\n",
    "\n",
    "IG_pnc = ImportanceNetwork(importance_df_pnc, norm_method=\"fan\")\n",
    "\n",
    "#IG_pnc.importance_df.sort_values(\"value\", ascending=False).head()"
   ]
  },
  {
   "cell_type": "code",
   "execution_count": 21,
   "id": "5b2cb1dc-ad58-4107-adcc-3c90fc61869e",
   "metadata": {},
   "outputs": [
    {
     "data": {
      "application/vnd.plotly.v1+json": {
       "config": {
        "plotlyServerURL": "https://plot.ly"
       },
       "data": [
        {
         "arrangement": "snap",
         "link": {
          "color": [
           "rgba(179.94665529, 3.9668208, 38.30936706, 0.75)",
           "rgba(188.40062870999998, 209.755763565, 246.906571275, 0.75)",
           "rgba(95.25586998, 126.86216988000001, 231.91417923, 0.75)",
           "rgba(95.25586998, 126.86216988000001, 231.91417923, 0.75)",
           "rgba(176.79692763, 203.06010358499998, 251.508484035, 0.75)",
           "rgba(155.179576887, 187.609933605, 254.83522545099999, 0.75)",
           "rgba(230.22641093100003, 215.4228909, 207.052307604, 0.75)",
           "rgba(216.25030260300002, 86.26140968400006, 70.17743806200005, 0.75)",
           "rgba(216.25030260300002, 86.26140968400006, 70.17743806200005, 0.75)",
           "rgba(242.953983006, 199.65602338800002, 178.154671683, 0.75)",
           "rgba(126.13281398399998, 161.420676704, 249.640618319, 0.75)",
           "rgba(126.13281398399998, 161.420676704, 249.640618319, 0.75)",
           "rgba(197.040016894, 213.939445396, 242.076283778, 0.75)",
           "rgba(247.228008441, 178.712381244, 149.81454447, 0.75)",
           "rgba(239.27322086499998, 206.273720768, 188.996186332, 0.75)",
           "rgba(247.143973017, 179.988097308, 151.39458654999999, 0.75)",
           "rgba(210.8300007, 218.842365662, 231.27292438, 0.75)",
           "rgba(246.807831321, 185.090961564, 157.71475487, 0.75)",
           "rgba(206.706997081, 68.543250738, 60.034040941, 0.75)",
           "rgba(243.414284702, 198.658913276, 176.595369251, 0.75)",
           "rgba(179.94665529, 3.9668208, 38.30936706, 0.75)",
           "rgba(216.078050931, 219.930483006, 225.81281994300002, 0.75)",
           "rgba(222.230590371, 219.888891726, 218.53914733500002, 0.75)",
           "rgba(237.320492065, 208.81363491200003, 193.582329628, 0.75)",
           "rgba(230.97478689300002, 116.072351502, 90.610650381, 0.75)",
           "rgba(233.597983923, 212.66421378, 201.116682132, 0.75)",
           "rgba(236.669582465, 209.66027296, 195.11104406, 0.75)",
           "rgba(179.94665529, 3.9668208, 38.30936706, 0.75)",
           "rgba(242.11076732700002, 145.95891752900005, 115.62795911000006, 0.75)",
           "rgba(242.953983006, 199.65602338800002, 178.154671683, 0.75)",
           "rgba(231.771546797, 117.92032247800005, 92.04235050900004, 0.75)",
           "rgba(207.95463858500003, 70.83415173, 61.274859244999995, 0.75)",
           "rgba(238.62231126499998, 207.12035881600002, 190.52490076400005, 0.75)",
           "rgb(236,236,236, 0.75)",
           "rgb(236,236,236, 0.75)",
           "rgb(236,236,236, 0.75)",
           "rgb(236,236,236, 0.75)",
           "rgb(236,236,236, 0.75)",
           "rgb(236,236,236, 0.75)",
           "rgb(236,236,236, 0.75)",
           "rgb(236,236,236, 0.75)"
          ],
          "source": [
           1,
           2,
           3,
           3,
           4,
           5,
           6,
           7,
           7,
           8,
           9,
           9,
           10,
           11,
           12,
           13,
           14,
           15,
           16,
           17,
           18,
           19,
           20,
           21,
           22,
           23,
           24,
           25,
           26,
           27,
           28,
           29,
           30,
           31,
           31,
           31,
           31,
           32,
           33,
           33,
           33
          ],
          "target": [
           31,
           12,
           31,
           20,
           19,
           31,
           18,
           31,
           16,
           14,
           11,
           31,
           15,
           21,
           32,
           24,
           25,
           23,
           22,
           32,
           29,
           32,
           32,
           0,
           0,
           0,
           0,
           0,
           0,
           0,
           0,
           0,
           0,
           27,
           26,
           28,
           30,
           0,
           13,
           14,
           17
          ],
          "value": [
           0.12053167411861253,
           0.07086094488744481,
           0.04895388208635449,
           0.04895388208635449,
           0.06784454138870502,
           0.0626884216820042,
           0.08286241735536322,
           0.1488985892306745,
           0.07444929461533725,
           0.08885431232293163,
           0.05601312789730985,
           0.05601312789730985,
           0.07307578443159811,
           0.1009320070392203,
           0.09705735894991298,
           0.10068747771176526,
           0.0922455943681057,
           0.10009100003675205,
           0.11041567856568062,
           0.09820880211930194,
           0.1134956281619634,
           0.09292582752731932,
           0.09394062551997832,
           0.0949020612464238,
           0.1038191486584346,
           0.09411129563406151,
           0.0946721395183866,
           0.10944687350067117,
           0.1015271387480025,
           0.09617422533826848,
           0.10357676770607922,
           0.10671509595917379,
           0.09505525369049825,
           0.023977955410833113,
           0.025312533066991372,
           0.0231958521202492,
           0.027513659401926325,
           0.1,
           0.037083284897869856,
           0.037083284897869856,
           0.025833430204260308,
           0.12053167411861253,
           0.07086094488744481,
           0.04895388208635449,
           0.04895388208635449,
           0.06784454138870502,
           0.0626884216820042,
           0.08286241735536322,
           0.1488985892306745,
           0.07444929461533725,
           0.08885431232293163,
           0.05601312789730985,
           0.05601312789730985,
           0.07307578443159811,
           0.1009320070392203,
           0.09705735894991298,
           0.10068747771176526,
           0.0922455943681057,
           0.10009100003675205,
           0.11041567856568062,
           0.09820880211930194,
           0.1134956281619634,
           0.09292582752731932,
           0.09394062551997832,
           0.0949020612464238,
           0.1038191486584346,
           0.09411129563406151,
           0.0946721395183866,
           0.10944687350067117,
           0.1015271387480025,
           0.09617422533826848,
           0.10357676770607922,
           0.10671509595917379,
           0.09505525369049825,
           0.023977955410833113,
           0.025312533066991372,
           0.0231958521202492,
           0.027513659401926325,
           0.1,
           0.037083284897869856,
           0.037083284897869856,
           0.025833430204260308,
           0.12053167411861253,
           0.07086094488744481,
           0.04895388208635449,
           0.04895388208635449,
           0.06784454138870502,
           0.0626884216820042,
           0.08286241735536322,
           0.1488985892306745,
           0.07444929461533725,
           0.08885431232293163,
           0.05601312789730985,
           0.05601312789730985,
           0.07307578443159811,
           0.1009320070392203,
           0.09705735894991298,
           0.10068747771176526,
           0.0922455943681057,
           0.10009100003675205,
           0.11041567856568062,
           0.09820880211930194,
           0.1134956281619634,
           0.09292582752731932,
           0.09394062551997832,
           0.0949020612464238,
           0.1038191486584346,
           0.09411129563406151,
           0.0946721395183866,
           0.10944687350067117,
           0.1015271387480025,
           0.09617422533826848,
           0.10357676770607922,
           0.10671509595917379,
           0.09505525369049825,
           0.023977955410833113,
           0.025312533066991372,
           0.0231958521202492,
           0.027513659401926325,
           0.1,
           0.037083284897869856,
           0.037083284897869856,
           0.025833430204260308,
           0.12053167411861253,
           0.07086094488744481,
           0.04895388208635449,
           0.04895388208635449,
           0.06784454138870502,
           0.0626884216820042,
           0.08286241735536322,
           0.1488985892306745,
           0.07444929461533725,
           0.08885431232293163,
           0.05601312789730985,
           0.05601312789730985,
           0.07307578443159811,
           0.1009320070392203,
           0.09705735894991298,
           0.10068747771176526,
           0.0922455943681057,
           0.10009100003675205,
           0.11041567856568062,
           0.09820880211930194,
           0.1134956281619634,
           0.09292582752731932,
           0.09394062551997832,
           0.0949020612464238,
           0.1038191486584346,
           0.09411129563406151,
           0.0946721395183866,
           0.10944687350067117,
           0.1015271387480025,
           0.09617422533826848,
           0.10357676770607922,
           0.10671509595917379,
           0.09505525369049825,
           0.023977955410833113,
           0.025312533066991372,
           0.0231958521202492,
           0.027513659401926325,
           0.1,
           0.037083284897869856,
           0.037083284897869856,
           0.025833430204260308,
           0.12053167411861253,
           0.07086094488744481,
           0.04895388208635449,
           0.04895388208635449,
           0.06784454138870502,
           0.0626884216820042,
           0.08286241735536322,
           0.1488985892306745,
           0.07444929461533725,
           0.08885431232293163,
           0.05601312789730985,
           0.05601312789730985,
           0.07307578443159811,
           0.1009320070392203,
           0.09705735894991298,
           0.10068747771176526,
           0.0922455943681057,
           0.10009100003675205,
           0.11041567856568062,
           0.09820880211930194,
           0.1134956281619634,
           0.09292582752731932,
           0.09394062551997832,
           0.0949020612464238,
           0.1038191486584346,
           0.09411129563406151,
           0.0946721395183866,
           0.10944687350067117,
           0.1015271387480025,
           0.09617422533826848,
           0.10357676770607922,
           0.10671509595917379,
           0.09505525369049825,
           0.023977955410833113,
           0.025312533066991372,
           0.0231958521202492,
           0.027513659401926325,
           0.1,
           0.037083284897869856,
           0.037083284897869856,
           0.025833430204260308,
           0.12053167411861253,
           0.07086094488744481,
           0.04895388208635449,
           0.04895388208635449,
           0.06784454138870502,
           0.0626884216820042,
           0.08286241735536322,
           0.1488985892306745,
           0.07444929461533725,
           0.08885431232293163,
           0.05601312789730985,
           0.05601312789730985,
           0.07307578443159811,
           0.1009320070392203,
           0.09705735894991298,
           0.10068747771176526,
           0.0922455943681057,
           0.10009100003675205,
           0.11041567856568062,
           0.09820880211930194,
           0.1134956281619634,
           0.09292582752731932,
           0.09394062551997832,
           0.0949020612464238,
           0.1038191486584346,
           0.09411129563406151,
           0.0946721395183866,
           0.10944687350067117,
           0.1015271387480025,
           0.09617422533826848,
           0.10357676770607922,
           0.10671509595917379,
           0.09505525369049825,
           0.023977955410833113,
           0.025312533066991372,
           0.0231958521202492,
           0.027513659401926325,
           0.1,
           0.037083284897869856,
           0.037083284897869856,
           0.025833430204260308,
           0.12053167411861253,
           0.07086094488744481,
           0.04895388208635449,
           0.04895388208635449,
           0.06784454138870502,
           0.0626884216820042,
           0.08286241735536322,
           0.1488985892306745,
           0.07444929461533725,
           0.08885431232293163,
           0.05601312789730985,
           0.05601312789730985,
           0.07307578443159811,
           0.1009320070392203,
           0.09705735894991298,
           0.10068747771176526,
           0.0922455943681057,
           0.10009100003675205,
           0.11041567856568062,
           0.09820880211930194,
           0.1134956281619634,
           0.09292582752731932,
           0.09394062551997832,
           0.0949020612464238,
           0.1038191486584346,
           0.09411129563406151,
           0.0946721395183866,
           0.10944687350067117,
           0.1015271387480025,
           0.09617422533826848,
           0.10357676770607922,
           0.10671509595917379,
           0.09505525369049825,
           0.023977955410833113,
           0.025312533066991372,
           0.0231958521202492,
           0.027513659401926325,
           0.1,
           0.037083284897869856,
           0.037083284897869856,
           0.025833430204260308,
           0.12053167411861253,
           0.07086094488744481,
           0.04895388208635449,
           0.04895388208635449,
           0.06784454138870502,
           0.0626884216820042,
           0.08286241735536322,
           0.1488985892306745,
           0.07444929461533725,
           0.08885431232293163,
           0.05601312789730985,
           0.05601312789730985,
           0.07307578443159811,
           0.1009320070392203,
           0.09705735894991298,
           0.10068747771176526,
           0.0922455943681057,
           0.10009100003675205,
           0.11041567856568062,
           0.09820880211930194,
           0.1134956281619634,
           0.09292582752731932,
           0.09394062551997832,
           0.0949020612464238,
           0.1038191486584346,
           0.09411129563406151,
           0.0946721395183866,
           0.10944687350067117,
           0.1015271387480025,
           0.09617422533826848,
           0.10357676770607922,
           0.10671509595917379,
           0.09505525369049825,
           0.023977955410833113,
           0.025312533066991372,
           0.0231958521202492,
           0.027513659401926325,
           0.1,
           0.037083284897869856,
           0.037083284897869856,
           0.025833430204260308,
           0.12053167411861253,
           0.07086094488744481,
           0.04895388208635449,
           0.04895388208635449,
           0.06784454138870502,
           0.0626884216820042,
           0.08286241735536322,
           0.1488985892306745,
           0.07444929461533725,
           0.08885431232293163,
           0.05601312789730985,
           0.05601312789730985,
           0.07307578443159811,
           0.1009320070392203,
           0.09705735894991298,
           0.10068747771176526,
           0.0922455943681057,
           0.10009100003675205,
           0.11041567856568062,
           0.09820880211930194,
           0.1134956281619634,
           0.09292582752731932,
           0.09394062551997832,
           0.0949020612464238,
           0.1038191486584346,
           0.09411129563406151,
           0.0946721395183866,
           0.10944687350067117,
           0.1015271387480025,
           0.09617422533826848,
           0.10357676770607922,
           0.10671509595917379,
           0.09505525369049825,
           0.023977955410833113,
           0.025312533066991372,
           0.0231958521202492,
           0.027513659401926325,
           0.1,
           0.037083284897869856,
           0.037083284897869856,
           0.025833430204260308,
           0.12053167411861253,
           0.07086094488744481,
           0.04895388208635449,
           0.04895388208635449,
           0.06784454138870502,
           0.0626884216820042,
           0.08286241735536322,
           0.1488985892306745,
           0.07444929461533725,
           0.08885431232293163,
           0.05601312789730985,
           0.05601312789730985,
           0.07307578443159811,
           0.1009320070392203,
           0.09705735894991298,
           0.10068747771176526,
           0.0922455943681057,
           0.10009100003675205,
           0.11041567856568062,
           0.09820880211930194,
           0.1134956281619634,
           0.09292582752731932,
           0.09394062551997832,
           0.0949020612464238,
           0.1038191486584346,
           0.09411129563406151,
           0.0946721395183866,
           0.10944687350067117,
           0.1015271387480025,
           0.09617422533826848,
           0.10357676770607922,
           0.10671509595917379,
           0.09505525369049825,
           0.023977955410833113,
           0.025312533066991372,
           0.0231958521202492,
           0.027513659401926325,
           0.1,
           0.037083284897869856,
           0.037083284897869856,
           0.025833430204260308
          ]
         },
         "node": {
          "color": [
           "rgba(0, 0, 0, 1)",
           "rgba(179.94665529, 3.9668208, 38.30936706, 0.75)",
           "rgba(188.40062870999998, 209.755763565, 246.906571275, 0.75)",
           "rgba(95.25586998, 126.86216988000001, 231.91417923, 0.75)",
           "rgba(176.79692763, 203.06010358499998, 251.508484035, 0.75)",
           "rgba(155.179576887, 187.609933605, 254.83522545099999, 0.75)",
           "rgba(230.22641093100003, 215.4228909, 207.052307604, 0.75)",
           "rgba(216.25030260300002, 86.26140968400006, 70.17743806200005, 0.75)",
           "rgba(242.953983006, 199.65602338800002, 178.154671683, 0.75)",
           "rgba(126.13281398399998, 161.420676704, 249.640618319, 0.75)",
           "rgba(197.040016894, 213.939445396, 242.076283778, 0.75)",
           "rgba(247.228008441, 178.712381244, 149.81454447, 0.75)",
           "rgba(239.27322086499998, 206.273720768, 188.996186332, 0.75)",
           "rgba(247.143973017, 179.988097308, 151.39458654999999, 0.75)",
           "rgba(210.8300007, 218.842365662, 231.27292438, 0.75)",
           "rgba(246.807831321, 185.090961564, 157.71475487, 0.75)",
           "rgba(206.706997081, 68.543250738, 60.034040941, 0.75)",
           "rgba(243.414284702, 198.658913276, 176.595369251, 0.75)",
           "rgba(179.94665529, 3.9668208, 38.30936706, 0.75)",
           "rgba(216.078050931, 219.930483006, 225.81281994300002, 0.75)",
           "rgba(222.230590371, 219.888891726, 218.53914733500002, 0.75)",
           "rgba(237.320492065, 208.81363491200003, 193.582329628, 0.75)",
           "rgba(230.97478689300002, 116.072351502, 90.610650381, 0.75)",
           "rgba(233.597983923, 212.66421378, 201.116682132, 0.75)",
           "rgba(236.669582465, 209.66027296, 195.11104406, 0.75)",
           "rgba(179.94665529, 3.9668208, 38.30936706, 0.75)",
           "rgba(242.11076732700002, 145.95891752900005, 115.62795911000006, 0.75)",
           "rgba(242.953983006, 199.65602338800002, 178.154671683, 0.75)",
           "rgba(231.771546797, 117.92032247800005, 92.04235050900004, 0.75)",
           "rgba(207.95463858500003, 70.83415173, 61.274859244999995, 0.75)",
           "rgba(238.62231126499998, 207.12035881600002, 190.52490076400005, 0.75)",
           "rgb(236,236,236, 0.75)",
           "rgb(236,236,236, 0.75)",
           "rgb(236,236,236, 0.75)"
          ],
          "label": [
           "Output",
           "O00548",
           "O95750",
           "P08581",
           "P09601",
           "P09619",
           "P09919",
           "P12111",
           "P31431",
           "P48061",
           "Q9BQB4",
           "R-HSA-1251985",
           "R-HSA-1307965",
           "R-HSA-210991",
           "R-HSA-3000170",
           "R-HSA-3772470",
           "R-HSA-8948216",
           "R-HSA-9702518",
           "R-HSA-9705462",
           "R-HSA-9707587",
           "R-HSA-9734091",
           "R-HSA-1236394",
           "R-HSA-1650814",
           "R-HSA-201681",
           "R-HSA-202733",
           "R-HSA-3000171",
           "R-HSA-375165",
           "R-HSA-400206",
           "R-HSA-8856828",
           "R-HSA-9674555",
           "R-HSA-9793380",
           "Other connections 2",
           "Other connections 3",
           "Other connections 1"
          ],
          "line": {
           "color": "white",
           "width": 0
          },
          "pad": 15,
          "thickness": 15,
          "x": [
           0.85,
           [
            0.0025
           ],
           [
            0.0025
           ],
           [
            0.0025
           ],
           [
            0.0025
           ],
           [
            0.0025
           ],
           [
            0.0025
           ],
           [
            0.0025
           ],
           [
            0.0025
           ],
           [
            0.0025
           ],
           [
            0.0025
           ],
           [
            0.2525
           ],
           [
            0.2525
           ],
           [
            0.2525
           ],
           [
            0.2525
           ],
           [
            0.2525
           ],
           [
            0.2525
           ],
           [
            0.2525
           ],
           [
            0.2525
           ],
           [
            0.2525
           ],
           [
            0.2525
           ],
           [
            0.5025
           ],
           [
            0.5025
           ],
           [
            0.5025
           ],
           [
            0.5025
           ],
           [
            0.5025
           ],
           [
            0.5025
           ],
           [
            0.5025
           ],
           [
            0.5025
           ],
           [
            0.5025
           ],
           [
            0.5025
           ],
           [
            0.2525
           ],
           [
            0.5025
           ],
           [
            0.0025
           ]
          ],
          "y": [
           0.5,
           [
            -0.04911111111111113
           ],
           [
            0.39533333333333337
           ],
           [
            0.7508888888888888
           ],
           [
            0.48422222222222217
           ],
           [
            0.5731111111111111
           ],
           [
            0.21755555555555556
           ],
           [
            0.03977777777777776
           ],
           [
            0.12866666666666665
           ],
           [
            0.662
           ],
           [
            0.30644444444444446
           ],
           [
            0.12866666666666665
           ],
           [
            0.48422222222222217
           ],
           [
            0.21755555555555556
           ],
           [
            0.7508888888888888
           ],
           [
            0.30644444444444446
           ],
           [
            0.03977777777777776
           ],
           [
            0.39533333333333337
           ],
           [
            -0.04911111111111113
           ],
           [
            0.662
           ],
           [
            0.5731111111111111
           ],
           [
            0.5731111111111111
           ],
           [
            0.12866666666666665
           ],
           [
            0.7508888888888888
           ],
           [
            0.662
           ],
           [
            -0.04911111111111113
           ],
           [
            0.30644444444444446
           ],
           [
            0.39533333333333337
           ],
           [
            0.21755555555555556
           ],
           [
            0.03977777777777776
           ],
           [
            0.48422222222222217
           ],
           [
            0.9
           ],
           [
            0.9
           ],
           [
            0.9
           ]
          ]
         },
         "orientation": "h",
         "textfont": {
          "family": "Arial",
          "size": 15
         },
         "type": "sankey"
        }
       ],
       "layout": {
        "autosize": true,
        "template": {
         "data": {
          "bar": [
           {
            "error_x": {
             "color": "#2a3f5f"
            },
            "error_y": {
             "color": "#2a3f5f"
            },
            "marker": {
             "line": {
              "color": "#E5ECF6",
              "width": 0.5
             },
             "pattern": {
              "fillmode": "overlay",
              "size": 10,
              "solidity": 0.2
             }
            },
            "type": "bar"
           }
          ],
          "barpolar": [
           {
            "marker": {
             "line": {
              "color": "#E5ECF6",
              "width": 0.5
             },
             "pattern": {
              "fillmode": "overlay",
              "size": 10,
              "solidity": 0.2
             }
            },
            "type": "barpolar"
           }
          ],
          "carpet": [
           {
            "aaxis": {
             "endlinecolor": "#2a3f5f",
             "gridcolor": "white",
             "linecolor": "white",
             "minorgridcolor": "white",
             "startlinecolor": "#2a3f5f"
            },
            "baxis": {
             "endlinecolor": "#2a3f5f",
             "gridcolor": "white",
             "linecolor": "white",
             "minorgridcolor": "white",
             "startlinecolor": "#2a3f5f"
            },
            "type": "carpet"
           }
          ],
          "choropleth": [
           {
            "colorbar": {
             "outlinewidth": 0,
             "ticks": ""
            },
            "type": "choropleth"
           }
          ],
          "contour": [
           {
            "colorbar": {
             "outlinewidth": 0,
             "ticks": ""
            },
            "colorscale": [
             [
              0,
              "#0d0887"
             ],
             [
              0.1111111111111111,
              "#46039f"
             ],
             [
              0.2222222222222222,
              "#7201a8"
             ],
             [
              0.3333333333333333,
              "#9c179e"
             ],
             [
              0.4444444444444444,
              "#bd3786"
             ],
             [
              0.5555555555555556,
              "#d8576b"
             ],
             [
              0.6666666666666666,
              "#ed7953"
             ],
             [
              0.7777777777777778,
              "#fb9f3a"
             ],
             [
              0.8888888888888888,
              "#fdca26"
             ],
             [
              1,
              "#f0f921"
             ]
            ],
            "type": "contour"
           }
          ],
          "contourcarpet": [
           {
            "colorbar": {
             "outlinewidth": 0,
             "ticks": ""
            },
            "type": "contourcarpet"
           }
          ],
          "heatmap": [
           {
            "colorbar": {
             "outlinewidth": 0,
             "ticks": ""
            },
            "colorscale": [
             [
              0,
              "#0d0887"
             ],
             [
              0.1111111111111111,
              "#46039f"
             ],
             [
              0.2222222222222222,
              "#7201a8"
             ],
             [
              0.3333333333333333,
              "#9c179e"
             ],
             [
              0.4444444444444444,
              "#bd3786"
             ],
             [
              0.5555555555555556,
              "#d8576b"
             ],
             [
              0.6666666666666666,
              "#ed7953"
             ],
             [
              0.7777777777777778,
              "#fb9f3a"
             ],
             [
              0.8888888888888888,
              "#fdca26"
             ],
             [
              1,
              "#f0f921"
             ]
            ],
            "type": "heatmap"
           }
          ],
          "heatmapgl": [
           {
            "colorbar": {
             "outlinewidth": 0,
             "ticks": ""
            },
            "colorscale": [
             [
              0,
              "#0d0887"
             ],
             [
              0.1111111111111111,
              "#46039f"
             ],
             [
              0.2222222222222222,
              "#7201a8"
             ],
             [
              0.3333333333333333,
              "#9c179e"
             ],
             [
              0.4444444444444444,
              "#bd3786"
             ],
             [
              0.5555555555555556,
              "#d8576b"
             ],
             [
              0.6666666666666666,
              "#ed7953"
             ],
             [
              0.7777777777777778,
              "#fb9f3a"
             ],
             [
              0.8888888888888888,
              "#fdca26"
             ],
             [
              1,
              "#f0f921"
             ]
            ],
            "type": "heatmapgl"
           }
          ],
          "histogram": [
           {
            "marker": {
             "pattern": {
              "fillmode": "overlay",
              "size": 10,
              "solidity": 0.2
             }
            },
            "type": "histogram"
           }
          ],
          "histogram2d": [
           {
            "colorbar": {
             "outlinewidth": 0,
             "ticks": ""
            },
            "colorscale": [
             [
              0,
              "#0d0887"
             ],
             [
              0.1111111111111111,
              "#46039f"
             ],
             [
              0.2222222222222222,
              "#7201a8"
             ],
             [
              0.3333333333333333,
              "#9c179e"
             ],
             [
              0.4444444444444444,
              "#bd3786"
             ],
             [
              0.5555555555555556,
              "#d8576b"
             ],
             [
              0.6666666666666666,
              "#ed7953"
             ],
             [
              0.7777777777777778,
              "#fb9f3a"
             ],
             [
              0.8888888888888888,
              "#fdca26"
             ],
             [
              1,
              "#f0f921"
             ]
            ],
            "type": "histogram2d"
           }
          ],
          "histogram2dcontour": [
           {
            "colorbar": {
             "outlinewidth": 0,
             "ticks": ""
            },
            "colorscale": [
             [
              0,
              "#0d0887"
             ],
             [
              0.1111111111111111,
              "#46039f"
             ],
             [
              0.2222222222222222,
              "#7201a8"
             ],
             [
              0.3333333333333333,
              "#9c179e"
             ],
             [
              0.4444444444444444,
              "#bd3786"
             ],
             [
              0.5555555555555556,
              "#d8576b"
             ],
             [
              0.6666666666666666,
              "#ed7953"
             ],
             [
              0.7777777777777778,
              "#fb9f3a"
             ],
             [
              0.8888888888888888,
              "#fdca26"
             ],
             [
              1,
              "#f0f921"
             ]
            ],
            "type": "histogram2dcontour"
           }
          ],
          "mesh3d": [
           {
            "colorbar": {
             "outlinewidth": 0,
             "ticks": ""
            },
            "type": "mesh3d"
           }
          ],
          "parcoords": [
           {
            "line": {
             "colorbar": {
              "outlinewidth": 0,
              "ticks": ""
             }
            },
            "type": "parcoords"
           }
          ],
          "pie": [
           {
            "automargin": true,
            "type": "pie"
           }
          ],
          "scatter": [
           {
            "fillpattern": {
             "fillmode": "overlay",
             "size": 10,
             "solidity": 0.2
            },
            "type": "scatter"
           }
          ],
          "scatter3d": [
           {
            "line": {
             "colorbar": {
              "outlinewidth": 0,
              "ticks": ""
             }
            },
            "marker": {
             "colorbar": {
              "outlinewidth": 0,
              "ticks": ""
             }
            },
            "type": "scatter3d"
           }
          ],
          "scattercarpet": [
           {
            "marker": {
             "colorbar": {
              "outlinewidth": 0,
              "ticks": ""
             }
            },
            "type": "scattercarpet"
           }
          ],
          "scattergeo": [
           {
            "marker": {
             "colorbar": {
              "outlinewidth": 0,
              "ticks": ""
             }
            },
            "type": "scattergeo"
           }
          ],
          "scattergl": [
           {
            "marker": {
             "colorbar": {
              "outlinewidth": 0,
              "ticks": ""
             }
            },
            "type": "scattergl"
           }
          ],
          "scattermapbox": [
           {
            "marker": {
             "colorbar": {
              "outlinewidth": 0,
              "ticks": ""
             }
            },
            "type": "scattermapbox"
           }
          ],
          "scatterpolar": [
           {
            "marker": {
             "colorbar": {
              "outlinewidth": 0,
              "ticks": ""
             }
            },
            "type": "scatterpolar"
           }
          ],
          "scatterpolargl": [
           {
            "marker": {
             "colorbar": {
              "outlinewidth": 0,
              "ticks": ""
             }
            },
            "type": "scatterpolargl"
           }
          ],
          "scatterternary": [
           {
            "marker": {
             "colorbar": {
              "outlinewidth": 0,
              "ticks": ""
             }
            },
            "type": "scatterternary"
           }
          ],
          "surface": [
           {
            "colorbar": {
             "outlinewidth": 0,
             "ticks": ""
            },
            "colorscale": [
             [
              0,
              "#0d0887"
             ],
             [
              0.1111111111111111,
              "#46039f"
             ],
             [
              0.2222222222222222,
              "#7201a8"
             ],
             [
              0.3333333333333333,
              "#9c179e"
             ],
             [
              0.4444444444444444,
              "#bd3786"
             ],
             [
              0.5555555555555556,
              "#d8576b"
             ],
             [
              0.6666666666666666,
              "#ed7953"
             ],
             [
              0.7777777777777778,
              "#fb9f3a"
             ],
             [
              0.8888888888888888,
              "#fdca26"
             ],
             [
              1,
              "#f0f921"
             ]
            ],
            "type": "surface"
           }
          ],
          "table": [
           {
            "cells": {
             "fill": {
              "color": "#EBF0F8"
             },
             "line": {
              "color": "white"
             }
            },
            "header": {
             "fill": {
              "color": "#C8D4E3"
             },
             "line": {
              "color": "white"
             }
            },
            "type": "table"
           }
          ]
         },
         "layout": {
          "annotationdefaults": {
           "arrowcolor": "#2a3f5f",
           "arrowhead": 0,
           "arrowwidth": 1
          },
          "autotypenumbers": "strict",
          "coloraxis": {
           "colorbar": {
            "outlinewidth": 0,
            "ticks": ""
           }
          },
          "colorscale": {
           "diverging": [
            [
             0,
             "#8e0152"
            ],
            [
             0.1,
             "#c51b7d"
            ],
            [
             0.2,
             "#de77ae"
            ],
            [
             0.3,
             "#f1b6da"
            ],
            [
             0.4,
             "#fde0ef"
            ],
            [
             0.5,
             "#f7f7f7"
            ],
            [
             0.6,
             "#e6f5d0"
            ],
            [
             0.7,
             "#b8e186"
            ],
            [
             0.8,
             "#7fbc41"
            ],
            [
             0.9,
             "#4d9221"
            ],
            [
             1,
             "#276419"
            ]
           ],
           "sequential": [
            [
             0,
             "#0d0887"
            ],
            [
             0.1111111111111111,
             "#46039f"
            ],
            [
             0.2222222222222222,
             "#7201a8"
            ],
            [
             0.3333333333333333,
             "#9c179e"
            ],
            [
             0.4444444444444444,
             "#bd3786"
            ],
            [
             0.5555555555555556,
             "#d8576b"
            ],
            [
             0.6666666666666666,
             "#ed7953"
            ],
            [
             0.7777777777777778,
             "#fb9f3a"
            ],
            [
             0.8888888888888888,
             "#fdca26"
            ],
            [
             1,
             "#f0f921"
            ]
           ],
           "sequentialminus": [
            [
             0,
             "#0d0887"
            ],
            [
             0.1111111111111111,
             "#46039f"
            ],
            [
             0.2222222222222222,
             "#7201a8"
            ],
            [
             0.3333333333333333,
             "#9c179e"
            ],
            [
             0.4444444444444444,
             "#bd3786"
            ],
            [
             0.5555555555555556,
             "#d8576b"
            ],
            [
             0.6666666666666666,
             "#ed7953"
            ],
            [
             0.7777777777777778,
             "#fb9f3a"
            ],
            [
             0.8888888888888888,
             "#fdca26"
            ],
            [
             1,
             "#f0f921"
            ]
           ]
          },
          "colorway": [
           "#636efa",
           "#EF553B",
           "#00cc96",
           "#ab63fa",
           "#FFA15A",
           "#19d3f3",
           "#FF6692",
           "#B6E880",
           "#FF97FF",
           "#FECB52"
          ],
          "font": {
           "color": "#2a3f5f"
          },
          "geo": {
           "bgcolor": "white",
           "lakecolor": "white",
           "landcolor": "#E5ECF6",
           "showlakes": true,
           "showland": true,
           "subunitcolor": "white"
          },
          "hoverlabel": {
           "align": "left"
          },
          "hovermode": "closest",
          "mapbox": {
           "style": "light"
          },
          "paper_bgcolor": "white",
          "plot_bgcolor": "#E5ECF6",
          "polar": {
           "angularaxis": {
            "gridcolor": "white",
            "linecolor": "white",
            "ticks": ""
           },
           "bgcolor": "#E5ECF6",
           "radialaxis": {
            "gridcolor": "white",
            "linecolor": "white",
            "ticks": ""
           }
          },
          "scene": {
           "xaxis": {
            "backgroundcolor": "#E5ECF6",
            "gridcolor": "white",
            "gridwidth": 2,
            "linecolor": "white",
            "showbackground": true,
            "ticks": "",
            "zerolinecolor": "white"
           },
           "yaxis": {
            "backgroundcolor": "#E5ECF6",
            "gridcolor": "white",
            "gridwidth": 2,
            "linecolor": "white",
            "showbackground": true,
            "ticks": "",
            "zerolinecolor": "white"
           },
           "zaxis": {
            "backgroundcolor": "#E5ECF6",
            "gridcolor": "white",
            "gridwidth": 2,
            "linecolor": "white",
            "showbackground": true,
            "ticks": "",
            "zerolinecolor": "white"
           }
          },
          "shapedefaults": {
           "line": {
            "color": "#2a3f5f"
           }
          },
          "ternary": {
           "aaxis": {
            "gridcolor": "white",
            "linecolor": "white",
            "ticks": ""
           },
           "baxis": {
            "gridcolor": "white",
            "linecolor": "white",
            "ticks": ""
           },
           "bgcolor": "#E5ECF6",
           "caxis": {
            "gridcolor": "white",
            "linecolor": "white",
            "ticks": ""
           }
          },
          "title": {
           "x": 0.05
          },
          "xaxis": {
           "automargin": true,
           "gridcolor": "white",
           "linecolor": "white",
           "ticks": "",
           "title": {
            "standoff": 15
           },
           "zerolinecolor": "white",
           "zerolinewidth": 2
          },
          "yaxis": {
           "automargin": true,
           "gridcolor": "white",
           "linecolor": "white",
           "ticks": "",
           "title": {
            "standoff": 15
           },
           "zerolinecolor": "white",
           "zerolinewidth": 2
          }
         }
        }
       }
      },
      "image/png": "[encoded data removed]",
      "text/html": [
       "<div>                            <div id=\"7456425d-7899-4dc5-a626-0e7f38bea2c5\" class=\"plotly-graph-div\" style=\"height:525px; width:100%;\"></div>            <script type=\"text/javascript\">                require([\"plotly\"], function(Plotly) {                    window.PLOTLYENV=window.PLOTLYENV || {};                                    if (document.getElementById(\"7456425d-7899-4dc5-a626-0e7f38bea2c5\")) {                    Plotly.newPlot(                        \"7456425d-7899-4dc5-a626-0e7f38bea2c5\",                        [{\"arrangement\":\"snap\",\"link\":{\"color\":[\"rgba(179.94665529, 3.9668208, 38.30936706, 0.75)\",\"rgba(188.40062870999998, 209.755763565, 246.906571275, 0.75)\",\"rgba(95.25586998, 126.86216988000001, 231.91417923, 0.75)\",\"rgba(95.25586998, 126.86216988000001, 231.91417923, 0.75)\",\"rgba(176.79692763, 203.06010358499998, 251.508484035, 0.75)\",\"rgba(155.179576887, 187.609933605, 254.83522545099999, 0.75)\",\"rgba(230.22641093100003, 215.4228909, 207.052307604, 0.75)\",\"rgba(216.25030260300002, 86.26140968400006, 70.17743806200005, 0.75)\",\"rgba(216.25030260300002, 86.26140968400006, 70.17743806200005, 0.75)\",\"rgba(242.953983006, 199.65602338800002, 178.154671683, 0.75)\",\"rgba(126.13281398399998, 161.420676704, 249.640618319, 0.75)\",\"rgba(126.13281398399998, 161.420676704, 249.640618319, 0.75)\",\"rgba(197.040016894, 213.939445396, 242.076283778, 0.75)\",\"rgba(247.228008441, 178.712381244, 149.81454447, 0.75)\",\"rgba(239.27322086499998, 206.273720768, 188.996186332, 0.75)\",\"rgba(247.143973017, 179.988097308, 151.39458654999999, 0.75)\",\"rgba(210.8300007, 218.842365662, 231.27292438, 0.75)\",\"rgba(246.807831321, 185.090961564, 157.71475487, 0.75)\",\"rgba(206.706997081, 68.543250738, 60.034040941, 0.75)\",\"rgba(243.414284702, 198.658913276, 176.595369251, 0.75)\",\"rgba(179.94665529, 3.9668208, 38.30936706, 0.75)\",\"rgba(216.078050931, 219.930483006, 225.81281994300002, 0.75)\",\"rgba(222.230590371, 219.888891726, 218.53914733500002, 0.75)\",\"rgba(237.320492065, 208.81363491200003, 193.582329628, 0.75)\",\"rgba(230.97478689300002, 116.072351502, 90.610650381, 0.75)\",\"rgba(233.597983923, 212.66421378, 201.116682132, 0.75)\",\"rgba(236.669582465, 209.66027296, 195.11104406, 0.75)\",\"rgba(179.94665529, 3.9668208, 38.30936706, 0.75)\",\"rgba(242.11076732700002, 145.95891752900005, 115.62795911000006, 0.75)\",\"rgba(242.953983006, 199.65602338800002, 178.154671683, 0.75)\",\"rgba(231.771546797, 117.92032247800005, 92.04235050900004, 0.75)\",\"rgba(207.95463858500003, 70.83415173, 61.274859244999995, 0.75)\",\"rgba(238.62231126499998, 207.12035881600002, 190.52490076400005, 0.75)\",\"rgb(236,236,236, 0.75)\",\"rgb(236,236,236, 0.75)\",\"rgb(236,236,236, 0.75)\",\"rgb(236,236,236, 0.75)\",\"rgb(236,236,236, 0.75)\",\"rgb(236,236,236, 0.75)\",\"rgb(236,236,236, 0.75)\",\"rgb(236,236,236, 0.75)\"],\"source\":[1,2,3,3,4,5,6,7,7,8,9,9,10,11,12,13,14,15,16,17,18,19,20,21,22,23,24,25,26,27,28,29,30,31,31,31,31,32,33,33,33],\"target\":[31,12,31,20,19,31,18,31,16,14,11,31,15,21,32,24,25,23,22,32,29,32,32,0,0,0,0,0,0,0,0,0,0,27,26,28,30,0,13,14,17],\"value\":[0.12053167411861253,0.07086094488744481,0.04895388208635449,0.04895388208635449,0.06784454138870502,0.0626884216820042,0.08286241735536322,0.1488985892306745,0.07444929461533725,0.08885431232293163,0.05601312789730985,0.05601312789730985,0.07307578443159811,0.1009320070392203,0.09705735894991298,0.10068747771176526,0.0922455943681057,0.10009100003675205,0.11041567856568062,0.09820880211930194,0.1134956281619634,0.09292582752731932,0.09394062551997832,0.0949020612464238,0.1038191486584346,0.09411129563406151,0.0946721395183866,0.10944687350067117,0.1015271387480025,0.09617422533826848,0.10357676770607922,0.10671509595917379,0.09505525369049825,0.023977955410833113,0.025312533066991372,0.0231958521202492,0.027513659401926325,0.1,0.037083284897869856,0.037083284897869856,0.025833430204260308,0.12053167411861253,0.07086094488744481,0.04895388208635449,0.04895388208635449,0.06784454138870502,0.0626884216820042,0.08286241735536322,0.1488985892306745,0.07444929461533725,0.08885431232293163,0.05601312789730985,0.05601312789730985,0.07307578443159811,0.1009320070392203,0.09705735894991298,0.10068747771176526,0.0922455943681057,0.10009100003675205,0.11041567856568062,0.09820880211930194,0.1134956281619634,0.09292582752731932,0.09394062551997832,0.0949020612464238,0.1038191486584346,0.09411129563406151,0.0946721395183866,0.10944687350067117,0.1015271387480025,0.09617422533826848,0.10357676770607922,0.10671509595917379,0.09505525369049825,0.023977955410833113,0.025312533066991372,0.0231958521202492,0.027513659401926325,0.1,0.037083284897869856,0.037083284897869856,0.025833430204260308,0.12053167411861253,0.07086094488744481,0.04895388208635449,0.04895388208635449,0.06784454138870502,0.0626884216820042,0.08286241735536322,0.1488985892306745,0.07444929461533725,0.08885431232293163,0.05601312789730985,0.05601312789730985,0.07307578443159811,0.1009320070392203,0.09705735894991298,0.10068747771176526,0.0922455943681057,0.10009100003675205,0.11041567856568062,0.09820880211930194,0.1134956281619634,0.09292582752731932,0.09394062551997832,0.0949020612464238,0.1038191486584346,0.09411129563406151,0.0946721395183866,0.10944687350067117,0.1015271387480025,0.09617422533826848,0.10357676770607922,0.10671509595917379,0.09505525369049825,0.023977955410833113,0.025312533066991372,0.0231958521202492,0.027513659401926325,0.1,0.037083284897869856,0.037083284897869856,0.025833430204260308,0.12053167411861253,0.07086094488744481,0.04895388208635449,0.04895388208635449,0.06784454138870502,0.0626884216820042,0.08286241735536322,0.1488985892306745,0.07444929461533725,0.08885431232293163,0.05601312789730985,0.05601312789730985,0.07307578443159811,0.1009320070392203,0.09705735894991298,0.10068747771176526,0.0922455943681057,0.10009100003675205,0.11041567856568062,0.09820880211930194,0.1134956281619634,0.09292582752731932,0.09394062551997832,0.0949020612464238,0.1038191486584346,0.09411129563406151,0.0946721395183866,0.10944687350067117,0.1015271387480025,0.09617422533826848,0.10357676770607922,0.10671509595917379,0.09505525369049825,0.023977955410833113,0.025312533066991372,0.0231958521202492,0.027513659401926325,0.1,0.037083284897869856,0.037083284897869856,0.025833430204260308,0.12053167411861253,0.07086094488744481,0.04895388208635449,0.04895388208635449,0.06784454138870502,0.0626884216820042,0.08286241735536322,0.1488985892306745,0.07444929461533725,0.08885431232293163,0.05601312789730985,0.05601312789730985,0.07307578443159811,0.1009320070392203,0.09705735894991298,0.10068747771176526,0.0922455943681057,0.10009100003675205,0.11041567856568062,0.09820880211930194,0.1134956281619634,0.09292582752731932,0.09394062551997832,0.0949020612464238,0.1038191486584346,0.09411129563406151,0.0946721395183866,0.10944687350067117,0.1015271387480025,0.09617422533826848,0.10357676770607922,0.10671509595917379,0.09505525369049825,0.023977955410833113,0.025312533066991372,0.0231958521202492,0.027513659401926325,0.1,0.037083284897869856,0.037083284897869856,0.025833430204260308,0.12053167411861253,0.07086094488744481,0.04895388208635449,0.04895388208635449,0.06784454138870502,0.0626884216820042,0.08286241735536322,0.1488985892306745,0.07444929461533725,0.08885431232293163,0.05601312789730985,0.05601312789730985,0.07307578443159811,0.1009320070392203,0.09705735894991298,0.10068747771176526,0.0922455943681057,0.10009100003675205,0.11041567856568062,0.09820880211930194,0.1134956281619634,0.09292582752731932,0.09394062551997832,0.0949020612464238,0.1038191486584346,0.09411129563406151,0.0946721395183866,0.10944687350067117,0.1015271387480025,0.09617422533826848,0.10357676770607922,0.10671509595917379,0.09505525369049825,0.023977955410833113,0.025312533066991372,0.0231958521202492,0.027513659401926325,0.1,0.037083284897869856,0.037083284897869856,0.025833430204260308,0.12053167411861253,0.07086094488744481,0.04895388208635449,0.04895388208635449,0.06784454138870502,0.0626884216820042,0.08286241735536322,0.1488985892306745,0.07444929461533725,0.08885431232293163,0.05601312789730985,0.05601312789730985,0.07307578443159811,0.1009320070392203,0.09705735894991298,0.10068747771176526,0.0922455943681057,0.10009100003675205,0.11041567856568062,0.09820880211930194,0.1134956281619634,0.09292582752731932,0.09394062551997832,0.0949020612464238,0.1038191486584346,0.09411129563406151,0.0946721395183866,0.10944687350067117,0.1015271387480025,0.09617422533826848,0.10357676770607922,0.10671509595917379,0.09505525369049825,0.023977955410833113,0.025312533066991372,0.0231958521202492,0.027513659401926325,0.1,0.037083284897869856,0.037083284897869856,0.025833430204260308,0.12053167411861253,0.07086094488744481,0.04895388208635449,0.04895388208635449,0.06784454138870502,0.0626884216820042,0.08286241735536322,0.1488985892306745,0.07444929461533725,0.08885431232293163,0.05601312789730985,0.05601312789730985,0.07307578443159811,0.1009320070392203,0.09705735894991298,0.10068747771176526,0.0922455943681057,0.10009100003675205,0.11041567856568062,0.09820880211930194,0.1134956281619634,0.09292582752731932,0.09394062551997832,0.0949020612464238,0.1038191486584346,0.09411129563406151,0.0946721395183866,0.10944687350067117,0.1015271387480025,0.09617422533826848,0.10357676770607922,0.10671509595917379,0.09505525369049825,0.023977955410833113,0.025312533066991372,0.0231958521202492,0.027513659401926325,0.1,0.037083284897869856,0.037083284897869856,0.025833430204260308,0.12053167411861253,0.07086094488744481,0.04895388208635449,0.04895388208635449,0.06784454138870502,0.0626884216820042,0.08286241735536322,0.1488985892306745,0.07444929461533725,0.08885431232293163,0.05601312789730985,0.05601312789730985,0.07307578443159811,0.1009320070392203,0.09705735894991298,0.10068747771176526,0.0922455943681057,0.10009100003675205,0.11041567856568062,0.09820880211930194,0.1134956281619634,0.09292582752731932,0.09394062551997832,0.0949020612464238,0.1038191486584346,0.09411129563406151,0.0946721395183866,0.10944687350067117,0.1015271387480025,0.09617422533826848,0.10357676770607922,0.10671509595917379,0.09505525369049825,0.023977955410833113,0.025312533066991372,0.0231958521202492,0.027513659401926325,0.1,0.037083284897869856,0.037083284897869856,0.025833430204260308,0.12053167411861253,0.07086094488744481,0.04895388208635449,0.04895388208635449,0.06784454138870502,0.0626884216820042,0.08286241735536322,0.1488985892306745,0.07444929461533725,0.08885431232293163,0.05601312789730985,0.05601312789730985,0.07307578443159811,0.1009320070392203,0.09705735894991298,0.10068747771176526,0.0922455943681057,0.10009100003675205,0.11041567856568062,0.09820880211930194,0.1134956281619634,0.09292582752731932,0.09394062551997832,0.0949020612464238,0.1038191486584346,0.09411129563406151,0.0946721395183866,0.10944687350067117,0.1015271387480025,0.09617422533826848,0.10357676770607922,0.10671509595917379,0.09505525369049825,0.023977955410833113,0.025312533066991372,0.0231958521202492,0.027513659401926325,0.1,0.037083284897869856,0.037083284897869856,0.025833430204260308]},\"node\":{\"color\":[\"rgba(0,0,0,1)\",\"rgba(179.94665529, 3.9668208, 38.30936706, 0.75)\",\"rgba(188.40062870999998, 209.755763565, 246.906571275, 0.75)\",\"rgba(95.25586998, 126.86216988000001, 231.91417923, 0.75)\",\"rgba(176.79692763, 203.06010358499998, 251.508484035, 0.75)\",\"rgba(155.179576887, 187.609933605, 254.83522545099999, 0.75)\",\"rgba(230.22641093100003, 215.4228909, 207.052307604, 0.75)\",\"rgba(216.25030260300002, 86.26140968400006, 70.17743806200005, 0.75)\",\"rgba(242.953983006, 199.65602338800002, 178.154671683, 0.75)\",\"rgba(126.13281398399998, 161.420676704, 249.640618319, 0.75)\",\"rgba(197.040016894, 213.939445396, 242.076283778, 0.75)\",\"rgba(247.228008441, 178.712381244, 149.81454447, 0.75)\",\"rgba(239.27322086499998, 206.273720768, 188.996186332, 0.75)\",\"rgba(247.143973017, 179.988097308, 151.39458654999999, 0.75)\",\"rgba(210.8300007, 218.842365662, 231.27292438, 0.75)\",\"rgba(246.807831321, 185.090961564, 157.71475487, 0.75)\",\"rgba(206.706997081, 68.543250738, 60.034040941, 0.75)\",\"rgba(243.414284702, 198.658913276, 176.595369251, 0.75)\",\"rgba(179.94665529, 3.9668208, 38.30936706, 0.75)\",\"rgba(216.078050931, 219.930483006, 225.81281994300002, 0.75)\",\"rgba(222.230590371, 219.888891726, 218.53914733500002, 0.75)\",\"rgba(237.320492065, 208.81363491200003, 193.582329628, 0.75)\",\"rgba(230.97478689300002, 116.072351502, 90.610650381, 0.75)\",\"rgba(233.597983923, 212.66421378, 201.116682132, 0.75)\",\"rgba(236.669582465, 209.66027296, 195.11104406, 0.75)\",\"rgba(179.94665529, 3.9668208, 38.30936706, 0.75)\",\"rgba(242.11076732700002, 145.95891752900005, 115.62795911000006, 0.75)\",\"rgba(242.953983006, 199.65602338800002, 178.154671683, 0.75)\",\"rgba(231.771546797, 117.92032247800005, 92.04235050900004, 0.75)\",\"rgba(207.95463858500003, 70.83415173, 61.274859244999995, 0.75)\",\"rgba(238.62231126499998, 207.12035881600002, 190.52490076400005, 0.75)\",\"rgb(236,236,236, 0.75)\",\"rgb(236,236,236, 0.75)\",\"rgb(236,236,236, 0.75)\"],\"label\":[\"Output\",\"O00548\",\"O95750\",\"P08581\",\"P09601\",\"P09619\",\"P09919\",\"P12111\",\"P31431\",\"P48061\",\"Q9BQB4\",\"R-HSA-1251985\",\"R-HSA-1307965\",\"R-HSA-210991\",\"R-HSA-3000170\",\"R-HSA-3772470\",\"R-HSA-8948216\",\"R-HSA-9702518\",\"R-HSA-9705462\",\"R-HSA-9707587\",\"R-HSA-9734091\",\"R-HSA-1236394\",\"R-HSA-1650814\",\"R-HSA-201681\",\"R-HSA-202733\",\"R-HSA-3000171\",\"R-HSA-375165\",\"R-HSA-400206\",\"R-HSA-8856828\",\"R-HSA-9674555\",\"R-HSA-9793380\",\"Other connections 2\",\"Other connections 3\",\"Other connections 1\"],\"line\":{\"color\":\"white\",\"width\":0},\"pad\":15,\"thickness\":15,\"x\":[0.85,[0.0025],[0.0025],[0.0025],[0.0025],[0.0025],[0.0025],[0.0025],[0.0025],[0.0025],[0.0025],[0.2525],[0.2525],[0.2525],[0.2525],[0.2525],[0.2525],[0.2525],[0.2525],[0.2525],[0.2525],[0.5025],[0.5025],[0.5025],[0.5025],[0.5025],[0.5025],[0.5025],[0.5025],[0.5025],[0.5025],[0.2525],[0.5025],[0.0025]],\"y\":[0.5,[-0.04911111111111113],[0.39533333333333337],[0.7508888888888888],[0.48422222222222217],[0.5731111111111111],[0.21755555555555556],[0.03977777777777776],[0.12866666666666665],[0.662],[0.30644444444444446],[0.12866666666666665],[0.48422222222222217],[0.21755555555555556],[0.7508888888888888],[0.30644444444444446],[0.03977777777777776],[0.39533333333333337],[-0.04911111111111113],[0.662],[0.5731111111111111],[0.5731111111111111],[0.12866666666666665],[0.7508888888888888],[0.662],[-0.04911111111111113],[0.30644444444444446],[0.39533333333333337],[0.21755555555555556],[0.03977777777777776],[0.48422222222222217],[0.9],[0.9],[0.9]]},\"orientation\":\"h\",\"textfont\":{\"family\":\"Arial\",\"size\":15},\"type\":\"sankey\"}],                        {\"template\":{\"data\":{\"histogram2dcontour\":[{\"type\":\"histogram2dcontour\",\"colorbar\":{\"outlinewidth\":0,\"ticks\":\"\"},\"colorscale\":[[0.0,\"#0d0887\"],[0.1111111111111111,\"#46039f\"],[0.2222222222222222,\"#7201a8\"],[0.3333333333333333,\"#9c179e\"],[0.4444444444444444,\"#bd3786\"],[0.5555555555555556,\"#d8576b\"],[0.6666666666666666,\"#ed7953\"],[0.7777777777777778,\"#fb9f3a\"],[0.8888888888888888,\"#fdca26\"],[1.0,\"#f0f921\"]]}],\"choropleth\":[{\"type\":\"choropleth\",\"colorbar\":{\"outlinewidth\":0,\"ticks\":\"\"}}],\"histogram2d\":[{\"type\":\"histogram2d\",\"colorbar\":{\"outlinewidth\":0,\"ticks\":\"\"},\"colorscale\":[[0.0,\"#0d0887\"],[0.1111111111111111,\"#46039f\"],[0.2222222222222222,\"#7201a8\"],[0.3333333333333333,\"#9c179e\"],[0.4444444444444444,\"#bd3786\"],[0.5555555555555556,\"#d8576b\"],[0.6666666666666666,\"#ed7953\"],[0.7777777777777778,\"#fb9f3a\"],[0.8888888888888888,\"#fdca26\"],[1.0,\"#f0f921\"]]}],\"heatmap\":[{\"type\":\"heatmap\",\"colorbar\":{\"outlinewidth\":0,\"ticks\":\"\"},\"colorscale\":[[0.0,\"#0d0887\"],[0.1111111111111111,\"#46039f\"],[0.2222222222222222,\"#7201a8\"],[0.3333333333333333,\"#9c179e\"],[0.4444444444444444,\"#bd3786\"],[0.5555555555555556,\"#d8576b\"],[0.6666666666666666,\"#ed7953\"],[0.7777777777777778,\"#fb9f3a\"],[0.8888888888888888,\"#fdca26\"],[1.0,\"#f0f921\"]]}],\"heatmapgl\":[{\"type\":\"heatmapgl\",\"colorbar\":{\"outlinewidth\":0,\"ticks\":\"\"},\"colorscale\":[[0.0,\"#0d0887\"],[0.1111111111111111,\"#46039f\"],[0.2222222222222222,\"#7201a8\"],[0.3333333333333333,\"#9c179e\"],[0.4444444444444444,\"#bd3786\"],[0.5555555555555556,\"#d8576b\"],[0.6666666666666666,\"#ed7953\"],[0.7777777777777778,\"#fb9f3a\"],[0.8888888888888888,\"#fdca26\"],[1.0,\"#f0f921\"]]}],\"contourcarpet\":[{\"type\":\"contourcarpet\",\"colorbar\":{\"outlinewidth\":0,\"ticks\":\"\"}}],\"contour\":[{\"type\":\"contour\",\"colorbar\":{\"outlinewidth\":0,\"ticks\":\"\"},\"colorscale\":[[0.0,\"#0d0887\"],[0.1111111111111111,\"#46039f\"],[0.2222222222222222,\"#7201a8\"],[0.3333333333333333,\"#9c179e\"],[0.4444444444444444,\"#bd3786\"],[0.5555555555555556,\"#d8576b\"],[0.6666666666666666,\"#ed7953\"],[0.7777777777777778,\"#fb9f3a\"],[0.8888888888888888,\"#fdca26\"],[1.0,\"#f0f921\"]]}],\"surface\":[{\"type\":\"surface\",\"colorbar\":{\"outlinewidth\":0,\"ticks\":\"\"},\"colorscale\":[[0.0,\"#0d0887\"],[0.1111111111111111,\"#46039f\"],[0.2222222222222222,\"#7201a8\"],[0.3333333333333333,\"#9c179e\"],[0.4444444444444444,\"#bd3786\"],[0.5555555555555556,\"#d8576b\"],[0.6666666666666666,\"#ed7953\"],[0.7777777777777778,\"#fb9f3a\"],[0.8888888888888888,\"#fdca26\"],[1.0,\"#f0f921\"]]}],\"mesh3d\":[{\"type\":\"mesh3d\",\"colorbar\":{\"outlinewidth\":0,\"ticks\":\"\"}}],\"scatter\":[{\"fillpattern\":{\"fillmode\":\"overlay\",\"size\":10,\"solidity\":0.2},\"type\":\"scatter\"}],\"parcoords\":[{\"type\":\"parcoords\",\"line\":{\"colorbar\":{\"outlinewidth\":0,\"ticks\":\"\"}}}],\"scatterpolargl\":[{\"type\":\"scatterpolargl\",\"marker\":{\"colorbar\":{\"outlinewidth\":0,\"ticks\":\"\"}}}],\"bar\":[{\"error_x\":{\"color\":\"#2a3f5f\"},\"error_y\":{\"color\":\"#2a3f5f\"},\"marker\":{\"line\":{\"color\":\"#E5ECF6\",\"width\":0.5},\"pattern\":{\"fillmode\":\"overlay\",\"size\":10,\"solidity\":0.2}},\"type\":\"bar\"}],\"scattergeo\":[{\"type\":\"scattergeo\",\"marker\":{\"colorbar\":{\"outlinewidth\":0,\"ticks\":\"\"}}}],\"scatterpolar\":[{\"type\":\"scatterpolar\",\"marker\":{\"colorbar\":{\"outlinewidth\":0,\"ticks\":\"\"}}}],\"histogram\":[{\"marker\":{\"pattern\":{\"fillmode\":\"overlay\",\"size\":10,\"solidity\":0.2}},\"type\":\"histogram\"}],\"scattergl\":[{\"type\":\"scattergl\",\"marker\":{\"colorbar\":{\"outlinewidth\":0,\"ticks\":\"\"}}}],\"scatter3d\":[{\"type\":\"scatter3d\",\"line\":{\"colorbar\":{\"outlinewidth\":0,\"ticks\":\"\"}},\"marker\":{\"colorbar\":{\"outlinewidth\":0,\"ticks\":\"\"}}}],\"scattermapbox\":[{\"type\":\"scattermapbox\",\"marker\":{\"colorbar\":{\"outlinewidth\":0,\"ticks\":\"\"}}}],\"scatterternary\":[{\"type\":\"scatterternary\",\"marker\":{\"colorbar\":{\"outlinewidth\":0,\"ticks\":\"\"}}}],\"scattercarpet\":[{\"type\":\"scattercarpet\",\"marker\":{\"colorbar\":{\"outlinewidth\":0,\"ticks\":\"\"}}}],\"carpet\":[{\"aaxis\":{\"endlinecolor\":\"#2a3f5f\",\"gridcolor\":\"white\",\"linecolor\":\"white\",\"minorgridcolor\":\"white\",\"startlinecolor\":\"#2a3f5f\"},\"baxis\":{\"endlinecolor\":\"#2a3f5f\",\"gridcolor\":\"white\",\"linecolor\":\"white\",\"minorgridcolor\":\"white\",\"startlinecolor\":\"#2a3f5f\"},\"type\":\"carpet\"}],\"table\":[{\"cells\":{\"fill\":{\"color\":\"#EBF0F8\"},\"line\":{\"color\":\"white\"}},\"header\":{\"fill\":{\"color\":\"#C8D4E3\"},\"line\":{\"color\":\"white\"}},\"type\":\"table\"}],\"barpolar\":[{\"marker\":{\"line\":{\"color\":\"#E5ECF6\",\"width\":0.5},\"pattern\":{\"fillmode\":\"overlay\",\"size\":10,\"solidity\":0.2}},\"type\":\"barpolar\"}],\"pie\":[{\"automargin\":true,\"type\":\"pie\"}]},\"layout\":{\"autotypenumbers\":\"strict\",\"colorway\":[\"#636efa\",\"#EF553B\",\"#00cc96\",\"#ab63fa\",\"#FFA15A\",\"#19d3f3\",\"#FF6692\",\"#B6E880\",\"#FF97FF\",\"#FECB52\"],\"font\":{\"color\":\"#2a3f5f\"},\"hovermode\":\"closest\",\"hoverlabel\":{\"align\":\"left\"},\"paper_bgcolor\":\"white\",\"plot_bgcolor\":\"#E5ECF6\",\"polar\":{\"bgcolor\":\"#E5ECF6\",\"angularaxis\":{\"gridcolor\":\"white\",\"linecolor\":\"white\",\"ticks\":\"\"},\"radialaxis\":{\"gridcolor\":\"white\",\"linecolor\":\"white\",\"ticks\":\"\"}},\"ternary\":{\"bgcolor\":\"#E5ECF6\",\"aaxis\":{\"gridcolor\":\"white\",\"linecolor\":\"white\",\"ticks\":\"\"},\"baxis\":{\"gridcolor\":\"white\",\"linecolor\":\"white\",\"ticks\":\"\"},\"caxis\":{\"gridcolor\":\"white\",\"linecolor\":\"white\",\"ticks\":\"\"}},\"coloraxis\":{\"colorbar\":{\"outlinewidth\":0,\"ticks\":\"\"}},\"colorscale\":{\"sequential\":[[0.0,\"#0d0887\"],[0.1111111111111111,\"#46039f\"],[0.2222222222222222,\"#7201a8\"],[0.3333333333333333,\"#9c179e\"],[0.4444444444444444,\"#bd3786\"],[0.5555555555555556,\"#d8576b\"],[0.6666666666666666,\"#ed7953\"],[0.7777777777777778,\"#fb9f3a\"],[0.8888888888888888,\"#fdca26\"],[1.0,\"#f0f921\"]],\"sequentialminus\":[[0.0,\"#0d0887\"],[0.1111111111111111,\"#46039f\"],[0.2222222222222222,\"#7201a8\"],[0.3333333333333333,\"#9c179e\"],[0.4444444444444444,\"#bd3786\"],[0.5555555555555556,\"#d8576b\"],[0.6666666666666666,\"#ed7953\"],[0.7777777777777778,\"#fb9f3a\"],[0.8888888888888888,\"#fdca26\"],[1.0,\"#f0f921\"]],\"diverging\":[[0,\"#8e0152\"],[0.1,\"#c51b7d\"],[0.2,\"#de77ae\"],[0.3,\"#f1b6da\"],[0.4,\"#fde0ef\"],[0.5,\"#f7f7f7\"],[0.6,\"#e6f5d0\"],[0.7,\"#b8e186\"],[0.8,\"#7fbc41\"],[0.9,\"#4d9221\"],[1,\"#276419\"]]},\"xaxis\":{\"gridcolor\":\"white\",\"linecolor\":\"white\",\"ticks\":\"\",\"title\":{\"standoff\":15},\"zerolinecolor\":\"white\",\"automargin\":true,\"zerolinewidth\":2},\"yaxis\":{\"gridcolor\":\"white\",\"linecolor\":\"white\",\"ticks\":\"\",\"title\":{\"standoff\":15},\"zerolinecolor\":\"white\",\"automargin\":true,\"zerolinewidth\":2},\"scene\":{\"xaxis\":{\"backgroundcolor\":\"#E5ECF6\",\"gridcolor\":\"white\",\"linecolor\":\"white\",\"showbackground\":true,\"ticks\":\"\",\"zerolinecolor\":\"white\",\"gridwidth\":2},\"yaxis\":{\"backgroundcolor\":\"#E5ECF6\",\"gridcolor\":\"white\",\"linecolor\":\"white\",\"showbackground\":true,\"ticks\":\"\",\"zerolinecolor\":\"white\",\"gridwidth\":2},\"zaxis\":{\"backgroundcolor\":\"#E5ECF6\",\"gridcolor\":\"white\",\"linecolor\":\"white\",\"showbackground\":true,\"ticks\":\"\",\"zerolinecolor\":\"white\",\"gridwidth\":2}},\"shapedefaults\":{\"line\":{\"color\":\"#2a3f5f\"}},\"annotationdefaults\":{\"arrowcolor\":\"#2a3f5f\",\"arrowhead\":0,\"arrowwidth\":1},\"geo\":{\"bgcolor\":\"white\",\"landcolor\":\"#E5ECF6\",\"subunitcolor\":\"white\",\"showland\":true,\"showlakes\":true,\"lakecolor\":\"white\"},\"title\":{\"x\":0.05},\"mapbox\":{\"style\":\"light\"}}}},                        {\"responsive\": true}                    ).then(function(){\n",
       "                            \n",
       "var gd = document.getElementById('7456425d-7899-4dc5-a626-0e7f38bea2c5');\n",
       "var x = new MutationObserver(function (mutations, observer) {{\n",
       "        var display = window.getComputedStyle(gd).display;\n",
       "        if (!display || display === 'none') {{\n",
       "            console.log([gd, 'removed!']);\n",
       "            Plotly.purge(gd);\n",
       "            observer.disconnect();\n",
       "        }}\n",
       "}});\n",
       "\n",
       "// Listen for the removal of the full notebook cells\n",
       "var notebookContainer = gd.closest('#notebook-container');\n",
       "if (notebookContainer) {{\n",
       "    x.observe(notebookContainer, {childList: true});\n",
       "}}\n",
       "\n",
       "// Listen for the clearing of the current output cell\n",
       "var outputEl = gd.closest('.output');\n",
       "if (outputEl) {{\n",
       "    x.observe(outputEl, {childList: true});\n",
       "}}\n",
       "\n",
       "                        })                };                });            </script>        </div>"
      ]
     },
     "metadata": {},
     "output_type": "display_data"
    }
   ],
   "source": [
    "IG_pnc.plot_complete_sankey(\n",
    "    multiclass=False, node_cmap=\"coolwarm\", edge_cmap=\"coolwarm\"\n",
    ")"
   ]
  },
  {
   "cell_type": "code",
   "execution_count": 22,
   "id": "70cd2a33-2494-475c-8ca7-f1d92830d774",
   "metadata": {},
   "outputs": [],
   "source": [
    "source_proteome = pd.read_csv(\"data/source.csv\", sep= \",\")\n",
    "\n",
    "source_mapping = (\n",
    "    source_proteome.set_index(\"id\").to_dict()[\"name\"]\n",
    ")\n",
    "\n",
    "source_mapping.update({\"root\": \"root\"})\n",
    "\n",
    "\n",
    "#source_mapping"
   ]
  },
  {
   "cell_type": "code",
   "execution_count": 23,
   "id": "e74dd3dd-2671-4fd6-9ecd-e8e1f5caf7ff",
   "metadata": {},
   "outputs": [
    {
     "data": {
      "text/html": [
       "<div>\n",
       "<style scoped>\n",
       "    .dataframe tbody tr th:only-of-type {\n",
       "        vertical-align: middle;\n",
       "    }\n",
       "\n",
       "    .dataframe tbody tr th {\n",
       "        vertical-align: top;\n",
       "    }\n",
       "\n",
       "    .dataframe thead th {\n",
       "        text-align: right;\n",
       "    }\n",
       "</style>\n",
       "<table border=\"1\" class=\"dataframe\">\n",
       "  <thead>\n",
       "    <tr style=\"text-align: right;\">\n",
       "      <th></th>\n",
       "      <th>source</th>\n",
       "      <th>target</th>\n",
       "      <th>source name</th>\n",
       "      <th>target name</th>\n",
       "      <th>type</th>\n",
       "      <th>source layer</th>\n",
       "      <th>target layer</th>\n",
       "      <th>value_0</th>\n",
       "      <th>value_1</th>\n",
       "      <th>value_2</th>\n",
       "      <th>...</th>\n",
       "      <th>value_13</th>\n",
       "      <th>value_14</th>\n",
       "      <th>value_15</th>\n",
       "      <th>value_16</th>\n",
       "      <th>value_17</th>\n",
       "      <th>value_18</th>\n",
       "      <th>value_19</th>\n",
       "      <th>value_mean</th>\n",
       "      <th>values_std</th>\n",
       "      <th>value</th>\n",
       "    </tr>\n",
       "  </thead>\n",
       "  <tbody>\n",
       "    <tr>\n",
       "      <th>0</th>\n",
       "      <td>1</td>\n",
       "      <td>79</td>\n",
       "      <td>DLL1</td>\n",
       "      <td>MECP2 regulates transcription of neuronal ligands</td>\n",
       "      <td>0</td>\n",
       "      <td>0</td>\n",
       "      <td>1</td>\n",
       "      <td>0.318716</td>\n",
       "      <td>0.053923</td>\n",
       "      <td>0.007466</td>\n",
       "      <td>...</td>\n",
       "      <td>0.066069</td>\n",
       "      <td>0.124450</td>\n",
       "      <td>0.257760</td>\n",
       "      <td>0.145993</td>\n",
       "      <td>0.042453</td>\n",
       "      <td>0.071538</td>\n",
       "      <td>0.270772</td>\n",
       "      <td>0.151058</td>\n",
       "      <td>0.096492</td>\n",
       "      <td>0.095307</td>\n",
       "    </tr>\n",
       "    <tr>\n",
       "      <th>1</th>\n",
       "      <td>1</td>\n",
       "      <td>79</td>\n",
       "      <td>DLL1</td>\n",
       "      <td>MECP2 regulates transcription of neuronal ligands</td>\n",
       "      <td>1</td>\n",
       "      <td>0</td>\n",
       "      <td>1</td>\n",
       "      <td>0.034366</td>\n",
       "      <td>0.372120</td>\n",
       "      <td>0.071703</td>\n",
       "      <td>...</td>\n",
       "      <td>0.301156</td>\n",
       "      <td>0.168784</td>\n",
       "      <td>0.126811</td>\n",
       "      <td>0.257569</td>\n",
       "      <td>0.223108</td>\n",
       "      <td>0.271181</td>\n",
       "      <td>0.180103</td>\n",
       "      <td>0.168557</td>\n",
       "      <td>0.106034</td>\n",
       "      <td>0.106347</td>\n",
       "    </tr>\n",
       "    <tr>\n",
       "      <th>2</th>\n",
       "      <td>1</td>\n",
       "      <td>88</td>\n",
       "      <td>DLL1</td>\n",
       "      <td>Somitogenesis</td>\n",
       "      <td>0</td>\n",
       "      <td>0</td>\n",
       "      <td>1</td>\n",
       "      <td>0.318716</td>\n",
       "      <td>0.053923</td>\n",
       "      <td>0.007466</td>\n",
       "      <td>...</td>\n",
       "      <td>0.066069</td>\n",
       "      <td>0.124450</td>\n",
       "      <td>0.257760</td>\n",
       "      <td>0.145993</td>\n",
       "      <td>0.042453</td>\n",
       "      <td>0.071538</td>\n",
       "      <td>0.270772</td>\n",
       "      <td>0.151058</td>\n",
       "      <td>0.096492</td>\n",
       "      <td>0.095307</td>\n",
       "    </tr>\n",
       "    <tr>\n",
       "      <th>3</th>\n",
       "      <td>1</td>\n",
       "      <td>88</td>\n",
       "      <td>DLL1</td>\n",
       "      <td>Somitogenesis</td>\n",
       "      <td>1</td>\n",
       "      <td>0</td>\n",
       "      <td>1</td>\n",
       "      <td>0.034366</td>\n",
       "      <td>0.372120</td>\n",
       "      <td>0.071703</td>\n",
       "      <td>...</td>\n",
       "      <td>0.301156</td>\n",
       "      <td>0.168784</td>\n",
       "      <td>0.126811</td>\n",
       "      <td>0.257569</td>\n",
       "      <td>0.223108</td>\n",
       "      <td>0.271181</td>\n",
       "      <td>0.180103</td>\n",
       "      <td>0.168557</td>\n",
       "      <td>0.106034</td>\n",
       "      <td>0.106347</td>\n",
       "    </tr>\n",
       "    <tr>\n",
       "      <th>4</th>\n",
       "      <td>2</td>\n",
       "      <td>67</td>\n",
       "      <td>TNFRSF13B</td>\n",
       "      <td>TNFs bind their physiological receptors</td>\n",
       "      <td>0</td>\n",
       "      <td>0</td>\n",
       "      <td>1</td>\n",
       "      <td>0.002567</td>\n",
       "      <td>0.000291</td>\n",
       "      <td>0.004321</td>\n",
       "      <td>...</td>\n",
       "      <td>0.002091</td>\n",
       "      <td>0.007764</td>\n",
       "      <td>0.009872</td>\n",
       "      <td>0.006758</td>\n",
       "      <td>0.002253</td>\n",
       "      <td>0.004799</td>\n",
       "      <td>0.034372</td>\n",
       "      <td>0.008282</td>\n",
       "      <td>0.010800</td>\n",
       "      <td>0.008282</td>\n",
       "    </tr>\n",
       "  </tbody>\n",
       "</table>\n",
       "<p>5 rows × 30 columns</p>\n",
       "</div>"
      ],
      "text/plain": [
       "   source  target source name  \\\n",
       "0       1      79        DLL1   \n",
       "1       1      79        DLL1   \n",
       "2       1      88        DLL1   \n",
       "3       1      88        DLL1   \n",
       "4       2      67   TNFRSF13B   \n",
       "\n",
       "                                         target name  type  source layer  \\\n",
       "0  MECP2 regulates transcription of neuronal ligands     0             0   \n",
       "1  MECP2 regulates transcription of neuronal ligands     1             0   \n",
       "2                                      Somitogenesis     0             0   \n",
       "3                                      Somitogenesis     1             0   \n",
       "4            TNFs bind their physiological receptors     0             0   \n",
       "\n",
       "   target layer   value_0   value_1   value_2  ...  value_13  value_14  \\\n",
       "0             1  0.318716  0.053923  0.007466  ...  0.066069  0.124450   \n",
       "1             1  0.034366  0.372120  0.071703  ...  0.301156  0.168784   \n",
       "2             1  0.318716  0.053923  0.007466  ...  0.066069  0.124450   \n",
       "3             1  0.034366  0.372120  0.071703  ...  0.301156  0.168784   \n",
       "4             1  0.002567  0.000291  0.004321  ...  0.002091  0.007764   \n",
       "\n",
       "   value_15  value_16  value_17  value_18  value_19  value_mean  values_std  \\\n",
       "0  0.257760  0.145993  0.042453  0.071538  0.270772    0.151058    0.096492   \n",
       "1  0.126811  0.257569  0.223108  0.271181  0.180103    0.168557    0.106034   \n",
       "2  0.257760  0.145993  0.042453  0.071538  0.270772    0.151058    0.096492   \n",
       "3  0.126811  0.257569  0.223108  0.271181  0.180103    0.168557    0.106034   \n",
       "4  0.009872  0.006758  0.002253  0.004799  0.034372    0.008282    0.010800   \n",
       "\n",
       "      value  \n",
       "0  0.095307  \n",
       "1  0.106347  \n",
       "2  0.095307  \n",
       "3  0.106347  \n",
       "4  0.008282  \n",
       "\n",
       "[5 rows x 30 columns]"
      ]
     },
     "execution_count": 23,
     "metadata": {},
     "output_type": "execute_result"
    }
   ],
   "source": [
    "plot_df = importance_df_pnc.copy()\n",
    "plot_df[\"source name\"] = plot_df[\"source name\"].map(source_mapping)\n",
    "plot_df[\"target name\"] = plot_df[\"target name\"].map(source_mapping)\n",
    "plot_df.head()"
   ]
  },
  {
   "cell_type": "code",
   "execution_count": 24,
   "id": "666418f0-5f2f-4762-9a12-fbf78088a22a",
   "metadata": {},
   "outputs": [],
   "source": [
    "from binn import ImportanceNetwork\n",
    "IG_plot = ImportanceNetwork(plot_df, norm_method=\"fan\")"
   ]
  },
  {
   "cell_type": "code",
   "execution_count": null,
   "id": "d38f2529-a455-45e2-aa6f-47a22b461487",
   "metadata": {},
   "outputs": [],
   "source": [
    "IG_plot.importance_df.head()"
   ]
  },
  {
   "cell_type": "code",
   "execution_count": 25,
   "id": "a8cff4ad-f9c6-4cc9-9846-326e0b4a7940",
   "metadata": {},
   "outputs": [
    {
     "data": {
      "application/vnd.plotly.v1+json": {
       "config": {
        "plotlyServerURL": "https://plot.ly"
       },
       "data": [
        {
         "arrangement": "snap",
         "link": {
          "color": [
           "rgba(240.14062210499998, 139.33543664, 109.575302945, 0.75)",
           "rgba(247.16858509499997, 174.670345506, 145.088708196, 0.75)",
           "rgba(245.761813662, 191.01680519600004, 165.60211103900002, 0.75)",
           "rgba(234.440877171, 211.9745445, 199.632775764, 0.75)",
           "rgba(215.14418077899998, 84.167373012, 68.866526606, 0.75)",
           "rgba(204.15321606000003, 216.841371998, 237.15192789999998, 0.75)",
           "rgba(204.15321606000003, 216.841371998, 237.15192789999998, 0.75)",
           "rgba(179.94665529, 3.9668208, 38.30936706, 0.75)",
           "rgba(97.833826772, 130.09677140800002, 234.046821674, 0.75)",
           "rgba(245.488684807, 160.195526505, 129.447205398, 0.75)",
           "rgba(149.66485598, 183.12093466, 254.71289904, 0.75)",
           "rgba(246.967435655, 171.864231842, 141.945560292, 0.75)",
           "rgba(242.49368131000003, 200.6531335, 179.713974115, 0.75)",
           "rgba(200.613778846, 215.425838644, 239.651648162, 0.75)",
           "rgba(247.16858509499997, 174.670345506, 145.088708196, 0.75)",
           "rgba(247.143973017, 179.988097308, 151.39458654999999, 0.75)",
           "rgba(205.459355577, 66.252349746, 58.793222637, 0.75)",
           "rgba(245.219408286, 193.297441548, 168.75450668699997, 0.75)",
           "rgba(179.94665529, 3.9668208, 38.30936706, 0.75)",
           "rgba(223.267133795, 219.36175050999998, 217.11466685500002, 0.75)",
           "rgba(229.38351768300004, 216.11256017999997, 208.536213972, 0.75)",
           "rgba(237.320492065, 208.81363491200003, 193.582329628, 0.75)",
           "rgba(230.97478689300002, 116.072351502, 90.610650381, 0.75)",
           "rgba(233.597983923, 212.66421378, 201.116682132, 0.75)",
           "rgba(236.669582465, 209.66027296, 195.11104406, 0.75)",
           "rgba(179.94665529, 3.9668208, 38.30936706, 0.75)",
           "rgba(242.11076732700002, 145.95891752900005, 115.62795911000006, 0.75)",
           "rgba(242.953983006, 199.65602338800002, 178.154671683, 0.75)",
           "rgba(231.771546797, 117.92032247800005, 92.04235050900004, 0.75)",
           "rgba(207.95463858500003, 70.83415173, 61.274859244999995, 0.75)",
           "rgba(238.62231126499998, 207.12035881600002, 190.52490076400005, 0.75)",
           "rgb(236,236,236, 0.75)",
           "rgb(236,236,236, 0.75)",
           "rgb(236,236,236, 0.75)",
           "rgb(236,236,236, 0.75)",
           "rgb(236,236,236, 0.75)",
           "rgb(236,236,236, 0.75)",
           "rgb(236,236,236, 0.75)",
           "rgb(236,236,236, 0.75)",
           "rgb(236,236,236, 0.75)",
           "rgb(236,236,236, 0.75)",
           "rgb(236,236,236, 0.75)"
          ],
          "source": [
           1,
           2,
           3,
           4,
           5,
           6,
           6,
           7,
           8,
           9,
           10,
           11,
           12,
           13,
           14,
           15,
           16,
           17,
           18,
           19,
           20,
           21,
           22,
           23,
           24,
           25,
           26,
           27,
           28,
           29,
           30,
           31,
           31,
           31,
           31,
           31,
           32,
           33,
           33,
           33,
           33,
           33
          ],
          "target": [
           31,
           12,
           19,
           31,
           18,
           31,
           16,
           31,
           31,
           15,
           31,
           21,
           32,
           32,
           24,
           23,
           22,
           32,
           29,
           32,
           32,
           0,
           0,
           0,
           0,
           0,
           0,
           0,
           0,
           0,
           0,
           27,
           25,
           26,
           28,
           30,
           0,
           13,
           20,
           14,
           17,
           11
          ],
          "value": [
           0.10596204542583448,
           0.09873589675786881,
           0.09453291435473105,
           0.08734850404464178,
           0.11545845314512851,
           0.10373581496143049,
           0.05186790748071524,
           0.12380741213574806,
           0.052326251657121216,
           0.10182199967272725,
           0.06440280036405295,
           0.10120216881178273,
           0.09731714956443971,
           0.08981583450826715,
           0.10095698495977706,
           0.10035891071029059,
           0.11071122500644838,
           0.09847167476832668,
           0.11379941861438556,
           0.09317455939165106,
           0.09419207366463116,
           0.09490206124642381,
           0.10381914865843461,
           0.09411129563406152,
           0.0946721395183866,
           0.1094468735006712,
           0.1015271387480025,
           0.0961742253382685,
           0.10357676770607924,
           0.10671509595917382,
           0.09505525369049826,
           0.017269344795258653,
           0.026488543350785897,
           0.018230531072627093,
           0.015006125106049522,
           0.023005455675278827,
           0.09999999999999998,
           0.01372918941892492,
           0.024470599401803385,
           0.022907700344390356,
           0.01089320300472436,
           0.027999307830156975,
           0.10596204542583448,
           0.09873589675786881,
           0.09453291435473105,
           0.08734850404464178,
           0.11545845314512851,
           0.10373581496143049,
           0.05186790748071524,
           0.12380741213574806,
           0.052326251657121216,
           0.10182199967272725,
           0.06440280036405295,
           0.10120216881178273,
           0.09731714956443971,
           0.08981583450826715,
           0.10095698495977706,
           0.10035891071029059,
           0.11071122500644838,
           0.09847167476832668,
           0.11379941861438556,
           0.09317455939165106,
           0.09419207366463116,
           0.09490206124642381,
           0.10381914865843461,
           0.09411129563406152,
           0.0946721395183866,
           0.1094468735006712,
           0.1015271387480025,
           0.0961742253382685,
           0.10357676770607924,
           0.10671509595917382,
           0.09505525369049826,
           0.017269344795258653,
           0.026488543350785897,
           0.018230531072627093,
           0.015006125106049522,
           0.023005455675278827,
           0.09999999999999998,
           0.01372918941892492,
           0.024470599401803385,
           0.022907700344390356,
           0.01089320300472436,
           0.027999307830156975,
           0.10596204542583448,
           0.09873589675786881,
           0.09453291435473105,
           0.08734850404464178,
           0.11545845314512851,
           0.10373581496143049,
           0.05186790748071524,
           0.12380741213574806,
           0.052326251657121216,
           0.10182199967272725,
           0.06440280036405295,
           0.10120216881178273,
           0.09731714956443971,
           0.08981583450826715,
           0.10095698495977706,
           0.10035891071029059,
           0.11071122500644838,
           0.09847167476832668,
           0.11379941861438556,
           0.09317455939165106,
           0.09419207366463116,
           0.09490206124642381,
           0.10381914865843461,
           0.09411129563406152,
           0.0946721395183866,
           0.1094468735006712,
           0.1015271387480025,
           0.0961742253382685,
           0.10357676770607924,
           0.10671509595917382,
           0.09505525369049826,
           0.017269344795258653,
           0.026488543350785897,
           0.018230531072627093,
           0.015006125106049522,
           0.023005455675278827,
           0.09999999999999998,
           0.01372918941892492,
           0.024470599401803385,
           0.022907700344390356,
           0.01089320300472436,
           0.027999307830156975,
           0.10596204542583448,
           0.09873589675786881,
           0.09453291435473105,
           0.08734850404464178,
           0.11545845314512851,
           0.10373581496143049,
           0.05186790748071524,
           0.12380741213574806,
           0.052326251657121216,
           0.10182199967272725,
           0.06440280036405295,
           0.10120216881178273,
           0.09731714956443971,
           0.08981583450826715,
           0.10095698495977706,
           0.10035891071029059,
           0.11071122500644838,
           0.09847167476832668,
           0.11379941861438556,
           0.09317455939165106,
           0.09419207366463116,
           0.09490206124642381,
           0.10381914865843461,
           0.09411129563406152,
           0.0946721395183866,
           0.1094468735006712,
           0.1015271387480025,
           0.0961742253382685,
           0.10357676770607924,
           0.10671509595917382,
           0.09505525369049826,
           0.017269344795258653,
           0.026488543350785897,
           0.018230531072627093,
           0.015006125106049522,
           0.023005455675278827,
           0.09999999999999998,
           0.01372918941892492,
           0.024470599401803385,
           0.022907700344390356,
           0.01089320300472436,
           0.027999307830156975,
           0.10596204542583448,
           0.09873589675786881,
           0.09453291435473105,
           0.08734850404464178,
           0.11545845314512851,
           0.10373581496143049,
           0.05186790748071524,
           0.12380741213574806,
           0.052326251657121216,
           0.10182199967272725,
           0.06440280036405295,
           0.10120216881178273,
           0.09731714956443971,
           0.08981583450826715,
           0.10095698495977706,
           0.10035891071029059,
           0.11071122500644838,
           0.09847167476832668,
           0.11379941861438556,
           0.09317455939165106,
           0.09419207366463116,
           0.09490206124642381,
           0.10381914865843461,
           0.09411129563406152,
           0.0946721395183866,
           0.1094468735006712,
           0.1015271387480025,
           0.0961742253382685,
           0.10357676770607924,
           0.10671509595917382,
           0.09505525369049826,
           0.017269344795258653,
           0.026488543350785897,
           0.018230531072627093,
           0.015006125106049522,
           0.023005455675278827,
           0.09999999999999998,
           0.01372918941892492,
           0.024470599401803385,
           0.022907700344390356,
           0.01089320300472436,
           0.027999307830156975,
           0.10596204542583448,
           0.09873589675786881,
           0.09453291435473105,
           0.08734850404464178,
           0.11545845314512851,
           0.10373581496143049,
           0.05186790748071524,
           0.12380741213574806,
           0.052326251657121216,
           0.10182199967272725,
           0.06440280036405295,
           0.10120216881178273,
           0.09731714956443971,
           0.08981583450826715,
           0.10095698495977706,
           0.10035891071029059,
           0.11071122500644838,
           0.09847167476832668,
           0.11379941861438556,
           0.09317455939165106,
           0.09419207366463116,
           0.09490206124642381,
           0.10381914865843461,
           0.09411129563406152,
           0.0946721395183866,
           0.1094468735006712,
           0.1015271387480025,
           0.0961742253382685,
           0.10357676770607924,
           0.10671509595917382,
           0.09505525369049826,
           0.017269344795258653,
           0.026488543350785897,
           0.018230531072627093,
           0.015006125106049522,
           0.023005455675278827,
           0.09999999999999998,
           0.01372918941892492,
           0.024470599401803385,
           0.022907700344390356,
           0.01089320300472436,
           0.027999307830156975,
           0.10596204542583448,
           0.09873589675786881,
           0.09453291435473105,
           0.08734850404464178,
           0.11545845314512851,
           0.10373581496143049,
           0.05186790748071524,
           0.12380741213574806,
           0.052326251657121216,
           0.10182199967272725,
           0.06440280036405295,
           0.10120216881178273,
           0.09731714956443971,
           0.08981583450826715,
           0.10095698495977706,
           0.10035891071029059,
           0.11071122500644838,
           0.09847167476832668,
           0.11379941861438556,
           0.09317455939165106,
           0.09419207366463116,
           0.09490206124642381,
           0.10381914865843461,
           0.09411129563406152,
           0.0946721395183866,
           0.1094468735006712,
           0.1015271387480025,
           0.0961742253382685,
           0.10357676770607924,
           0.10671509595917382,
           0.09505525369049826,
           0.017269344795258653,
           0.026488543350785897,
           0.018230531072627093,
           0.015006125106049522,
           0.023005455675278827,
           0.09999999999999998,
           0.01372918941892492,
           0.024470599401803385,
           0.022907700344390356,
           0.01089320300472436,
           0.027999307830156975,
           0.10596204542583448,
           0.09873589675786881,
           0.09453291435473105,
           0.08734850404464178,
           0.11545845314512851,
           0.10373581496143049,
           0.05186790748071524,
           0.12380741213574806,
           0.052326251657121216,
           0.10182199967272725,
           0.06440280036405295,
           0.10120216881178273,
           0.09731714956443971,
           0.08981583450826715,
           0.10095698495977706,
           0.10035891071029059,
           0.11071122500644838,
           0.09847167476832668,
           0.11379941861438556,
           0.09317455939165106,
           0.09419207366463116,
           0.09490206124642381,
           0.10381914865843461,
           0.09411129563406152,
           0.0946721395183866,
           0.1094468735006712,
           0.1015271387480025,
           0.0961742253382685,
           0.10357676770607924,
           0.10671509595917382,
           0.09505525369049826,
           0.017269344795258653,
           0.026488543350785897,
           0.018230531072627093,
           0.015006125106049522,
           0.023005455675278827,
           0.09999999999999998,
           0.01372918941892492,
           0.024470599401803385,
           0.022907700344390356,
           0.01089320300472436,
           0.027999307830156975,
           0.10596204542583448,
           0.09873589675786881,
           0.09453291435473105,
           0.08734850404464178,
           0.11545845314512851,
           0.10373581496143049,
           0.05186790748071524,
           0.12380741213574806,
           0.052326251657121216,
           0.10182199967272725,
           0.06440280036405295,
           0.10120216881178273,
           0.09731714956443971,
           0.08981583450826715,
           0.10095698495977706,
           0.10035891071029059,
           0.11071122500644838,
           0.09847167476832668,
           0.11379941861438556,
           0.09317455939165106,
           0.09419207366463116,
           0.09490206124642381,
           0.10381914865843461,
           0.09411129563406152,
           0.0946721395183866,
           0.1094468735006712,
           0.1015271387480025,
           0.0961742253382685,
           0.10357676770607924,
           0.10671509595917382,
           0.09505525369049826,
           0.017269344795258653,
           0.026488543350785897,
           0.018230531072627093,
           0.015006125106049522,
           0.023005455675278827,
           0.09999999999999998,
           0.01372918941892492,
           0.024470599401803385,
           0.022907700344390356,
           0.01089320300472436,
           0.027999307830156975,
           0.10596204542583448,
           0.09873589675786881,
           0.09453291435473105,
           0.08734850404464178,
           0.11545845314512851,
           0.10373581496143049,
           0.05186790748071524,
           0.12380741213574806,
           0.052326251657121216,
           0.10182199967272725,
           0.06440280036405295,
           0.10120216881178273,
           0.09731714956443971,
           0.08981583450826715,
           0.10095698495977706,
           0.10035891071029059,
           0.11071122500644838,
           0.09847167476832668,
           0.11379941861438556,
           0.09317455939165106,
           0.09419207366463116,
           0.09490206124642381,
           0.10381914865843461,
           0.09411129563406152,
           0.0946721395183866,
           0.1094468735006712,
           0.1015271387480025,
           0.0961742253382685,
           0.10357676770607924,
           0.10671509595917382,
           0.09505525369049826,
           0.017269344795258653,
           0.026488543350785897,
           0.018230531072627093,
           0.015006125106049522,
           0.023005455675278827,
           0.09999999999999998,
           0.01372918941892492,
           0.024470599401803385,
           0.022907700344390356,
           0.01089320300472436,
           0.027999307830156975
          ]
         },
         "node": {
          "color": [
           "rgba(0, 0, 0, 1)",
           "rgba(240.14062210499998, 139.33543664, 109.575302945, 0.75)",
           "rgba(247.16858509499997, 174.670345506, 145.088708196, 0.75)",
           "rgba(245.761813662, 191.01680519600004, 165.60211103900002, 0.75)",
           "rgba(234.440877171, 211.9745445, 199.632775764, 0.75)",
           "rgba(215.14418077899998, 84.167373012, 68.866526606, 0.75)",
           "rgba(204.15321606000003, 216.841371998, 237.15192789999998, 0.75)",
           "rgba(179.94665529, 3.9668208, 38.30936706, 0.75)",
           "rgba(97.833826772, 130.09677140800002, 234.046821674, 0.75)",
           "rgba(245.488684807, 160.195526505, 129.447205398, 0.75)",
           "rgba(149.66485598, 183.12093466, 254.71289904, 0.75)",
           "rgba(246.967435655, 171.864231842, 141.945560292, 0.75)",
           "rgba(242.49368131000003, 200.6531335, 179.713974115, 0.75)",
           "rgba(200.613778846, 215.425838644, 239.651648162, 0.75)",
           "rgba(247.16858509499997, 174.670345506, 145.088708196, 0.75)",
           "rgba(247.143973017, 179.988097308, 151.39458654999999, 0.75)",
           "rgba(205.459355577, 66.252349746, 58.793222637, 0.75)",
           "rgba(245.219408286, 193.297441548, 168.75450668699997, 0.75)",
           "rgba(179.94665529, 3.9668208, 38.30936706, 0.75)",
           "rgba(223.267133795, 219.36175050999998, 217.11466685500002, 0.75)",
           "rgba(229.38351768300004, 216.11256017999997, 208.536213972, 0.75)",
           "rgba(237.320492065, 208.81363491200003, 193.582329628, 0.75)",
           "rgba(230.97478689300002, 116.072351502, 90.610650381, 0.75)",
           "rgba(233.597983923, 212.66421378, 201.116682132, 0.75)",
           "rgba(236.669582465, 209.66027296, 195.11104406, 0.75)",
           "rgba(179.94665529, 3.9668208, 38.30936706, 0.75)",
           "rgba(242.11076732700002, 145.95891752900005, 115.62795911000006, 0.75)",
           "rgba(242.953983006, 199.65602338800002, 178.154671683, 0.75)",
           "rgba(231.771546797, 117.92032247800005, 92.04235050900004, 0.75)",
           "rgba(207.95463858500003, 70.83415173, 61.274859244999995, 0.75)",
           "rgba(238.62231126499998, 207.12035881600002, 190.52490076400005, 0.75)",
           "rgb(236,236,236, 0.75)",
           "rgb(236,236,236, 0.75)",
           "rgb(236,236,236, 0.75)"
          ],
          "label": [
           "Output",
           "DLL1",
           "FGF19",
           "HMOX1",
           "PDGFRB",
           "CSF3",
           "COL6A3",
           "SDC4",
           "NOTCH1",
           "SOST",
           "CXCL16",
           "Nuclear signaling by ERBB4",
           "betaKlotho-mediated ligand binding",
           "Integration of viral DNA into host genomic DNA",
           "Basigin interactions",
           "Negative regulation of TCF-dependent signaling by WNT ligand antagonists",
           "Collagen chain trimerization",
           "STAT5 activation downstream of FLT3 ITD mutants",
           "Inactivation of CSF3 (G-CSF) signaling",
           "Regulation of HMOX1 expression and activity",
           "Drug-mediated inhibition of MET activation",
           "Signaling by ERBB4",
           "Collagen biosynthesis and modifying enzymes",
           "TCF dependent signaling in response to WNT",
           "Cell surface interactions at the vascular wall",
           "Non-integrin membrane-ECM interactions",
           "NCAM signaling for neurite out-growth",
           "Regulation of lipid metabolism by PPARalpha",
           "Clathrin-mediated endocytosis",
           "Signaling by CSF3 (G-CSF)",
           "Formation of paraxial mesoderm",
           "Other connections 2",
           "Other connections 3",
           "Other connections 1"
          ],
          "line": {
           "color": "white",
           "width": 0
          },
          "pad": 15,
          "thickness": 15,
          "x": [
           0.85,
           [
            0.0025
           ],
           [
            0.0025
           ],
           [
            0.0025
           ],
           [
            0.0025
           ],
           [
            0.0025
           ],
           [
            0.0025
           ],
           [
            0.0025
           ],
           [
            0.0025
           ],
           [
            0.0025
           ],
           [
            0.0025
           ],
           [
            0.2525
           ],
           [
            0.2525
           ],
           [
            0.2525
           ],
           [
            0.2525
           ],
           [
            0.2525
           ],
           [
            0.2525
           ],
           [
            0.2525
           ],
           [
            0.2525
           ],
           [
            0.2525
           ],
           [
            0.2525
           ],
           [
            0.5025
           ],
           [
            0.5025
           ],
           [
            0.5025
           ],
           [
            0.5025
           ],
           [
            0.5025
           ],
           [
            0.5025
           ],
           [
            0.5025
           ],
           [
            0.5025
           ],
           [
            0.5025
           ],
           [
            0.5025
           ],
           [
            0.2525
           ],
           [
            0.5025
           ],
           [
            0.0025
           ]
          ],
          "y": [
           0.5,
           [
            0.12866666666666665
           ],
           [
            0.30644444444444446
           ],
           [
            0.39533333333333337
           ],
           [
            0.48422222222222217
           ],
           [
            0.03977777777777776
           ],
           [
            0.5731111111111111
           ],
           [
            -0.04911111111111113
           ],
           [
            0.7508888888888888
           ],
           [
            0.21755555555555556
           ],
           [
            0.662
           ],
           [
            0.12866666666666665
           ],
           [
            0.48422222222222217
           ],
           [
            0.7508888888888888
           ],
           [
            0.21755555555555556
           ],
           [
            0.30644444444444446
           ],
           [
            0.03977777777777776
           ],
           [
            0.39533333333333337
           ],
           [
            -0.04911111111111113
           ],
           [
            0.662
           ],
           [
            0.5731111111111111
           ],
           [
            0.5731111111111111
           ],
           [
            0.12866666666666665
           ],
           [
            0.7508888888888888
           ],
           [
            0.662
           ],
           [
            -0.04911111111111113
           ],
           [
            0.30644444444444446
           ],
           [
            0.39533333333333337
           ],
           [
            0.21755555555555556
           ],
           [
            0.03977777777777776
           ],
           [
            0.48422222222222217
           ],
           [
            0.9
           ],
           [
            0.9
           ],
           [
            0.9
           ]
          ]
         },
         "orientation": "h",
         "textfont": {
          "family": "Arial",
          "size": 15
         },
         "type": "sankey"
        }
       ],
       "layout": {
        "autosize": true,
        "template": {
         "data": {
          "bar": [
           {
            "error_x": {
             "color": "#2a3f5f"
            },
            "error_y": {
             "color": "#2a3f5f"
            },
            "marker": {
             "line": {
              "color": "#E5ECF6",
              "width": 0.5
             },
             "pattern": {
              "fillmode": "overlay",
              "size": 10,
              "solidity": 0.2
             }
            },
            "type": "bar"
           }
          ],
          "barpolar": [
           {
            "marker": {
             "line": {
              "color": "#E5ECF6",
              "width": 0.5
             },
             "pattern": {
              "fillmode": "overlay",
              "size": 10,
              "solidity": 0.2
             }
            },
            "type": "barpolar"
           }
          ],
          "carpet": [
           {
            "aaxis": {
             "endlinecolor": "#2a3f5f",
             "gridcolor": "white",
             "linecolor": "white",
             "minorgridcolor": "white",
             "startlinecolor": "#2a3f5f"
            },
            "baxis": {
             "endlinecolor": "#2a3f5f",
             "gridcolor": "white",
             "linecolor": "white",
             "minorgridcolor": "white",
             "startlinecolor": "#2a3f5f"
            },
            "type": "carpet"
           }
          ],
          "choropleth": [
           {
            "colorbar": {
             "outlinewidth": 0,
             "ticks": ""
            },
            "type": "choropleth"
           }
          ],
          "contour": [
           {
            "colorbar": {
             "outlinewidth": 0,
             "ticks": ""
            },
            "colorscale": [
             [
              0,
              "#0d0887"
             ],
             [
              0.1111111111111111,
              "#46039f"
             ],
             [
              0.2222222222222222,
              "#7201a8"
             ],
             [
              0.3333333333333333,
              "#9c179e"
             ],
             [
              0.4444444444444444,
              "#bd3786"
             ],
             [
              0.5555555555555556,
              "#d8576b"
             ],
             [
              0.6666666666666666,
              "#ed7953"
             ],
             [
              0.7777777777777778,
              "#fb9f3a"
             ],
             [
              0.8888888888888888,
              "#fdca26"
             ],
             [
              1,
              "#f0f921"
             ]
            ],
            "type": "contour"
           }
          ],
          "contourcarpet": [
           {
            "colorbar": {
             "outlinewidth": 0,
             "ticks": ""
            },
            "type": "contourcarpet"
           }
          ],
          "heatmap": [
           {
            "colorbar": {
             "outlinewidth": 0,
             "ticks": ""
            },
            "colorscale": [
             [
              0,
              "#0d0887"
             ],
             [
              0.1111111111111111,
              "#46039f"
             ],
             [
              0.2222222222222222,
              "#7201a8"
             ],
             [
              0.3333333333333333,
              "#9c179e"
             ],
             [
              0.4444444444444444,
              "#bd3786"
             ],
             [
              0.5555555555555556,
              "#d8576b"
             ],
             [
              0.6666666666666666,
              "#ed7953"
             ],
             [
              0.7777777777777778,
              "#fb9f3a"
             ],
             [
              0.8888888888888888,
              "#fdca26"
             ],
             [
              1,
              "#f0f921"
             ]
            ],
            "type": "heatmap"
           }
          ],
          "heatmapgl": [
           {
            "colorbar": {
             "outlinewidth": 0,
             "ticks": ""
            },
            "colorscale": [
             [
              0,
              "#0d0887"
             ],
             [
              0.1111111111111111,
              "#46039f"
             ],
             [
              0.2222222222222222,
              "#7201a8"
             ],
             [
              0.3333333333333333,
              "#9c179e"
             ],
             [
              0.4444444444444444,
              "#bd3786"
             ],
             [
              0.5555555555555556,
              "#d8576b"
             ],
             [
              0.6666666666666666,
              "#ed7953"
             ],
             [
              0.7777777777777778,
              "#fb9f3a"
             ],
             [
              0.8888888888888888,
              "#fdca26"
             ],
             [
              1,
              "#f0f921"
             ]
            ],
            "type": "heatmapgl"
           }
          ],
          "histogram": [
           {
            "marker": {
             "pattern": {
              "fillmode": "overlay",
              "size": 10,
              "solidity": 0.2
             }
            },
            "type": "histogram"
           }
          ],
          "histogram2d": [
           {
            "colorbar": {
             "outlinewidth": 0,
             "ticks": ""
            },
            "colorscale": [
             [
              0,
              "#0d0887"
             ],
             [
              0.1111111111111111,
              "#46039f"
             ],
             [
              0.2222222222222222,
              "#7201a8"
             ],
             [
              0.3333333333333333,
              "#9c179e"
             ],
             [
              0.4444444444444444,
              "#bd3786"
             ],
             [
              0.5555555555555556,
              "#d8576b"
             ],
             [
              0.6666666666666666,
              "#ed7953"
             ],
             [
              0.7777777777777778,
              "#fb9f3a"
             ],
             [
              0.8888888888888888,
              "#fdca26"
             ],
             [
              1,
              "#f0f921"
             ]
            ],
            "type": "histogram2d"
           }
          ],
          "histogram2dcontour": [
           {
            "colorbar": {
             "outlinewidth": 0,
             "ticks": ""
            },
            "colorscale": [
             [
              0,
              "#0d0887"
             ],
             [
              0.1111111111111111,
              "#46039f"
             ],
             [
              0.2222222222222222,
              "#7201a8"
             ],
             [
              0.3333333333333333,
              "#9c179e"
             ],
             [
              0.4444444444444444,
              "#bd3786"
             ],
             [
              0.5555555555555556,
              "#d8576b"
             ],
             [
              0.6666666666666666,
              "#ed7953"
             ],
             [
              0.7777777777777778,
              "#fb9f3a"
             ],
             [
              0.8888888888888888,
              "#fdca26"
             ],
             [
              1,
              "#f0f921"
             ]
            ],
            "type": "histogram2dcontour"
           }
          ],
          "mesh3d": [
           {
            "colorbar": {
             "outlinewidth": 0,
             "ticks": ""
            },
            "type": "mesh3d"
           }
          ],
          "parcoords": [
           {
            "line": {
             "colorbar": {
              "outlinewidth": 0,
              "ticks": ""
             }
            },
            "type": "parcoords"
           }
          ],
          "pie": [
           {
            "automargin": true,
            "type": "pie"
           }
          ],
          "scatter": [
           {
            "fillpattern": {
             "fillmode": "overlay",
             "size": 10,
             "solidity": 0.2
            },
            "type": "scatter"
           }
          ],
          "scatter3d": [
           {
            "line": {
             "colorbar": {
              "outlinewidth": 0,
              "ticks": ""
             }
            },
            "marker": {
             "colorbar": {
              "outlinewidth": 0,
              "ticks": ""
             }
            },
            "type": "scatter3d"
           }
          ],
          "scattercarpet": [
           {
            "marker": {
             "colorbar": {
              "outlinewidth": 0,
              "ticks": ""
             }
            },
            "type": "scattercarpet"
           }
          ],
          "scattergeo": [
           {
            "marker": {
             "colorbar": {
              "outlinewidth": 0,
              "ticks": ""
             }
            },
            "type": "scattergeo"
           }
          ],
          "scattergl": [
           {
            "marker": {
             "colorbar": {
              "outlinewidth": 0,
              "ticks": ""
             }
            },
            "type": "scattergl"
           }
          ],
          "scattermapbox": [
           {
            "marker": {
             "colorbar": {
              "outlinewidth": 0,
              "ticks": ""
             }
            },
            "type": "scattermapbox"
           }
          ],
          "scatterpolar": [
           {
            "marker": {
             "colorbar": {
              "outlinewidth": 0,
              "ticks": ""
             }
            },
            "type": "scatterpolar"
           }
          ],
          "scatterpolargl": [
           {
            "marker": {
             "colorbar": {
              "outlinewidth": 0,
              "ticks": ""
             }
            },
            "type": "scatterpolargl"
           }
          ],
          "scatterternary": [
           {
            "marker": {
             "colorbar": {
              "outlinewidth": 0,
              "ticks": ""
             }
            },
            "type": "scatterternary"
           }
          ],
          "surface": [
           {
            "colorbar": {
             "outlinewidth": 0,
             "ticks": ""
            },
            "colorscale": [
             [
              0,
              "#0d0887"
             ],
             [
              0.1111111111111111,
              "#46039f"
             ],
             [
              0.2222222222222222,
              "#7201a8"
             ],
             [
              0.3333333333333333,
              "#9c179e"
             ],
             [
              0.4444444444444444,
              "#bd3786"
             ],
             [
              0.5555555555555556,
              "#d8576b"
             ],
             [
              0.6666666666666666,
              "#ed7953"
             ],
             [
              0.7777777777777778,
              "#fb9f3a"
             ],
             [
              0.8888888888888888,
              "#fdca26"
             ],
             [
              1,
              "#f0f921"
             ]
            ],
            "type": "surface"
           }
          ],
          "table": [
           {
            "cells": {
             "fill": {
              "color": "#EBF0F8"
             },
             "line": {
              "color": "white"
             }
            },
            "header": {
             "fill": {
              "color": "#C8D4E3"
             },
             "line": {
              "color": "white"
             }
            },
            "type": "table"
           }
          ]
         },
         "layout": {
          "annotationdefaults": {
           "arrowcolor": "#2a3f5f",
           "arrowhead": 0,
           "arrowwidth": 1
          },
          "autotypenumbers": "strict",
          "coloraxis": {
           "colorbar": {
            "outlinewidth": 0,
            "ticks": ""
           }
          },
          "colorscale": {
           "diverging": [
            [
             0,
             "#8e0152"
            ],
            [
             0.1,
             "#c51b7d"
            ],
            [
             0.2,
             "#de77ae"
            ],
            [
             0.3,
             "#f1b6da"
            ],
            [
             0.4,
             "#fde0ef"
            ],
            [
             0.5,
             "#f7f7f7"
            ],
            [
             0.6,
             "#e6f5d0"
            ],
            [
             0.7,
             "#b8e186"
            ],
            [
             0.8,
             "#7fbc41"
            ],
            [
             0.9,
             "#4d9221"
            ],
            [
             1,
             "#276419"
            ]
           ],
           "sequential": [
            [
             0,
             "#0d0887"
            ],
            [
             0.1111111111111111,
             "#46039f"
            ],
            [
             0.2222222222222222,
             "#7201a8"
            ],
            [
             0.3333333333333333,
             "#9c179e"
            ],
            [
             0.4444444444444444,
             "#bd3786"
            ],
            [
             0.5555555555555556,
             "#d8576b"
            ],
            [
             0.6666666666666666,
             "#ed7953"
            ],
            [
             0.7777777777777778,
             "#fb9f3a"
            ],
            [
             0.8888888888888888,
             "#fdca26"
            ],
            [
             1,
             "#f0f921"
            ]
           ],
           "sequentialminus": [
            [
             0,
             "#0d0887"
            ],
            [
             0.1111111111111111,
             "#46039f"
            ],
            [
             0.2222222222222222,
             "#7201a8"
            ],
            [
             0.3333333333333333,
             "#9c179e"
            ],
            [
             0.4444444444444444,
             "#bd3786"
            ],
            [
             0.5555555555555556,
             "#d8576b"
            ],
            [
             0.6666666666666666,
             "#ed7953"
            ],
            [
             0.7777777777777778,
             "#fb9f3a"
            ],
            [
             0.8888888888888888,
             "#fdca26"
            ],
            [
             1,
             "#f0f921"
            ]
           ]
          },
          "colorway": [
           "#636efa",
           "#EF553B",
           "#00cc96",
           "#ab63fa",
           "#FFA15A",
           "#19d3f3",
           "#FF6692",
           "#B6E880",
           "#FF97FF",
           "#FECB52"
          ],
          "font": {
           "color": "#2a3f5f"
          },
          "geo": {
           "bgcolor": "white",
           "lakecolor": "white",
           "landcolor": "#E5ECF6",
           "showlakes": true,
           "showland": true,
           "subunitcolor": "white"
          },
          "hoverlabel": {
           "align": "left"
          },
          "hovermode": "closest",
          "mapbox": {
           "style": "light"
          },
          "paper_bgcolor": "white",
          "plot_bgcolor": "#E5ECF6",
          "polar": {
           "angularaxis": {
            "gridcolor": "white",
            "linecolor": "white",
            "ticks": ""
           },
           "bgcolor": "#E5ECF6",
           "radialaxis": {
            "gridcolor": "white",
            "linecolor": "white",
            "ticks": ""
           }
          },
          "scene": {
           "xaxis": {
            "backgroundcolor": "#E5ECF6",
            "gridcolor": "white",
            "gridwidth": 2,
            "linecolor": "white",
            "showbackground": true,
            "ticks": "",
            "zerolinecolor": "white"
           },
           "yaxis": {
            "backgroundcolor": "#E5ECF6",
            "gridcolor": "white",
            "gridwidth": 2,
            "linecolor": "white",
            "showbackground": true,
            "ticks": "",
            "zerolinecolor": "white"
           },
           "zaxis": {
            "backgroundcolor": "#E5ECF6",
            "gridcolor": "white",
            "gridwidth": 2,
            "linecolor": "white",
            "showbackground": true,
            "ticks": "",
            "zerolinecolor": "white"
           }
          },
          "shapedefaults": {
           "line": {
            "color": "#2a3f5f"
           }
          },
          "ternary": {
           "aaxis": {
            "gridcolor": "white",
            "linecolor": "white",
            "ticks": ""
           },
           "baxis": {
            "gridcolor": "white",
            "linecolor": "white",
            "ticks": ""
           },
           "bgcolor": "#E5ECF6",
           "caxis": {
            "gridcolor": "white",
            "linecolor": "white",
            "ticks": ""
           }
          },
          "title": {
           "x": 0.05
          },
          "xaxis": {
           "automargin": true,
           "gridcolor": "white",
           "linecolor": "white",
           "ticks": "",
           "title": {
            "standoff": 15
           },
           "zerolinecolor": "white",
           "zerolinewidth": 2
          },
          "yaxis": {
           "automargin": true,
           "gridcolor": "white",
           "linecolor": "white",
           "ticks": "",
           "title": {
            "standoff": 15
           },
           "zerolinecolor": "white",
           "zerolinewidth": 2
          }
         }
        }
       }
      },
      "image/png": "[encoded data removed]",
      "text/html": [
       "<div>                            <div id=\"a6ddd221-ffda-4ccb-be32-8cd4f36727b2\" class=\"plotly-graph-div\" style=\"height:525px; width:100%;\"></div>            <script type=\"text/javascript\">                require([\"plotly\"], function(Plotly) {                    window.PLOTLYENV=window.PLOTLYENV || {};                                    if (document.getElementById(\"a6ddd221-ffda-4ccb-be32-8cd4f36727b2\")) {                    Plotly.newPlot(                        \"a6ddd221-ffda-4ccb-be32-8cd4f36727b2\",                        [{\"arrangement\":\"snap\",\"link\":{\"color\":[\"rgba(240.14062210499998, 139.33543664, 109.575302945, 0.75)\",\"rgba(247.16858509499997, 174.670345506, 145.088708196, 0.75)\",\"rgba(245.761813662, 191.01680519600004, 165.60211103900002, 0.75)\",\"rgba(234.440877171, 211.9745445, 199.632775764, 0.75)\",\"rgba(215.14418077899998, 84.167373012, 68.866526606, 0.75)\",\"rgba(204.15321606000003, 216.841371998, 237.15192789999998, 0.75)\",\"rgba(204.15321606000003, 216.841371998, 237.15192789999998, 0.75)\",\"rgba(179.94665529, 3.9668208, 38.30936706, 0.75)\",\"rgba(97.833826772, 130.09677140800002, 234.046821674, 0.75)\",\"rgba(245.488684807, 160.195526505, 129.447205398, 0.75)\",\"rgba(149.66485598, 183.12093466, 254.71289904, 0.75)\",\"rgba(246.967435655, 171.864231842, 141.945560292, 0.75)\",\"rgba(242.49368131000003, 200.6531335, 179.713974115, 0.75)\",\"rgba(200.613778846, 215.425838644, 239.651648162, 0.75)\",\"rgba(247.16858509499997, 174.670345506, 145.088708196, 0.75)\",\"rgba(247.143973017, 179.988097308, 151.39458654999999, 0.75)\",\"rgba(205.459355577, 66.252349746, 58.793222637, 0.75)\",\"rgba(245.219408286, 193.297441548, 168.75450668699997, 0.75)\",\"rgba(179.94665529, 3.9668208, 38.30936706, 0.75)\",\"rgba(223.267133795, 219.36175050999998, 217.11466685500002, 0.75)\",\"rgba(229.38351768300004, 216.11256017999997, 208.536213972, 0.75)\",\"rgba(237.320492065, 208.81363491200003, 193.582329628, 0.75)\",\"rgba(230.97478689300002, 116.072351502, 90.610650381, 0.75)\",\"rgba(233.597983923, 212.66421378, 201.116682132, 0.75)\",\"rgba(236.669582465, 209.66027296, 195.11104406, 0.75)\",\"rgba(179.94665529, 3.9668208, 38.30936706, 0.75)\",\"rgba(242.11076732700002, 145.95891752900005, 115.62795911000006, 0.75)\",\"rgba(242.953983006, 199.65602338800002, 178.154671683, 0.75)\",\"rgba(231.771546797, 117.92032247800005, 92.04235050900004, 0.75)\",\"rgba(207.95463858500003, 70.83415173, 61.274859244999995, 0.75)\",\"rgba(238.62231126499998, 207.12035881600002, 190.52490076400005, 0.75)\",\"rgb(236,236,236, 0.75)\",\"rgb(236,236,236, 0.75)\",\"rgb(236,236,236, 0.75)\",\"rgb(236,236,236, 0.75)\",\"rgb(236,236,236, 0.75)\",\"rgb(236,236,236, 0.75)\",\"rgb(236,236,236, 0.75)\",\"rgb(236,236,236, 0.75)\",\"rgb(236,236,236, 0.75)\",\"rgb(236,236,236, 0.75)\",\"rgb(236,236,236, 0.75)\"],\"source\":[1,2,3,4,5,6,6,7,8,9,10,11,12,13,14,15,16,17,18,19,20,21,22,23,24,25,26,27,28,29,30,31,31,31,31,31,32,33,33,33,33,33],\"target\":[31,12,19,31,18,31,16,31,31,15,31,21,32,32,24,23,22,32,29,32,32,0,0,0,0,0,0,0,0,0,0,27,25,26,28,30,0,13,20,14,17,11],\"value\":[0.10596204542583448,0.09873589675786881,0.09453291435473105,0.08734850404464178,0.11545845314512851,0.10373581496143049,0.05186790748071524,0.12380741213574806,0.052326251657121216,0.10182199967272725,0.06440280036405295,0.10120216881178273,0.09731714956443971,0.08981583450826715,0.10095698495977706,0.10035891071029059,0.11071122500644838,0.09847167476832668,0.11379941861438556,0.09317455939165106,0.09419207366463116,0.09490206124642381,0.10381914865843461,0.09411129563406152,0.0946721395183866,0.1094468735006712,0.1015271387480025,0.0961742253382685,0.10357676770607924,0.10671509595917382,0.09505525369049826,0.017269344795258653,0.026488543350785897,0.018230531072627093,0.015006125106049522,0.023005455675278827,0.09999999999999998,0.01372918941892492,0.024470599401803385,0.022907700344390356,0.01089320300472436,0.027999307830156975,0.10596204542583448,0.09873589675786881,0.09453291435473105,0.08734850404464178,0.11545845314512851,0.10373581496143049,0.05186790748071524,0.12380741213574806,0.052326251657121216,0.10182199967272725,0.06440280036405295,0.10120216881178273,0.09731714956443971,0.08981583450826715,0.10095698495977706,0.10035891071029059,0.11071122500644838,0.09847167476832668,0.11379941861438556,0.09317455939165106,0.09419207366463116,0.09490206124642381,0.10381914865843461,0.09411129563406152,0.0946721395183866,0.1094468735006712,0.1015271387480025,0.0961742253382685,0.10357676770607924,0.10671509595917382,0.09505525369049826,0.017269344795258653,0.026488543350785897,0.018230531072627093,0.015006125106049522,0.023005455675278827,0.09999999999999998,0.01372918941892492,0.024470599401803385,0.022907700344390356,0.01089320300472436,0.027999307830156975,0.10596204542583448,0.09873589675786881,0.09453291435473105,0.08734850404464178,0.11545845314512851,0.10373581496143049,0.05186790748071524,0.12380741213574806,0.052326251657121216,0.10182199967272725,0.06440280036405295,0.10120216881178273,0.09731714956443971,0.08981583450826715,0.10095698495977706,0.10035891071029059,0.11071122500644838,0.09847167476832668,0.11379941861438556,0.09317455939165106,0.09419207366463116,0.09490206124642381,0.10381914865843461,0.09411129563406152,0.0946721395183866,0.1094468735006712,0.1015271387480025,0.0961742253382685,0.10357676770607924,0.10671509595917382,0.09505525369049826,0.017269344795258653,0.026488543350785897,0.018230531072627093,0.015006125106049522,0.023005455675278827,0.09999999999999998,0.01372918941892492,0.024470599401803385,0.022907700344390356,0.01089320300472436,0.027999307830156975,0.10596204542583448,0.09873589675786881,0.09453291435473105,0.08734850404464178,0.11545845314512851,0.10373581496143049,0.05186790748071524,0.12380741213574806,0.052326251657121216,0.10182199967272725,0.06440280036405295,0.10120216881178273,0.09731714956443971,0.08981583450826715,0.10095698495977706,0.10035891071029059,0.11071122500644838,0.09847167476832668,0.11379941861438556,0.09317455939165106,0.09419207366463116,0.09490206124642381,0.10381914865843461,0.09411129563406152,0.0946721395183866,0.1094468735006712,0.1015271387480025,0.0961742253382685,0.10357676770607924,0.10671509595917382,0.09505525369049826,0.017269344795258653,0.026488543350785897,0.018230531072627093,0.015006125106049522,0.023005455675278827,0.09999999999999998,0.01372918941892492,0.024470599401803385,0.022907700344390356,0.01089320300472436,0.027999307830156975,0.10596204542583448,0.09873589675786881,0.09453291435473105,0.08734850404464178,0.11545845314512851,0.10373581496143049,0.05186790748071524,0.12380741213574806,0.052326251657121216,0.10182199967272725,0.06440280036405295,0.10120216881178273,0.09731714956443971,0.08981583450826715,0.10095698495977706,0.10035891071029059,0.11071122500644838,0.09847167476832668,0.11379941861438556,0.09317455939165106,0.09419207366463116,0.09490206124642381,0.10381914865843461,0.09411129563406152,0.0946721395183866,0.1094468735006712,0.1015271387480025,0.0961742253382685,0.10357676770607924,0.10671509595917382,0.09505525369049826,0.017269344795258653,0.026488543350785897,0.018230531072627093,0.015006125106049522,0.023005455675278827,0.09999999999999998,0.01372918941892492,0.024470599401803385,0.022907700344390356,0.01089320300472436,0.027999307830156975,0.10596204542583448,0.09873589675786881,0.09453291435473105,0.08734850404464178,0.11545845314512851,0.10373581496143049,0.05186790748071524,0.12380741213574806,0.052326251657121216,0.10182199967272725,0.06440280036405295,0.10120216881178273,0.09731714956443971,0.08981583450826715,0.10095698495977706,0.10035891071029059,0.11071122500644838,0.09847167476832668,0.11379941861438556,0.09317455939165106,0.09419207366463116,0.09490206124642381,0.10381914865843461,0.09411129563406152,0.0946721395183866,0.1094468735006712,0.1015271387480025,0.0961742253382685,0.10357676770607924,0.10671509595917382,0.09505525369049826,0.017269344795258653,0.026488543350785897,0.018230531072627093,0.015006125106049522,0.023005455675278827,0.09999999999999998,0.01372918941892492,0.024470599401803385,0.022907700344390356,0.01089320300472436,0.027999307830156975,0.10596204542583448,0.09873589675786881,0.09453291435473105,0.08734850404464178,0.11545845314512851,0.10373581496143049,0.05186790748071524,0.12380741213574806,0.052326251657121216,0.10182199967272725,0.06440280036405295,0.10120216881178273,0.09731714956443971,0.08981583450826715,0.10095698495977706,0.10035891071029059,0.11071122500644838,0.09847167476832668,0.11379941861438556,0.09317455939165106,0.09419207366463116,0.09490206124642381,0.10381914865843461,0.09411129563406152,0.0946721395183866,0.1094468735006712,0.1015271387480025,0.0961742253382685,0.10357676770607924,0.10671509595917382,0.09505525369049826,0.017269344795258653,0.026488543350785897,0.018230531072627093,0.015006125106049522,0.023005455675278827,0.09999999999999998,0.01372918941892492,0.024470599401803385,0.022907700344390356,0.01089320300472436,0.027999307830156975,0.10596204542583448,0.09873589675786881,0.09453291435473105,0.08734850404464178,0.11545845314512851,0.10373581496143049,0.05186790748071524,0.12380741213574806,0.052326251657121216,0.10182199967272725,0.06440280036405295,0.10120216881178273,0.09731714956443971,0.08981583450826715,0.10095698495977706,0.10035891071029059,0.11071122500644838,0.09847167476832668,0.11379941861438556,0.09317455939165106,0.09419207366463116,0.09490206124642381,0.10381914865843461,0.09411129563406152,0.0946721395183866,0.1094468735006712,0.1015271387480025,0.0961742253382685,0.10357676770607924,0.10671509595917382,0.09505525369049826,0.017269344795258653,0.026488543350785897,0.018230531072627093,0.015006125106049522,0.023005455675278827,0.09999999999999998,0.01372918941892492,0.024470599401803385,0.022907700344390356,0.01089320300472436,0.027999307830156975,0.10596204542583448,0.09873589675786881,0.09453291435473105,0.08734850404464178,0.11545845314512851,0.10373581496143049,0.05186790748071524,0.12380741213574806,0.052326251657121216,0.10182199967272725,0.06440280036405295,0.10120216881178273,0.09731714956443971,0.08981583450826715,0.10095698495977706,0.10035891071029059,0.11071122500644838,0.09847167476832668,0.11379941861438556,0.09317455939165106,0.09419207366463116,0.09490206124642381,0.10381914865843461,0.09411129563406152,0.0946721395183866,0.1094468735006712,0.1015271387480025,0.0961742253382685,0.10357676770607924,0.10671509595917382,0.09505525369049826,0.017269344795258653,0.026488543350785897,0.018230531072627093,0.015006125106049522,0.023005455675278827,0.09999999999999998,0.01372918941892492,0.024470599401803385,0.022907700344390356,0.01089320300472436,0.027999307830156975,0.10596204542583448,0.09873589675786881,0.09453291435473105,0.08734850404464178,0.11545845314512851,0.10373581496143049,0.05186790748071524,0.12380741213574806,0.052326251657121216,0.10182199967272725,0.06440280036405295,0.10120216881178273,0.09731714956443971,0.08981583450826715,0.10095698495977706,0.10035891071029059,0.11071122500644838,0.09847167476832668,0.11379941861438556,0.09317455939165106,0.09419207366463116,0.09490206124642381,0.10381914865843461,0.09411129563406152,0.0946721395183866,0.1094468735006712,0.1015271387480025,0.0961742253382685,0.10357676770607924,0.10671509595917382,0.09505525369049826,0.017269344795258653,0.026488543350785897,0.018230531072627093,0.015006125106049522,0.023005455675278827,0.09999999999999998,0.01372918941892492,0.024470599401803385,0.022907700344390356,0.01089320300472436,0.027999307830156975]},\"node\":{\"color\":[\"rgba(0,0,0,1)\",\"rgba(240.14062210499998, 139.33543664, 109.575302945, 0.75)\",\"rgba(247.16858509499997, 174.670345506, 145.088708196, 0.75)\",\"rgba(245.761813662, 191.01680519600004, 165.60211103900002, 0.75)\",\"rgba(234.440877171, 211.9745445, 199.632775764, 0.75)\",\"rgba(215.14418077899998, 84.167373012, 68.866526606, 0.75)\",\"rgba(204.15321606000003, 216.841371998, 237.15192789999998, 0.75)\",\"rgba(179.94665529, 3.9668208, 38.30936706, 0.75)\",\"rgba(97.833826772, 130.09677140800002, 234.046821674, 0.75)\",\"rgba(245.488684807, 160.195526505, 129.447205398, 0.75)\",\"rgba(149.66485598, 183.12093466, 254.71289904, 0.75)\",\"rgba(246.967435655, 171.864231842, 141.945560292, 0.75)\",\"rgba(242.49368131000003, 200.6531335, 179.713974115, 0.75)\",\"rgba(200.613778846, 215.425838644, 239.651648162, 0.75)\",\"rgba(247.16858509499997, 174.670345506, 145.088708196, 0.75)\",\"rgba(247.143973017, 179.988097308, 151.39458654999999, 0.75)\",\"rgba(205.459355577, 66.252349746, 58.793222637, 0.75)\",\"rgba(245.219408286, 193.297441548, 168.75450668699997, 0.75)\",\"rgba(179.94665529, 3.9668208, 38.30936706, 0.75)\",\"rgba(223.267133795, 219.36175050999998, 217.11466685500002, 0.75)\",\"rgba(229.38351768300004, 216.11256017999997, 208.536213972, 0.75)\",\"rgba(237.320492065, 208.81363491200003, 193.582329628, 0.75)\",\"rgba(230.97478689300002, 116.072351502, 90.610650381, 0.75)\",\"rgba(233.597983923, 212.66421378, 201.116682132, 0.75)\",\"rgba(236.669582465, 209.66027296, 195.11104406, 0.75)\",\"rgba(179.94665529, 3.9668208, 38.30936706, 0.75)\",\"rgba(242.11076732700002, 145.95891752900005, 115.62795911000006, 0.75)\",\"rgba(242.953983006, 199.65602338800002, 178.154671683, 0.75)\",\"rgba(231.771546797, 117.92032247800005, 92.04235050900004, 0.75)\",\"rgba(207.95463858500003, 70.83415173, 61.274859244999995, 0.75)\",\"rgba(238.62231126499998, 207.12035881600002, 190.52490076400005, 0.75)\",\"rgb(236,236,236, 0.75)\",\"rgb(236,236,236, 0.75)\",\"rgb(236,236,236, 0.75)\"],\"label\":[\"Output\",\"DLL1\",\"FGF19\",\"HMOX1\",\"PDGFRB\",\"CSF3\",\"COL6A3\",\"SDC4\",\"NOTCH1\",\"SOST\",\"CXCL16\",\"Nuclear signaling by ERBB4\",\"betaKlotho-mediated ligand binding\",\"Integration of viral DNA into host genomic DNA\",\"Basigin interactions\",\"Negative regulation of TCF-dependent signaling by WNT ligand antagonists\",\"Collagen chain trimerization\",\"STAT5 activation downstream of FLT3 ITD mutants\",\"Inactivation of CSF3 (G-CSF) signaling\",\"Regulation of HMOX1 expression and activity\",\"Drug-mediated inhibition of MET activation\",\"Signaling by ERBB4\",\"Collagen biosynthesis and modifying enzymes\",\"TCF dependent signaling in response to WNT\",\"Cell surface interactions at the vascular wall\",\"Non-integrin membrane-ECM interactions\",\"NCAM signaling for neurite out-growth\",\"Regulation of lipid metabolism by PPARalpha\",\"Clathrin-mediated endocytosis\",\"Signaling by CSF3 (G-CSF)\",\"Formation of paraxial mesoderm\",\"Other connections 2\",\"Other connections 3\",\"Other connections 1\"],\"line\":{\"color\":\"white\",\"width\":0},\"pad\":15,\"thickness\":15,\"x\":[0.85,[0.0025],[0.0025],[0.0025],[0.0025],[0.0025],[0.0025],[0.0025],[0.0025],[0.0025],[0.0025],[0.2525],[0.2525],[0.2525],[0.2525],[0.2525],[0.2525],[0.2525],[0.2525],[0.2525],[0.2525],[0.5025],[0.5025],[0.5025],[0.5025],[0.5025],[0.5025],[0.5025],[0.5025],[0.5025],[0.5025],[0.2525],[0.5025],[0.0025]],\"y\":[0.5,[0.12866666666666665],[0.30644444444444446],[0.39533333333333337],[0.48422222222222217],[0.03977777777777776],[0.5731111111111111],[-0.04911111111111113],[0.7508888888888888],[0.21755555555555556],[0.662],[0.12866666666666665],[0.48422222222222217],[0.7508888888888888],[0.21755555555555556],[0.30644444444444446],[0.03977777777777776],[0.39533333333333337],[-0.04911111111111113],[0.662],[0.5731111111111111],[0.5731111111111111],[0.12866666666666665],[0.7508888888888888],[0.662],[-0.04911111111111113],[0.30644444444444446],[0.39533333333333337],[0.21755555555555556],[0.03977777777777776],[0.48422222222222217],[0.9],[0.9],[0.9]]},\"orientation\":\"h\",\"textfont\":{\"family\":\"Arial\",\"size\":15},\"type\":\"sankey\"}],                        {\"template\":{\"data\":{\"histogram2dcontour\":[{\"type\":\"histogram2dcontour\",\"colorbar\":{\"outlinewidth\":0,\"ticks\":\"\"},\"colorscale\":[[0.0,\"#0d0887\"],[0.1111111111111111,\"#46039f\"],[0.2222222222222222,\"#7201a8\"],[0.3333333333333333,\"#9c179e\"],[0.4444444444444444,\"#bd3786\"],[0.5555555555555556,\"#d8576b\"],[0.6666666666666666,\"#ed7953\"],[0.7777777777777778,\"#fb9f3a\"],[0.8888888888888888,\"#fdca26\"],[1.0,\"#f0f921\"]]}],\"choropleth\":[{\"type\":\"choropleth\",\"colorbar\":{\"outlinewidth\":0,\"ticks\":\"\"}}],\"histogram2d\":[{\"type\":\"histogram2d\",\"colorbar\":{\"outlinewidth\":0,\"ticks\":\"\"},\"colorscale\":[[0.0,\"#0d0887\"],[0.1111111111111111,\"#46039f\"],[0.2222222222222222,\"#7201a8\"],[0.3333333333333333,\"#9c179e\"],[0.4444444444444444,\"#bd3786\"],[0.5555555555555556,\"#d8576b\"],[0.6666666666666666,\"#ed7953\"],[0.7777777777777778,\"#fb9f3a\"],[0.8888888888888888,\"#fdca26\"],[1.0,\"#f0f921\"]]}],\"heatmap\":[{\"type\":\"heatmap\",\"colorbar\":{\"outlinewidth\":0,\"ticks\":\"\"},\"colorscale\":[[0.0,\"#0d0887\"],[0.1111111111111111,\"#46039f\"],[0.2222222222222222,\"#7201a8\"],[0.3333333333333333,\"#9c179e\"],[0.4444444444444444,\"#bd3786\"],[0.5555555555555556,\"#d8576b\"],[0.6666666666666666,\"#ed7953\"],[0.7777777777777778,\"#fb9f3a\"],[0.8888888888888888,\"#fdca26\"],[1.0,\"#f0f921\"]]}],\"heatmapgl\":[{\"type\":\"heatmapgl\",\"colorbar\":{\"outlinewidth\":0,\"ticks\":\"\"},\"colorscale\":[[0.0,\"#0d0887\"],[0.1111111111111111,\"#46039f\"],[0.2222222222222222,\"#7201a8\"],[0.3333333333333333,\"#9c179e\"],[0.4444444444444444,\"#bd3786\"],[0.5555555555555556,\"#d8576b\"],[0.6666666666666666,\"#ed7953\"],[0.7777777777777778,\"#fb9f3a\"],[0.8888888888888888,\"#fdca26\"],[1.0,\"#f0f921\"]]}],\"contourcarpet\":[{\"type\":\"contourcarpet\",\"colorbar\":{\"outlinewidth\":0,\"ticks\":\"\"}}],\"contour\":[{\"type\":\"contour\",\"colorbar\":{\"outlinewidth\":0,\"ticks\":\"\"},\"colorscale\":[[0.0,\"#0d0887\"],[0.1111111111111111,\"#46039f\"],[0.2222222222222222,\"#7201a8\"],[0.3333333333333333,\"#9c179e\"],[0.4444444444444444,\"#bd3786\"],[0.5555555555555556,\"#d8576b\"],[0.6666666666666666,\"#ed7953\"],[0.7777777777777778,\"#fb9f3a\"],[0.8888888888888888,\"#fdca26\"],[1.0,\"#f0f921\"]]}],\"surface\":[{\"type\":\"surface\",\"colorbar\":{\"outlinewidth\":0,\"ticks\":\"\"},\"colorscale\":[[0.0,\"#0d0887\"],[0.1111111111111111,\"#46039f\"],[0.2222222222222222,\"#7201a8\"],[0.3333333333333333,\"#9c179e\"],[0.4444444444444444,\"#bd3786\"],[0.5555555555555556,\"#d8576b\"],[0.6666666666666666,\"#ed7953\"],[0.7777777777777778,\"#fb9f3a\"],[0.8888888888888888,\"#fdca26\"],[1.0,\"#f0f921\"]]}],\"mesh3d\":[{\"type\":\"mesh3d\",\"colorbar\":{\"outlinewidth\":0,\"ticks\":\"\"}}],\"scatter\":[{\"fillpattern\":{\"fillmode\":\"overlay\",\"size\":10,\"solidity\":0.2},\"type\":\"scatter\"}],\"parcoords\":[{\"type\":\"parcoords\",\"line\":{\"colorbar\":{\"outlinewidth\":0,\"ticks\":\"\"}}}],\"scatterpolargl\":[{\"type\":\"scatterpolargl\",\"marker\":{\"colorbar\":{\"outlinewidth\":0,\"ticks\":\"\"}}}],\"bar\":[{\"error_x\":{\"color\":\"#2a3f5f\"},\"error_y\":{\"color\":\"#2a3f5f\"},\"marker\":{\"line\":{\"color\":\"#E5ECF6\",\"width\":0.5},\"pattern\":{\"fillmode\":\"overlay\",\"size\":10,\"solidity\":0.2}},\"type\":\"bar\"}],\"scattergeo\":[{\"type\":\"scattergeo\",\"marker\":{\"colorbar\":{\"outlinewidth\":0,\"ticks\":\"\"}}}],\"scatterpolar\":[{\"type\":\"scatterpolar\",\"marker\":{\"colorbar\":{\"outlinewidth\":0,\"ticks\":\"\"}}}],\"histogram\":[{\"marker\":{\"pattern\":{\"fillmode\":\"overlay\",\"size\":10,\"solidity\":0.2}},\"type\":\"histogram\"}],\"scattergl\":[{\"type\":\"scattergl\",\"marker\":{\"colorbar\":{\"outlinewidth\":0,\"ticks\":\"\"}}}],\"scatter3d\":[{\"type\":\"scatter3d\",\"line\":{\"colorbar\":{\"outlinewidth\":0,\"ticks\":\"\"}},\"marker\":{\"colorbar\":{\"outlinewidth\":0,\"ticks\":\"\"}}}],\"scattermapbox\":[{\"type\":\"scattermapbox\",\"marker\":{\"colorbar\":{\"outlinewidth\":0,\"ticks\":\"\"}}}],\"scatterternary\":[{\"type\":\"scatterternary\",\"marker\":{\"colorbar\":{\"outlinewidth\":0,\"ticks\":\"\"}}}],\"scattercarpet\":[{\"type\":\"scattercarpet\",\"marker\":{\"colorbar\":{\"outlinewidth\":0,\"ticks\":\"\"}}}],\"carpet\":[{\"aaxis\":{\"endlinecolor\":\"#2a3f5f\",\"gridcolor\":\"white\",\"linecolor\":\"white\",\"minorgridcolor\":\"white\",\"startlinecolor\":\"#2a3f5f\"},\"baxis\":{\"endlinecolor\":\"#2a3f5f\",\"gridcolor\":\"white\",\"linecolor\":\"white\",\"minorgridcolor\":\"white\",\"startlinecolor\":\"#2a3f5f\"},\"type\":\"carpet\"}],\"table\":[{\"cells\":{\"fill\":{\"color\":\"#EBF0F8\"},\"line\":{\"color\":\"white\"}},\"header\":{\"fill\":{\"color\":\"#C8D4E3\"},\"line\":{\"color\":\"white\"}},\"type\":\"table\"}],\"barpolar\":[{\"marker\":{\"line\":{\"color\":\"#E5ECF6\",\"width\":0.5},\"pattern\":{\"fillmode\":\"overlay\",\"size\":10,\"solidity\":0.2}},\"type\":\"barpolar\"}],\"pie\":[{\"automargin\":true,\"type\":\"pie\"}]},\"layout\":{\"autotypenumbers\":\"strict\",\"colorway\":[\"#636efa\",\"#EF553B\",\"#00cc96\",\"#ab63fa\",\"#FFA15A\",\"#19d3f3\",\"#FF6692\",\"#B6E880\",\"#FF97FF\",\"#FECB52\"],\"font\":{\"color\":\"#2a3f5f\"},\"hovermode\":\"closest\",\"hoverlabel\":{\"align\":\"left\"},\"paper_bgcolor\":\"white\",\"plot_bgcolor\":\"#E5ECF6\",\"polar\":{\"bgcolor\":\"#E5ECF6\",\"angularaxis\":{\"gridcolor\":\"white\",\"linecolor\":\"white\",\"ticks\":\"\"},\"radialaxis\":{\"gridcolor\":\"white\",\"linecolor\":\"white\",\"ticks\":\"\"}},\"ternary\":{\"bgcolor\":\"#E5ECF6\",\"aaxis\":{\"gridcolor\":\"white\",\"linecolor\":\"white\",\"ticks\":\"\"},\"baxis\":{\"gridcolor\":\"white\",\"linecolor\":\"white\",\"ticks\":\"\"},\"caxis\":{\"gridcolor\":\"white\",\"linecolor\":\"white\",\"ticks\":\"\"}},\"coloraxis\":{\"colorbar\":{\"outlinewidth\":0,\"ticks\":\"\"}},\"colorscale\":{\"sequential\":[[0.0,\"#0d0887\"],[0.1111111111111111,\"#46039f\"],[0.2222222222222222,\"#7201a8\"],[0.3333333333333333,\"#9c179e\"],[0.4444444444444444,\"#bd3786\"],[0.5555555555555556,\"#d8576b\"],[0.6666666666666666,\"#ed7953\"],[0.7777777777777778,\"#fb9f3a\"],[0.8888888888888888,\"#fdca26\"],[1.0,\"#f0f921\"]],\"sequentialminus\":[[0.0,\"#0d0887\"],[0.1111111111111111,\"#46039f\"],[0.2222222222222222,\"#7201a8\"],[0.3333333333333333,\"#9c179e\"],[0.4444444444444444,\"#bd3786\"],[0.5555555555555556,\"#d8576b\"],[0.6666666666666666,\"#ed7953\"],[0.7777777777777778,\"#fb9f3a\"],[0.8888888888888888,\"#fdca26\"],[1.0,\"#f0f921\"]],\"diverging\":[[0,\"#8e0152\"],[0.1,\"#c51b7d\"],[0.2,\"#de77ae\"],[0.3,\"#f1b6da\"],[0.4,\"#fde0ef\"],[0.5,\"#f7f7f7\"],[0.6,\"#e6f5d0\"],[0.7,\"#b8e186\"],[0.8,\"#7fbc41\"],[0.9,\"#4d9221\"],[1,\"#276419\"]]},\"xaxis\":{\"gridcolor\":\"white\",\"linecolor\":\"white\",\"ticks\":\"\",\"title\":{\"standoff\":15},\"zerolinecolor\":\"white\",\"automargin\":true,\"zerolinewidth\":2},\"yaxis\":{\"gridcolor\":\"white\",\"linecolor\":\"white\",\"ticks\":\"\",\"title\":{\"standoff\":15},\"zerolinecolor\":\"white\",\"automargin\":true,\"zerolinewidth\":2},\"scene\":{\"xaxis\":{\"backgroundcolor\":\"#E5ECF6\",\"gridcolor\":\"white\",\"linecolor\":\"white\",\"showbackground\":true,\"ticks\":\"\",\"zerolinecolor\":\"white\",\"gridwidth\":2},\"yaxis\":{\"backgroundcolor\":\"#E5ECF6\",\"gridcolor\":\"white\",\"linecolor\":\"white\",\"showbackground\":true,\"ticks\":\"\",\"zerolinecolor\":\"white\",\"gridwidth\":2},\"zaxis\":{\"backgroundcolor\":\"#E5ECF6\",\"gridcolor\":\"white\",\"linecolor\":\"white\",\"showbackground\":true,\"ticks\":\"\",\"zerolinecolor\":\"white\",\"gridwidth\":2}},\"shapedefaults\":{\"line\":{\"color\":\"#2a3f5f\"}},\"annotationdefaults\":{\"arrowcolor\":\"#2a3f5f\",\"arrowhead\":0,\"arrowwidth\":1},\"geo\":{\"bgcolor\":\"white\",\"landcolor\":\"#E5ECF6\",\"subunitcolor\":\"white\",\"showland\":true,\"showlakes\":true,\"lakecolor\":\"white\"},\"title\":{\"x\":0.05},\"mapbox\":{\"style\":\"light\"}}}},                        {\"responsive\": true}                    ).then(function(){\n",
       "                            \n",
       "var gd = document.getElementById('a6ddd221-ffda-4ccb-be32-8cd4f36727b2');\n",
       "var x = new MutationObserver(function (mutations, observer) {{\n",
       "        var display = window.getComputedStyle(gd).display;\n",
       "        if (!display || display === 'none') {{\n",
       "            console.log([gd, 'removed!']);\n",
       "            Plotly.purge(gd);\n",
       "            observer.disconnect();\n",
       "        }}\n",
       "}});\n",
       "\n",
       "// Listen for the removal of the full notebook cells\n",
       "var notebookContainer = gd.closest('#notebook-container');\n",
       "if (notebookContainer) {{\n",
       "    x.observe(notebookContainer, {childList: true});\n",
       "}}\n",
       "\n",
       "// Listen for the clearing of the current output cell\n",
       "var outputEl = gd.closest('.output');\n",
       "if (outputEl) {{\n",
       "    x.observe(outputEl, {childList: true});\n",
       "}}\n",
       "\n",
       "                        })                };                });            </script>        </div>"
      ]
     },
     "metadata": {},
     "output_type": "display_data"
    }
   ],
   "source": [
    "IG_plot.plot_complete_sankey(\n",
    "    multiclass=False, node_cmap=\"coolwarm\", edge_cmap=\"coolwarm\", savename='pnc_sankey_erik.png'\n",
    ")"
   ]
  },
  {
   "cell_type": "code",
   "execution_count": null,
   "id": "1c5b8967-34bc-4b28-9dac-ce8257ce744a",
   "metadata": {},
   "outputs": [],
   "source": [
    "IG_plotplot_subgraph_sankey(query_node = \"A1E959_0\")"
   ]
  },
  {
   "cell_type": "code",
   "execution_count": null,
   "id": "1f1b24eb-59b3-41b4-b92b-2ce81c5d6275",
   "metadata": {},
   "outputs": [],
   "source": [
    "#IG_sps.importance_df.to_csv('data/imp_df_sps_new.csv', sep = '\\t', index=False)"
   ]
  },
  {
   "cell_type": "markdown",
   "id": "f547e677-8ba7-4e0d-9bfa-c5d348a290b3",
   "metadata": {},
   "source": [
    "# Robustness plot"
   ]
  },
  {
   "cell_type": "code",
   "execution_count": null,
   "id": "472c3013-cd0f-412a-88d5-59d636057e8b",
   "metadata": {},
   "outputs": [],
   "source": [
    "importance_df_copy = importance_df_pnc.groupby([\"source name\", \"source layer\", \"target layer\"], as_index=False).mean(numeric_only=True)\n",
    "mean_ranks = []\n",
    "std_ranks = []\n",
    "source_layer = []\n",
    "sources = []\n",
    "for layer in range(binn_pnc.n_layers):\n",
    "    layer_df = importance_df_copy[importance_df_copy[\"source layer\"] == layer].copy()\n",
    "    for i in range(n_iterations):\n",
    "        layer_df.sort_values(f\"value_{i}\", ascending=False, inplace=True)\n",
    "        layer_df[f\"rank_{i}\"] = range(len(layer_df.index))\n",
    "    rank_cols = [c for c in layer_df.columns if c.startswith(\"rank\")]\n",
    "    mean_ranks += (layer_df[rank_cols].mean(axis=1)/ len(layer_df.index)).tolist()\n",
    "    sources += layer_df[\"source name\"].tolist()\n",
    "    std_ranks  += (layer_df[rank_cols].std(axis=1)/ len(layer_df.index)).tolist()\n",
    "    source_layer += layer_df[\"source layer\"].tolist()\n",
    "plot_df = pd.DataFrame({\"mean\":mean_ranks, \"std\":std_ranks, \"source layer\":source_layer, \"source\":sources})"
   ]
  },
  {
   "cell_type": "markdown",
   "id": "57391330-4595-456d-8ebc-587e7f36f1aa",
   "metadata": {},
   "source": [
    "# Biomarkers"
   ]
  },
  {
   "cell_type": "code",
   "execution_count": 26,
   "id": "d21cdfb7-b4a1-4ac2-8df5-aabf1233ca43",
   "metadata": {},
   "outputs": [],
   "source": [
    "biomarkers = IG_plot.importance_df[IG_plot.importance_df[\"source layer\"] == 0].copy()\n",
    "biomarkers = biomarkers.groupby(\"source name\").mean(numeric_only=True)\n",
    "biomarkers = biomarkers.sort_values(\"value\", ascending=False)[\"source\"][\n",
    "    0:10\n",
    "].index.tolist()"
   ]
  },
  {
   "cell_type": "code",
   "execution_count": 27,
   "id": "33a8e2d9-d3bb-4cb2-bb80-d5b7d590bd73",
   "metadata": {},
   "outputs": [
    {
     "data": {
      "text/plain": [
       "['SDC4',\n",
       " 'CSF3',\n",
       " 'SOST',\n",
       " 'FGF19',\n",
       " 'HMOX1',\n",
       " 'PDGFRB',\n",
       " 'CXCL16',\n",
       " 'DLL1',\n",
       " 'NOTCH1',\n",
       " 'COL6A3']"
      ]
     },
     "execution_count": 27,
     "metadata": {},
     "output_type": "execute_result"
    }
   ],
   "source": [
    "#biomarkers.tofile('data/pnc_biomarkers.csv', sep=',', format='%s')\n",
    "biomarkers"
   ]
  },
  {
   "cell_type": "code",
   "execution_count": null,
   "id": "6db0aa33-07fe-4557-bef6-888ee8135e4d",
   "metadata": {},
   "outputs": [],
   "source": [
    "biomarkers = IG_pnc.importance_df[IG_pnc.importance_df[\"source layer\"] == 0].copy()\n",
    "biomarkers = biomarkers.groupby(\"source name\").mean(numeric_only=True)\n",
    "biomarkers = biomarkers.sort_values(\"value\", ascending=False)[\"source\"][\n",
    "    0:100\n",
    "].index.tolist()\n",
    "\n",
    "biomarker_data = protein_matrix_pnc.loc[biomarkers].fillna(0)\n",
    "\n",
    "from sklearn.preprocessing import StandardScaler\n",
    "from umap import UMAP\n",
    "\n",
    "cols = biomarker_data.columns\n",
    "index = biomarker_data.index\n",
    "biomarker_data = StandardScaler().fit_transform(biomarker_data.T).T\n",
    "\n",
    "X_reduced = UMAP(random_state=42).fit_transform(biomarker_data.T)\n",
    "\n",
    "row_colors = design_matrix_pnc[\"group\"].map({1: \"#398fcc\", 2: \"#c42412\"}).values\n",
    "\n",
    "biomarker_data = pd.DataFrame(data=biomarker_data, columns=cols, index=index)\n",
    "\n",
    "g = sns.clustermap(\n",
    "    biomarker_data,\n",
    "    col_colors=row_colors,\n",
    "    figsize=(5, 6),\n",
    "    vmin=-2,\n",
    "    vmax=2,\n",
    "    cmap=\"coolwarm\",\n",
    "    cbar_kws={\"label\": \"z-score\"},\n",
    ")\n",
    "#g.ax_heatmap.set_xticks([])"
   ]
  },
  {
   "cell_type": "code",
   "execution_count": null,
   "id": "923acaa5-e8af-4ff6-b351-3384c8dc56ac",
   "metadata": {},
   "outputs": [],
   "source": [
    "import csv\n",
    "\n",
    "# Open a CSV file in write mode\n",
    "with open('data/pnc_biomarkers_new.csv', 'w', newline='') as csvfile:\n",
    "    # Create a CSV writer object\n",
    "    writer = csv.writer(csvfile, delimiter=',')\n",
    "    \n",
    "    # Write the biomarkers to the CSV file\n",
    "    writer.writerow(biomarkers)\n"
   ]
  },
  {
   "cell_type": "code",
   "execution_count": null,
   "id": "67f1ae3a-c39e-4ebd-9de1-dab52ca891db",
   "metadata": {},
   "outputs": [],
   "source": [
    "umap_df = pd.DataFrame(data=X_reduced, columns=[\"UMAP1\", \"UMAP2\"])\n",
    "umap_df[\"group\"] = design_matrix_pnc[\"group\"].values\n",
    "umap_df.reset_index(inplace=True)\n",
    "\n",
    "\n",
    "plt.figure(figsize=(5,4))\n",
    "sns.scatterplot(umap_df, x=\"UMAP1\", y =\"UMAP2\", hue=\"group\", palette=[\"#398fcc\", \"#c42412\"])\n",
    "plt.legend(frameon=False, title=\"Severity\")\n",
    "sns.despine()\n",
    "plt.tight_layout()\n",
    "plt.xticks([])\n",
    "plt.yticks([])\n",
    "#plt.savefig(\"poster_biomarkers_umap.png\", dpi=500)"
   ]
  },
  {
   "cell_type": "code",
   "execution_count": null,
   "id": "3aa1a14b-2077-4e53-8f62-b3cbb930a517",
   "metadata": {},
   "outputs": [],
   "source": []
  },
  {
   "cell_type": "code",
   "execution_count": 28,
   "id": "7a802685-fade-4ec9-97b4-d8687083702b",
   "metadata": {},
   "outputs": [
    {
     "name": "stdout",
     "output_type": "stream",
     "text": [
      "    accuracies    losses  epoch  model\n",
      "0     0.500000  0.823395      0      0\n",
      "1     0.589286  0.730900      1      0\n",
      "2     0.607143  0.747893      2      0\n",
      "3     0.589286  0.726380      3      0\n",
      "4     0.642857  0.625840      4      0\n",
      "..         ...       ...    ...    ...\n",
      "25    0.696429  0.543170     25     19\n",
      "26    0.767857  0.513683     26     19\n",
      "27    0.803571  0.521607     27     19\n",
      "28    0.785714  0.523183     28     19\n",
      "29    0.678571  0.672476     29     19\n",
      "\n",
      "[600 rows x 4 columns]\n"
     ]
    },
    {
     "data": {
      "image/png": "[encoded data removed]",
      "text/plain": [
       "<Figure size 400x600 with 2 Axes>"
      ]
     },
     "metadata": {},
     "output_type": "display_data"
    }
   ],
   "source": [
    "import seaborn as sns\n",
    "import matplotlib.pyplot as plt\n",
    "\n",
    "all_metrics = []\n",
    "\n",
    "for model, metric in metrics_pnc.items():\n",
    "    metric[\"model\"] = [model] * len(metric[\"accuracies\"])\n",
    "    all_metrics.append(pd.DataFrame(metric))\n",
    "\n",
    "all_metrics = pd.concat(all_metrics)\n",
    "print(all_metrics)\n",
    "\n",
    "fig, axs = plt.subplots(2, 1, figsize=(4, 6), sharex=True)\n",
    "sns.lineplot(\n",
    "    all_metrics,\n",
    "    x=\"epoch\",\n",
    "    y=\"losses\",\n",
    "    hue=\"model\",\n",
    "    ax=axs[0],\n",
    "    palette=\"coolwarm\",\n",
    "    alpha=0.5,\n",
    ")\n",
    "sns.lineplot(\n",
    "    all_metrics,\n",
    "    x=\"epoch\",\n",
    "    y=\"accuracies\",\n",
    "    hue=\"model\",\n",
    "    ax=axs[1],\n",
    "    palette=\"coolwarm\",\n",
    "    alpha=0.5,\n",
    ")\n",
    "for ax in axs.ravel():\n",
    "    sns.despine(ax=ax)\n",
    "    ax.legend().remove()\n",
    "\n",
    "plt.tight_layout()\n",
    "\n",
    "\n",
    "axs[0].set_ylabel(\"Loss\")\n",
    "axs[1].set_ylabel(\"Accuracy\")\n",
    "axs[1].set_xlabel(\"Epoch\")\n",
    "plt.savefig(\"pnc_acc_loss.png\", dpi=300)"
   ]
  },
  {
   "cell_type": "code",
   "execution_count": null,
   "id": "edd41c08-ea79-48cd-a562-5030adab8d9f",
   "metadata": {},
   "outputs": [],
   "source": []
  }
 ],
 "metadata": {
  "kernelspec": {
   "display_name": "Python 3 (ipykernel)",
   "language": "python",
   "name": "python3"
  },
  "language_info": {
   "codemirror_mode": {
    "name": "ipython",
    "version": 3
   },
   "file_extension": ".py",
   "mimetype": "text/x-python",
   "name": "python",
   "nbconvert_exporter": "python",
   "pygments_lexer": "ipython3",
   "version": "3.9.6"
  }
 },
 "nbformat": 4,
 "nbformat_minor": 5
}
