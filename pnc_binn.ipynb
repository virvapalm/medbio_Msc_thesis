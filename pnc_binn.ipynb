{
 "cells": [
  {
   "cell_type": "markdown",
   "id": "79ef7c52-3b5a-409f-8824-1e1b4f4d6ad9",
   "metadata": {},
   "source": [
    "# File for Severe vs Non Severe PNC"
   ]
  },
  {
   "cell_type": "code",
   "execution_count": null,
   "id": "555872a0-36f5-42c7-8d18-8be5d404991e",
   "metadata": {},
   "outputs": [],
   "source": [
    "import pandas as pd\n",
    "\n",
    "pnc_data = pd.read_csv(\"../BINN_elin/data/pnc_data.csv\", sep=\",\")\n",
    "translation = pd.read_csv(\"../BINN_elin/data/translation.csv\", sep=\",\")\n",
    "pathways = pd.read_csv(\"../BINN_elin/data/pathway.csv\", sep=\",\")\n",
    "\n"
   ]
  },
  {
   "cell_type": "code",
   "execution_count": null,
   "id": "8cd9d760-4ed2-4640-b4d1-8aa810deeab5",
   "metadata": {},
   "outputs": [],
   "source": [
    "#sps_data.head()\n",
    "pnc_data.head()"
   ]
  },
  {
   "cell_type": "code",
   "execution_count": null,
   "id": "f2f1ff2f-9c5a-461e-88cb-86af627c514b",
   "metadata": {},
   "outputs": [],
   "source": [
    "pathways.head()\n",
    "#sps_pathways.shape"
   ]
  },
  {
   "cell_type": "code",
   "execution_count": null,
   "id": "59f9ec44-cb6f-4298-b4f5-1f62c435b417",
   "metadata": {},
   "outputs": [],
   "source": [
    "translation.head()\n",
    "#sps_pathways.shape"
   ]
  },
  {
   "cell_type": "code",
   "execution_count": null,
   "id": "1b57c2fb-d130-4535-a872-865b0e7c43fa",
   "metadata": {},
   "outputs": [],
   "source": [
    "from  binn import Network\n",
    "network_pnc = Network( \n",
    "    input_data=pnc_data,\n",
    "    pathways=pathways,\n",
    "    mapping=translation,\n",
    "    input_data_column = \"UniProt\", # specify the column for entities in input data\n",
    "    source_column = \"source\", # defined by our pathways-file\n",
    "    target_column = \"target\"\n",
    ")"
   ]
  },
  {
   "cell_type": "code",
   "execution_count": null,
   "id": "526169a4-aa6e-4abf-a6f9-6a982d27f56b",
   "metadata": {},
   "outputs": [],
   "source": [
    "from binn import BINN\n",
    "\n",
    "binn_pnc = BINN(\n",
    "    network=network_pnc,\n",
    "    n_layers=2,\n",
    "    dropout=0.2,\n",
    "    validate=False,\n",
    "    device=\"cpu\",\n",
    "    learning_rate=0.001,\n",
    "    )\n",
    "binn_pnc.layers"
   ]
  },
  {
   "cell_type": "code",
   "execution_count": null,
   "id": "ce6866db-9fcf-4691-b5e5-c4c936202891",
   "metadata": {},
   "outputs": [],
   "source": [
    "binn_pnc.trainable_params"
   ]
  },
  {
   "cell_type": "code",
   "execution_count": null,
   "id": "ba27e279-b630-4fb9-9861-bb639aebb41b",
   "metadata": {},
   "outputs": [],
   "source": [
    "layers = binn_pnc.layer_names\n",
    "layers[0][0]"
   ]
  },
  {
   "cell_type": "code",
   "execution_count": null,
   "id": "5f2136b4-52a1-4c03-8e12-84de9e4dacb4",
   "metadata": {},
   "outputs": [],
   "source": [
    "design_matrix_pnc = pd.read_csv(\"data/pnc_design_matrix.csv\", sep=',')\n",
    "#design_matrix_pnc"
   ]
  },
  {
   "cell_type": "code",
   "execution_count": null,
   "id": "8cbfcfb9-6a0f-4ae1-90da-00dffec6d8ba",
   "metadata": {},
   "outputs": [],
   "source": [
    "from docs.util_for_examples import fit_data_matrix_to_network_input, generate_data\n",
    "import torch\n",
    "from lightning.pytorch import Trainer\n",
    "\n"
   ]
  },
  {
   "cell_type": "code",
   "execution_count": null,
   "id": "bebd5362-d2f1-44c9-a126-057445115bbc",
   "metadata": {},
   "outputs": [],
   "source": [
    "print(network_pnc.inputs[:10])\n",
    "print(pnc_data.head())\n"
   ]
  },
  {
   "cell_type": "code",
   "execution_count": null,
   "id": "aca2c5fd-af18-46fe-bbf1-323210e1d483",
   "metadata": {},
   "outputs": [],
   "source": [
    "protein_matrix_pnc = fit_data_matrix_to_network_input(pnc_data, features=network_pnc.inputs, feature_column=\"UniProt\")\n",
    "\n",
    "protein_matrix_pnc.head()"
   ]
  },
  {
   "cell_type": "code",
   "execution_count": null,
   "id": "53a2a868-70e6-4cfc-a584-51ee58cfd6e6",
   "metadata": {},
   "outputs": [],
   "source": [
    "\n",
    "\n",
    "X, y = generate_data(protein_matrix_pnc, design_matrix=design_matrix_pnc)\n",
    "dataset = torch.utils.data.TensorDataset(\n",
    "    torch.tensor(X, dtype=torch.float32, device=binn_pnc.device),\n",
    "    torch.tensor(y, dtype=torch.int16, device=binn_pnc.device),\n",
    ")\n",
    "dataloader = torch.utils.data.DataLoader(dataset, batch_size=8, shuffle=True)\n",
    "\n",
    "# You can train using the Lightning Trainer\n",
    "trainer = Trainer(max_epochs=10, log_every_n_steps=10)\n",
    "#trainer.fit(binn_sps, dataloader)"
   ]
  },
  {
   "cell_type": "code",
   "execution_count": null,
   "id": "b009f615-df0c-49f9-8451-d8f4813630dc",
   "metadata": {},
   "outputs": [],
   "source": [
    "y"
   ]
  },
  {
   "cell_type": "code",
   "execution_count": null,
   "id": "fcb9df72-86db-425f-afb7-120c9d040077",
   "metadata": {},
   "outputs": [],
   "source": [
    "from binn import BINNExplainer\n",
    "\n",
    "explainer_pnc = BINNExplainer(binn_pnc)"
   ]
  },
  {
   "cell_type": "code",
   "execution_count": null,
   "id": "9978a7fd-021e-4612-8d1d-7da6268d37d7",
   "metadata": {},
   "outputs": [],
   "source": [
    "test_data = torch.Tensor(X)\n",
    "background_data = torch.Tensor(X)\n",
    "\n",
    "n_iterations = 20\n",
    "n_epochs = 30\n",
    "\n",
    "importance_df_pnc, metrics_pnc = explainer_pnc.explain_average(\n",
    "    test_data, background_data, n_iterations, n_epochs, dataloader, fast_train=True\n",
    ")\n"
   ]
  },
  {
   "cell_type": "code",
   "execution_count": null,
   "id": "cc37fbc0-cd5a-4ce9-aa0f-ec8bb2d39599",
   "metadata": {},
   "outputs": [],
   "source": [
    "metrics_pnc"
   ]
  },
  {
   "cell_type": "code",
   "execution_count": null,
   "id": "d09b469a-4de8-456f-8acb-bcdbdc9d5790",
   "metadata": {},
   "outputs": [],
   "source": [
    "import torch.nn.functional as F\n",
    "\n",
    "# You can also train with a standard PyTorch train loop \n",
    "\n",
    "optimizer = binn_pnc.configure_optimizers()[0][0]\n",
    "\n",
    "num_epochs = 30\n",
    "\n",
    "for epoch in range(num_epochs):\n",
    "    binn_pnc.train() \n",
    "    total_loss = 0.0\n",
    "    total_accuracy = 0\n",
    "\n",
    "    for batch_idx, (inputs, targets) in enumerate(dataloader):\n",
    "        inputs = inputs.to(binn_pnc.device)\n",
    "        targets = targets.to(binn_pnc.device).type(torch.LongTensor)\n",
    "        optimizer.zero_grad()\n",
    "        outputs = binn_pnc(inputs).to(binn_pnc.device)\n",
    "        loss = F.cross_entropy(outputs, targets)\n",
    "        loss.backward()\n",
    "        optimizer.step()\n",
    "        total_loss += loss.item()\n",
    "        total_accuracy += torch.sum(torch.argmax(outputs, axis=1) == targets) / len(targets)\n",
    "\n",
    "    avg_loss = total_loss / len(dataloader)\n",
    "    avg_accuracy = total_accuracy / len(dataloader)\n",
    "    print(f'Epoch {epoch}, Average Accuracy {avg_accuracy}, Average Loss: {avg_loss}')\n"
   ]
  },
  {
   "cell_type": "code",
   "execution_count": null,
   "id": "6d589236-dda2-41dc-885f-84f8619ba24f",
   "metadata": {},
   "outputs": [],
   "source": [
    "test_data = torch.Tensor(X[5:10])\n",
    "background_data = torch.Tensor(X[0:5])\n",
    "\n",
    "\n",
    "importance_df_pnc = explainer_pnc.explain(test_data, background_data)"
   ]
  },
  {
   "cell_type": "code",
   "execution_count": null,
   "id": "4a0fd88e-2168-4a44-8fa4-48e2713c1767",
   "metadata": {},
   "outputs": [],
   "source": [
    "importance_df_pnc"
   ]
  },
  {
   "cell_type": "code",
   "execution_count": null,
   "id": "0c6af7f7-ca88-4f45-8900-fe1029d651b4",
   "metadata": {},
   "outputs": [],
   "source": [
    "import seaborn as sns\n",
    "import matplotlib.pyplot as plt\n",
    "\n",
    "\n",
    "sns.jointplot(plot_df, y=\"mean\", x=\"std\", hue=\"source layer\", palette=\"coolwarm\")\n",
    "\n",
    "#plt.savefig(\"pnc_robustness.png\", dpi=500)\n"
   ]
  },
  {
   "cell_type": "markdown",
   "id": "25f3714a-99eb-459c-944c-021df71adf9a",
   "metadata": {},
   "source": [
    "# Start working from here!!"
   ]
  },
  {
   "cell_type": "code",
   "execution_count": null,
   "id": "d90429f2-e6e9-46b4-bddf-e71e86f4814b",
   "metadata": {},
   "outputs": [],
   "source": [
    "#importance_df_pnc.to_csv('data/importance_df_pnc_erik.csv', sep = '\\t', index=False)"
   ]
  },
  {
   "cell_type": "code",
   "execution_count": null,
   "id": "643f3234-0236-4274-9467-7e63bd0cce48",
   "metadata": {},
   "outputs": [],
   "source": [
    "import pandas as pd\n",
    "importance_df_pnc = pd.read_csv('data/importance_df_pnc_erik.csv', sep = '\\t')\n",
    "#importance_df_pnc = pd.read_csv('data/importance_df_pnc.csv', sep = '\\t')\n",
    "importance_df_pnc.head()"
   ]
  },
  {
   "cell_type": "code",
   "execution_count": null,
   "id": "849d426e-4039-4389-9617-3aa004bf2fd5",
   "metadata": {},
   "outputs": [],
   "source": [
    "from binn import ImportanceNetwork\n",
    "\n",
    "IG_pnc = ImportanceNetwork(importance_df_pnc, norm_method=\"fan\")\n",
    "\n",
    "#IG_pnc.importance_df.sort_values(\"value\", ascending=False).head()"
   ]
  },
  {
   "cell_type": "code",
   "execution_count": null,
   "id": "5b2cb1dc-ad58-4107-adcc-3c90fc61869e",
   "metadata": {},
   "outputs": [],
   "source": [
    "IG_pnc.plot_complete_sankey(\n",
    "    multiclass=False, node_cmap=\"coolwarm\", edge_cmap=\"coolwarm\"\n",
    ")"
   ]
  },
  {
   "cell_type": "code",
   "execution_count": null,
   "id": "70cd2a33-2494-475c-8ca7-f1d92830d774",
   "metadata": {},
   "outputs": [],
   "source": [
    "source_proteome = pd.read_csv(\"data/source.csv\", sep= \",\")\n",
    "\n",
    "source_mapping = (\n",
    "    source_proteome.set_index(\"id\").to_dict()[\"name\"]\n",
    ")\n",
    "\n",
    "source_mapping.update({\"root\": \"root\"})\n",
    "\n",
    "\n",
    "#source_mapping"
   ]
  },
  {
   "cell_type": "code",
   "execution_count": null,
   "id": "e74dd3dd-2671-4fd6-9ecd-e8e1f5caf7ff",
   "metadata": {},
   "outputs": [],
   "source": [
    "plot_df = importance_df_pnc.copy()\n",
    "plot_df[\"source name\"] = plot_df[\"source name\"].map(source_mapping)\n",
    "plot_df[\"target name\"] = plot_df[\"target name\"].map(source_mapping)\n",
    "plot_df.head()"
   ]
  },
  {
   "cell_type": "code",
   "execution_count": null,
   "id": "666418f0-5f2f-4762-9a12-fbf78088a22a",
   "metadata": {},
   "outputs": [],
   "source": [
    "from binn import ImportanceNetwork\n",
    "IG_plot = ImportanceNetwork(plot_df, norm_method=\"fan\")"
   ]
  },
  {
   "cell_type": "code",
   "execution_count": null,
   "id": "d38f2529-a455-45e2-aa6f-47a22b461487",
   "metadata": {},
   "outputs": [],
   "source": [
    "IG_plot.importance_df.head()"
   ]
  },
  {
   "cell_type": "code",
   "execution_count": null,
   "id": "a8cff4ad-f9c6-4cc9-9846-326e0b4a7940",
   "metadata": {},
   "outputs": [],
   "source": [
    "IG_plot.plot_complete_sankey(\n",
    "    multiclass=False, node_cmap=\"coolwarm\", edge_cmap=\"coolwarm\", savename='pnc_sankey_erik.png'\n",
    ")"
   ]
  },
  {
   "cell_type": "code",
   "execution_count": null,
   "id": "1c5b8967-34bc-4b28-9dac-ce8257ce744a",
   "metadata": {},
   "outputs": [],
   "source": [
    "IG_plotplot_subgraph_sankey(query_node = \"A1E959_0\")"
   ]
  },
  {
   "cell_type": "code",
   "execution_count": null,
   "id": "1f1b24eb-59b3-41b4-b92b-2ce81c5d6275",
   "metadata": {},
   "outputs": [],
   "source": [
    "#IG_sps.importance_df.to_csv('data/imp_df_sps_new.csv', sep = '\\t', index=False)"
   ]
  },
  {
   "cell_type": "markdown",
   "id": "f547e677-8ba7-4e0d-9bfa-c5d348a290b3",
   "metadata": {},
   "source": [
    "# Robustness plot"
   ]
  },
  {
   "cell_type": "code",
   "execution_count": null,
   "id": "472c3013-cd0f-412a-88d5-59d636057e8b",
   "metadata": {},
   "outputs": [],
   "source": [
    "importance_df_copy = importance_df_pnc.groupby([\"source name\", \"source layer\", \"target layer\"], as_index=False).mean(numeric_only=True)\n",
    "mean_ranks = []\n",
    "std_ranks = []\n",
    "source_layer = []\n",
    "sources = []\n",
    "for layer in range(binn_pnc.n_layers):\n",
    "    layer_df = importance_df_copy[importance_df_copy[\"source layer\"] == layer].copy()\n",
    "    for i in range(n_iterations):\n",
    "        layer_df.sort_values(f\"value_{i}\", ascending=False, inplace=True)\n",
    "        layer_df[f\"rank_{i}\"] = range(len(layer_df.index))\n",
    "    rank_cols = [c for c in layer_df.columns if c.startswith(\"rank\")]\n",
    "    mean_ranks += (layer_df[rank_cols].mean(axis=1)/ len(layer_df.index)).tolist()\n",
    "    sources += layer_df[\"source name\"].tolist()\n",
    "    std_ranks  += (layer_df[rank_cols].std(axis=1)/ len(layer_df.index)).tolist()\n",
    "    source_layer += layer_df[\"source layer\"].tolist()\n",
    "plot_df = pd.DataFrame({\"mean\":mean_ranks, \"std\":std_ranks, \"source layer\":source_layer, \"source\":sources})"
   ]
  },
  {
   "cell_type": "markdown",
   "id": "57391330-4595-456d-8ebc-587e7f36f1aa",
   "metadata": {},
   "source": [
    "# Biomarkers"
   ]
  },
  {
   "cell_type": "code",
   "execution_count": null,
   "id": "d21cdfb7-b4a1-4ac2-8df5-aabf1233ca43",
   "metadata": {},
   "outputs": [],
   "source": [
    "biomarkers = IG_plot.importance_df[IG_plot.importance_df[\"source layer\"] == 0].copy()\n",
    "biomarkers = biomarkers.groupby(\"source name\").mean(numeric_only=True)\n",
    "biomarkers = biomarkers.sort_values(\"value\", ascending=False)[\"source\"][\n",
    "    0:10\n",
    "].index.tolist()"
   ]
  },
  {
   "cell_type": "code",
   "execution_count": null,
   "id": "33a8e2d9-d3bb-4cb2-bb80-d5b7d590bd73",
   "metadata": {},
   "outputs": [],
   "source": [
    "#biomarkers.tofile('data/pnc_biomarkers.csv', sep=',', format='%s')\n",
    "biomarkers"
   ]
  },
  {
   "cell_type": "code",
   "execution_count": null,
   "id": "6db0aa33-07fe-4557-bef6-888ee8135e4d",
   "metadata": {},
   "outputs": [],
   "source": [
    "biomarkers = IG_pnc.importance_df[IG_pnc.importance_df[\"source layer\"] == 0].copy()\n",
    "biomarkers = biomarkers.groupby(\"source name\").mean(numeric_only=True)\n",
    "biomarkers = biomarkers.sort_values(\"value\", ascending=False)[\"source\"][\n",
    "    0:100\n",
    "].index.tolist()\n",
    "\n",
    "biomarker_data = protein_matrix_pnc.loc[biomarkers].fillna(0)\n",
    "\n",
    "from sklearn.preprocessing import StandardScaler\n",
    "from umap import UMAP\n",
    "\n",
    "cols = biomarker_data.columns\n",
    "index = biomarker_data.index\n",
    "biomarker_data = StandardScaler().fit_transform(biomarker_data.T).T\n",
    "\n",
    "X_reduced = UMAP(random_state=42).fit_transform(biomarker_data.T)\n",
    "\n",
    "row_colors = design_matrix_pnc[\"group\"].map({1: \"#398fcc\", 2: \"#c42412\"}).values\n",
    "\n",
    "biomarker_data = pd.DataFrame(data=biomarker_data, columns=cols, index=index)\n",
    "\n",
    "g = sns.clustermap(\n",
    "    biomarker_data,\n",
    "    col_colors=row_colors,\n",
    "    figsize=(5, 6),\n",
    "    vmin=-2,\n",
    "    vmax=2,\n",
    "    cmap=\"coolwarm\",\n",
    "    cbar_kws={\"label\": \"z-score\"},\n",
    ")\n",
    "#g.ax_heatmap.set_xticks([])"
   ]
  },
  {
   "cell_type": "code",
   "execution_count": null,
   "id": "923acaa5-e8af-4ff6-b351-3384c8dc56ac",
   "metadata": {},
   "outputs": [],
   "source": [
    "import csv\n",
    "\n",
    "# Open a CSV file in write mode\n",
    "with open('data/pnc_biomarkers_new.csv', 'w', newline='') as csvfile:\n",
    "    # Create a CSV writer object\n",
    "    writer = csv.writer(csvfile, delimiter=',')\n",
    "    \n",
    "    # Write the biomarkers to the CSV file\n",
    "    writer.writerow(biomarkers)\n"
   ]
  },
  {
   "cell_type": "code",
   "execution_count": null,
   "id": "67f1ae3a-c39e-4ebd-9de1-dab52ca891db",
   "metadata": {},
   "outputs": [],
   "source": [
    "umap_df = pd.DataFrame(data=X_reduced, columns=[\"UMAP1\", \"UMAP2\"])\n",
    "umap_df[\"group\"] = design_matrix_pnc[\"group\"].values\n",
    "umap_df.reset_index(inplace=True)\n",
    "\n",
    "\n",
    "plt.figure(figsize=(5,4))\n",
    "sns.scatterplot(umap_df, x=\"UMAP1\", y =\"UMAP2\", hue=\"group\", palette=[\"#398fcc\", \"#c42412\"])\n",
    "plt.legend(frameon=False, title=\"Severity\")\n",
    "sns.despine()\n",
    "plt.tight_layout()\n",
    "plt.xticks([])\n",
    "plt.yticks([])\n",
    "#plt.savefig(\"poster_biomarkers_umap.png\", dpi=500)"
   ]
  },
  {
   "cell_type": "code",
   "execution_count": null,
   "id": "3aa1a14b-2077-4e53-8f62-b3cbb930a517",
   "metadata": {},
   "outputs": [],
   "source": []
  },
  {
   "cell_type": "code",
   "execution_count": null,
   "id": "7a802685-fade-4ec9-97b4-d8687083702b",
   "metadata": {},
   "outputs": [],
   "source": [
    "import seaborn as sns\n",
    "import matplotlib.pyplot as plt\n",
    "\n",
    "all_metrics = []\n",
    "\n",
    "for model, metric in metrics_pnc.items():\n",
    "    metric[\"model\"] = [model] * len(metric[\"accuracies\"])\n",
    "    all_metrics.append(pd.DataFrame(metric))\n",
    "\n",
    "all_metrics = pd.concat(all_metrics)\n",
    "print(all_metrics)\n",
    "\n",
    "fig, axs = plt.subplots(2, 1, figsize=(4, 6), sharex=True)\n",
    "sns.lineplot(\n",
    "    all_metrics,\n",
    "    x=\"epoch\",\n",
    "    y=\"losses\",\n",
    "    hue=\"model\",\n",
    "    ax=axs[0],\n",
    "    palette=\"coolwarm\",\n",
    "    alpha=0.5,\n",
    ")\n",
    "sns.lineplot(\n",
    "    all_metrics,\n",
    "    x=\"epoch\",\n",
    "    y=\"accuracies\",\n",
    "    hue=\"model\",\n",
    "    ax=axs[1],\n",
    "    palette=\"coolwarm\",\n",
    "    alpha=0.5,\n",
    ")\n",
    "for ax in axs.ravel():\n",
    "    sns.despine(ax=ax)\n",
    "    ax.legend().remove()\n",
    "\n",
    "plt.tight_layout()\n",
    "\n",
    "\n",
    "axs[0].set_ylabel(\"Loss\")\n",
    "axs[1].set_ylabel(\"Accuracy\")\n",
    "axs[1].set_xlabel(\"Epoch\")\n",
    "plt.savefig(\"pnc_acc_loss.png\", dpi=300)"
   ]
  },
  {
   "cell_type": "code",
   "execution_count": null,
   "id": "edd41c08-ea79-48cd-a562-5030adab8d9f",
   "metadata": {},
   "outputs": [],
   "source": []
  }
 ],
 "metadata": {
  "kernelspec": {
   "display_name": "Python 3 (ipykernel)",
   "language": "python",
   "name": "python3"
  },
  "language_info": {
   "codemirror_mode": {
    "name": "ipython",
    "version": 3
   },
   "file_extension": ".py",
   "mimetype": "text/x-python",
   "name": "python",
   "nbconvert_exporter": "python",
   "pygments_lexer": "ipython3",
   "version": "3.9.6"
  }
 },
 "nbformat": 4,
 "nbformat_minor": 5
}
